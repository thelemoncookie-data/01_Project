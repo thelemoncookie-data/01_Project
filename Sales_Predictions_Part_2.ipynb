{
  "cells": [
    {
      "cell_type": "markdown",
      "metadata": {
        "id": "view-in-github",
        "colab_type": "text"
      },
      "source": [
        "<a href=\"https://colab.research.google.com/github/thelemoncookie-data/01_Project/blob/main/Sales_Predictions_Part_2.ipynb\" target=\"_parent\"><img src=\"https://colab.research.google.com/assets/colab-badge.svg\" alt=\"Open In Colab\"/></a>"
      ]
    },
    {
      "cell_type": "markdown",
      "metadata": {
        "id": "Q_tb-sWKv1F2"
      },
      "source": [
        "## Darlene Phan\n",
        "July 8, 2022\n",
        "Part 1"
      ]
    },
    {
      "cell_type": "code",
      "execution_count": 50,
      "metadata": {
        "id": "DW4pH8dqjVyX"
      },
      "outputs": [],
      "source": [
        "import pandas as pd\n",
        "import matplotlib.pyplot as plt\n",
        "import numpy as np\n",
        "import seaborn as sns\n",
        "import matplotlib as mpl"
      ]
    },
    {
      "cell_type": "code",
      "source": [
        "from google.colab import drive\n",
        "drive.mount('/content/drive')"
      ],
      "metadata": {
        "colab": {
          "base_uri": "https://localhost:8080/"
        },
        "id": "kAXvvC5fY0Z4",
        "outputId": "d11dbb78-166f-423a-c059-6509431b7b0e"
      },
      "execution_count": 2,
      "outputs": [
        {
          "output_type": "stream",
          "name": "stdout",
          "text": [
            "Mounted at /content/drive\n"
          ]
        }
      ]
    },
    {
      "cell_type": "code",
      "source": [
        "sales = pd.read_csv('/content/drive/MyDrive/02 Week 2: Pandas/sales_predictions (2).csv')"
      ],
      "metadata": {
        "id": "iEJoddueZK6H"
      },
      "execution_count": 3,
      "outputs": []
    },
    {
      "cell_type": "markdown",
      "source": [
        "## Part 2"
      ],
      "metadata": {
        "id": "I9-iiuDta9tn"
      }
    },
    {
      "cell_type": "code",
      "execution_count": 4,
      "metadata": {
        "colab": {
          "base_uri": "https://localhost:8080/",
          "height": 206
        },
        "id": "--tTOvUTjjbp",
        "outputId": "1e61259c-20e6-475c-df98-d4239eeeefed"
      },
      "outputs": [
        {
          "output_type": "execute_result",
          "data": {
            "text/plain": [
              "  item_id  item_weight item_fat_content  item_visibility  \\\n",
              "0   FDA15         9.30          Low Fat         0.016047   \n",
              "1   DRC01         5.92          Regular         0.019278   \n",
              "2   FDN15        17.50          Low Fat         0.016760   \n",
              "3   FDX07        19.20          Regular         0.000000   \n",
              "4   NCD19         8.93          Low Fat         0.000000   \n",
              "\n",
              "               item_type       mrp outlet_id  est_year outlet_size loc_type  \\\n",
              "0                  Dairy  249.8092    OUT049      1999      Medium   Tier 1   \n",
              "1            Soft Drinks   48.2692    OUT018      2009      Medium   Tier 3   \n",
              "2                   Meat  141.6180    OUT049      1999      Medium   Tier 1   \n",
              "3  Fruits and Vegetables  182.0950    OUT010      1998         NaN   Tier 3   \n",
              "4              Household   53.8614    OUT013      1987        High   Tier 3   \n",
              "\n",
              "         outlet_type  item_sales  \n",
              "0  Supermarket Type1   3735.1380  \n",
              "1  Supermarket Type2    443.4228  \n",
              "2  Supermarket Type1   2097.2700  \n",
              "3      Grocery Store    732.3800  \n",
              "4  Supermarket Type1    994.7052  "
            ],
            "text/html": [
              "\n",
              "  <div id=\"df-78044db5-c27f-4fa9-8c15-0180d7c1f59c\">\n",
              "    <div class=\"colab-df-container\">\n",
              "      <div>\n",
              "<style scoped>\n",
              "    .dataframe tbody tr th:only-of-type {\n",
              "        vertical-align: middle;\n",
              "    }\n",
              "\n",
              "    .dataframe tbody tr th {\n",
              "        vertical-align: top;\n",
              "    }\n",
              "\n",
              "    .dataframe thead th {\n",
              "        text-align: right;\n",
              "    }\n",
              "</style>\n",
              "<table border=\"1\" class=\"dataframe\">\n",
              "  <thead>\n",
              "    <tr style=\"text-align: right;\">\n",
              "      <th></th>\n",
              "      <th>item_id</th>\n",
              "      <th>item_weight</th>\n",
              "      <th>item_fat_content</th>\n",
              "      <th>item_visibility</th>\n",
              "      <th>item_type</th>\n",
              "      <th>mrp</th>\n",
              "      <th>outlet_id</th>\n",
              "      <th>est_year</th>\n",
              "      <th>outlet_size</th>\n",
              "      <th>loc_type</th>\n",
              "      <th>outlet_type</th>\n",
              "      <th>item_sales</th>\n",
              "    </tr>\n",
              "  </thead>\n",
              "  <tbody>\n",
              "    <tr>\n",
              "      <th>0</th>\n",
              "      <td>FDA15</td>\n",
              "      <td>9.30</td>\n",
              "      <td>Low Fat</td>\n",
              "      <td>0.016047</td>\n",
              "      <td>Dairy</td>\n",
              "      <td>249.8092</td>\n",
              "      <td>OUT049</td>\n",
              "      <td>1999</td>\n",
              "      <td>Medium</td>\n",
              "      <td>Tier 1</td>\n",
              "      <td>Supermarket Type1</td>\n",
              "      <td>3735.1380</td>\n",
              "    </tr>\n",
              "    <tr>\n",
              "      <th>1</th>\n",
              "      <td>DRC01</td>\n",
              "      <td>5.92</td>\n",
              "      <td>Regular</td>\n",
              "      <td>0.019278</td>\n",
              "      <td>Soft Drinks</td>\n",
              "      <td>48.2692</td>\n",
              "      <td>OUT018</td>\n",
              "      <td>2009</td>\n",
              "      <td>Medium</td>\n",
              "      <td>Tier 3</td>\n",
              "      <td>Supermarket Type2</td>\n",
              "      <td>443.4228</td>\n",
              "    </tr>\n",
              "    <tr>\n",
              "      <th>2</th>\n",
              "      <td>FDN15</td>\n",
              "      <td>17.50</td>\n",
              "      <td>Low Fat</td>\n",
              "      <td>0.016760</td>\n",
              "      <td>Meat</td>\n",
              "      <td>141.6180</td>\n",
              "      <td>OUT049</td>\n",
              "      <td>1999</td>\n",
              "      <td>Medium</td>\n",
              "      <td>Tier 1</td>\n",
              "      <td>Supermarket Type1</td>\n",
              "      <td>2097.2700</td>\n",
              "    </tr>\n",
              "    <tr>\n",
              "      <th>3</th>\n",
              "      <td>FDX07</td>\n",
              "      <td>19.20</td>\n",
              "      <td>Regular</td>\n",
              "      <td>0.000000</td>\n",
              "      <td>Fruits and Vegetables</td>\n",
              "      <td>182.0950</td>\n",
              "      <td>OUT010</td>\n",
              "      <td>1998</td>\n",
              "      <td>NaN</td>\n",
              "      <td>Tier 3</td>\n",
              "      <td>Grocery Store</td>\n",
              "      <td>732.3800</td>\n",
              "    </tr>\n",
              "    <tr>\n",
              "      <th>4</th>\n",
              "      <td>NCD19</td>\n",
              "      <td>8.93</td>\n",
              "      <td>Low Fat</td>\n",
              "      <td>0.000000</td>\n",
              "      <td>Household</td>\n",
              "      <td>53.8614</td>\n",
              "      <td>OUT013</td>\n",
              "      <td>1987</td>\n",
              "      <td>High</td>\n",
              "      <td>Tier 3</td>\n",
              "      <td>Supermarket Type1</td>\n",
              "      <td>994.7052</td>\n",
              "    </tr>\n",
              "  </tbody>\n",
              "</table>\n",
              "</div>\n",
              "      <button class=\"colab-df-convert\" onclick=\"convertToInteractive('df-78044db5-c27f-4fa9-8c15-0180d7c1f59c')\"\n",
              "              title=\"Convert this dataframe to an interactive table.\"\n",
              "              style=\"display:none;\">\n",
              "        \n",
              "  <svg xmlns=\"http://www.w3.org/2000/svg\" height=\"24px\"viewBox=\"0 0 24 24\"\n",
              "       width=\"24px\">\n",
              "    <path d=\"M0 0h24v24H0V0z\" fill=\"none\"/>\n",
              "    <path d=\"M18.56 5.44l.94 2.06.94-2.06 2.06-.94-2.06-.94-.94-2.06-.94 2.06-2.06.94zm-11 1L8.5 8.5l.94-2.06 2.06-.94-2.06-.94L8.5 2.5l-.94 2.06-2.06.94zm10 10l.94 2.06.94-2.06 2.06-.94-2.06-.94-.94-2.06-.94 2.06-2.06.94z\"/><path d=\"M17.41 7.96l-1.37-1.37c-.4-.4-.92-.59-1.43-.59-.52 0-1.04.2-1.43.59L10.3 9.45l-7.72 7.72c-.78.78-.78 2.05 0 2.83L4 21.41c.39.39.9.59 1.41.59.51 0 1.02-.2 1.41-.59l7.78-7.78 2.81-2.81c.8-.78.8-2.07 0-2.86zM5.41 20L4 18.59l7.72-7.72 1.47 1.35L5.41 20z\"/>\n",
              "  </svg>\n",
              "      </button>\n",
              "      \n",
              "  <style>\n",
              "    .colab-df-container {\n",
              "      display:flex;\n",
              "      flex-wrap:wrap;\n",
              "      gap: 12px;\n",
              "    }\n",
              "\n",
              "    .colab-df-convert {\n",
              "      background-color: #E8F0FE;\n",
              "      border: none;\n",
              "      border-radius: 50%;\n",
              "      cursor: pointer;\n",
              "      display: none;\n",
              "      fill: #1967D2;\n",
              "      height: 32px;\n",
              "      padding: 0 0 0 0;\n",
              "      width: 32px;\n",
              "    }\n",
              "\n",
              "    .colab-df-convert:hover {\n",
              "      background-color: #E2EBFA;\n",
              "      box-shadow: 0px 1px 2px rgba(60, 64, 67, 0.3), 0px 1px 3px 1px rgba(60, 64, 67, 0.15);\n",
              "      fill: #174EA6;\n",
              "    }\n",
              "\n",
              "    [theme=dark] .colab-df-convert {\n",
              "      background-color: #3B4455;\n",
              "      fill: #D2E3FC;\n",
              "    }\n",
              "\n",
              "    [theme=dark] .colab-df-convert:hover {\n",
              "      background-color: #434B5C;\n",
              "      box-shadow: 0px 1px 3px 1px rgba(0, 0, 0, 0.15);\n",
              "      filter: drop-shadow(0px 1px 2px rgba(0, 0, 0, 0.3));\n",
              "      fill: #FFFFFF;\n",
              "    }\n",
              "  </style>\n",
              "\n",
              "      <script>\n",
              "        const buttonEl =\n",
              "          document.querySelector('#df-78044db5-c27f-4fa9-8c15-0180d7c1f59c button.colab-df-convert');\n",
              "        buttonEl.style.display =\n",
              "          google.colab.kernel.accessAllowed ? 'block' : 'none';\n",
              "\n",
              "        async function convertToInteractive(key) {\n",
              "          const element = document.querySelector('#df-78044db5-c27f-4fa9-8c15-0180d7c1f59c');\n",
              "          const dataTable =\n",
              "            await google.colab.kernel.invokeFunction('convertToInteractive',\n",
              "                                                     [key], {});\n",
              "          if (!dataTable) return;\n",
              "\n",
              "          const docLinkHtml = 'Like what you see? Visit the ' +\n",
              "            '<a target=\"_blank\" href=https://colab.research.google.com/notebooks/data_table.ipynb>data table notebook</a>'\n",
              "            + ' to learn more about interactive tables.';\n",
              "          element.innerHTML = '';\n",
              "          dataTable['output_type'] = 'display_data';\n",
              "          await google.colab.output.renderOutput(dataTable, element);\n",
              "          const docLink = document.createElement('div');\n",
              "          docLink.innerHTML = docLinkHtml;\n",
              "          element.appendChild(docLink);\n",
              "        }\n",
              "      </script>\n",
              "    </div>\n",
              "  </div>\n",
              "  "
            ]
          },
          "metadata": {},
          "execution_count": 4
        }
      ],
      "source": [
        "rename = {'Item_Identifier': 'item_id',\n",
        "'Item_Weight': 'item_weight',\n",
        "'Item_Fat_Content': 'item_fat_content',\n",
        "'Item_Visibility': 'item_visibility',\n",
        "'Item_Type': 'item_type',\n",
        "'Item_MRP': 'mrp',\n",
        "'Outlet_Identifier': 'outlet_id',\n",
        "'Outlet_Establishment_Year': 'est_year',\n",
        "'Outlet_Size': 'outlet_size',\n",
        "'Outlet_Location_Type': 'loc_type',\n",
        "'Outlet_Type': 'outlet_type',\n",
        "'Item_Outlet_Sales': 'item_sales'\n",
        "}\n",
        "sales.rename(columns=rename, inplace=True)\n",
        "sales.head()"
      ]
    },
    {
      "cell_type": "code",
      "execution_count": 6,
      "metadata": {
        "colab": {
          "base_uri": "https://localhost:8080/"
        },
        "id": "krdqaD54jf3N",
        "outputId": "31eafb31-cfe3-4b2a-cc6c-ef6544b2c2a5"
      },
      "outputs": [
        {
          "output_type": "execute_result",
          "data": {
            "text/plain": [
              "(8523, 12)"
            ]
          },
          "metadata": {},
          "execution_count": 6
        }
      ],
      "source": [
        "sales.shape"
      ]
    },
    {
      "cell_type": "code",
      "execution_count": 7,
      "metadata": {
        "colab": {
          "base_uri": "https://localhost:8080/"
        },
        "id": "ndzDtGq8jf6I",
        "outputId": "5a8538e9-d39b-4fa4-8511-394d13f8cb47"
      },
      "outputs": [
        {
          "output_type": "stream",
          "name": "stdout",
          "text": [
            "<class 'pandas.core.frame.DataFrame'>\n",
            "RangeIndex: 8523 entries, 0 to 8522\n",
            "Data columns (total 12 columns):\n",
            " #   Column            Non-Null Count  Dtype  \n",
            "---  ------            --------------  -----  \n",
            " 0   item_id           8523 non-null   object \n",
            " 1   item_weight       7060 non-null   float64\n",
            " 2   item_fat_content  8523 non-null   object \n",
            " 3   item_visibility   8523 non-null   float64\n",
            " 4   item_type         8523 non-null   object \n",
            " 5   mrp               8523 non-null   float64\n",
            " 6   outlet_id         8523 non-null   object \n",
            " 7   est_year          8523 non-null   int64  \n",
            " 8   outlet_size       6113 non-null   object \n",
            " 9   loc_type          8523 non-null   object \n",
            " 10  outlet_type       8523 non-null   object \n",
            " 11  item_sales        8523 non-null   float64\n",
            "dtypes: float64(4), int64(1), object(7)\n",
            "memory usage: 799.2+ KB\n"
          ]
        }
      ],
      "source": [
        "sales.info()"
      ]
    },
    {
      "cell_type": "code",
      "execution_count": 8,
      "metadata": {
        "colab": {
          "base_uri": "https://localhost:8080/"
        },
        "id": "3iFHMB9djf8Z",
        "outputId": "a7810dd1-fedb-49d3-a04f-84b379577c28"
      },
      "outputs": [
        {
          "output_type": "execute_result",
          "data": {
            "text/plain": [
              "0"
            ]
          },
          "metadata": {},
          "execution_count": 8
        }
      ],
      "source": [
        "#checking for duplicates\n",
        "sales.duplicated().sum()"
      ]
    },
    {
      "cell_type": "code",
      "execution_count": 9,
      "metadata": {
        "id": "J2WAFaOEjrsl"
      },
      "outputs": [],
      "source": [
        "## These cols dont contribute much to sales perdictions. Outlet size might contribute a little but overall not that much. \n",
        "sales = sales.drop(columns=['item_weight','outlet_size'])"
      ]
    },
    {
      "cell_type": "code",
      "execution_count": 10,
      "metadata": {
        "colab": {
          "base_uri": "https://localhost:8080/"
        },
        "id": "ieyEW3a3jrvK",
        "outputId": "3e0a4424-187b-4d5c-c0ea-23511204e6f9"
      },
      "outputs": [
        {
          "output_type": "execute_result",
          "data": {
            "text/plain": [
              "item_id             0\n",
              "item_fat_content    0\n",
              "item_visibility     0\n",
              "item_type           0\n",
              "mrp                 0\n",
              "outlet_id           0\n",
              "est_year            0\n",
              "loc_type            0\n",
              "outlet_type         0\n",
              "item_sales          0\n",
              "dtype: int64"
            ]
          },
          "metadata": {},
          "execution_count": 10
        }
      ],
      "source": [
        "sales.isnull().sum()"
      ]
    },
    {
      "cell_type": "code",
      "execution_count": 11,
      "metadata": {
        "colab": {
          "base_uri": "https://localhost:8080/"
        },
        "id": "nYDuxOMSjgAy",
        "outputId": "b42a1866-21b1-4b39-b5be-2378d29dc2a4"
      },
      "outputs": [
        {
          "output_type": "execute_result",
          "data": {
            "text/plain": [
              "array(['Low Fat', 'Regular'], dtype=object)"
            ]
          },
          "metadata": {},
          "execution_count": 11
        }
      ],
      "source": [
        "#adjusting categorical errors\n",
        "sales['item_fat_content'] = sales['item_fat_content'].replace('LF', 'Low Fat')\n",
        "sales['item_fat_content'] = sales['item_fat_content'].replace('low fat', 'Low Fat')\n",
        "sales['item_fat_content'] = sales['item_fat_content'].replace('reg', 'Regular')\n",
        "sales.item_fat_content.unique()"
      ]
    },
    {
      "cell_type": "code",
      "execution_count": 12,
      "metadata": {
        "colab": {
          "base_uri": "https://localhost:8080/",
          "height": 300
        },
        "id": "I9FDqxbpj2xu",
        "outputId": "6a67886e-7531-4b30-d118-7a02295da846"
      },
      "outputs": [
        {
          "output_type": "execute_result",
          "data": {
            "text/plain": [
              "       item_visibility          mrp     est_year    item_sales\n",
              "count      8523.000000  8523.000000  8523.000000   8523.000000\n",
              "mean          0.066132   140.992782  1997.831867   2181.288914\n",
              "std           0.051598    62.275067     8.371760   1706.499616\n",
              "min           0.000000    31.290000  1985.000000     33.290000\n",
              "25%           0.026989    93.826500  1987.000000    834.247400\n",
              "50%           0.053931   143.012800  1999.000000   1794.331000\n",
              "75%           0.094585   185.643700  2004.000000   3101.296400\n",
              "max           0.328391   266.888400  2009.000000  13086.964800"
            ],
            "text/html": [
              "\n",
              "  <div id=\"df-935ebcab-645d-4419-94bf-2105045998f0\">\n",
              "    <div class=\"colab-df-container\">\n",
              "      <div>\n",
              "<style scoped>\n",
              "    .dataframe tbody tr th:only-of-type {\n",
              "        vertical-align: middle;\n",
              "    }\n",
              "\n",
              "    .dataframe tbody tr th {\n",
              "        vertical-align: top;\n",
              "    }\n",
              "\n",
              "    .dataframe thead th {\n",
              "        text-align: right;\n",
              "    }\n",
              "</style>\n",
              "<table border=\"1\" class=\"dataframe\">\n",
              "  <thead>\n",
              "    <tr style=\"text-align: right;\">\n",
              "      <th></th>\n",
              "      <th>item_visibility</th>\n",
              "      <th>mrp</th>\n",
              "      <th>est_year</th>\n",
              "      <th>item_sales</th>\n",
              "    </tr>\n",
              "  </thead>\n",
              "  <tbody>\n",
              "    <tr>\n",
              "      <th>count</th>\n",
              "      <td>8523.000000</td>\n",
              "      <td>8523.000000</td>\n",
              "      <td>8523.000000</td>\n",
              "      <td>8523.000000</td>\n",
              "    </tr>\n",
              "    <tr>\n",
              "      <th>mean</th>\n",
              "      <td>0.066132</td>\n",
              "      <td>140.992782</td>\n",
              "      <td>1997.831867</td>\n",
              "      <td>2181.288914</td>\n",
              "    </tr>\n",
              "    <tr>\n",
              "      <th>std</th>\n",
              "      <td>0.051598</td>\n",
              "      <td>62.275067</td>\n",
              "      <td>8.371760</td>\n",
              "      <td>1706.499616</td>\n",
              "    </tr>\n",
              "    <tr>\n",
              "      <th>min</th>\n",
              "      <td>0.000000</td>\n",
              "      <td>31.290000</td>\n",
              "      <td>1985.000000</td>\n",
              "      <td>33.290000</td>\n",
              "    </tr>\n",
              "    <tr>\n",
              "      <th>25%</th>\n",
              "      <td>0.026989</td>\n",
              "      <td>93.826500</td>\n",
              "      <td>1987.000000</td>\n",
              "      <td>834.247400</td>\n",
              "    </tr>\n",
              "    <tr>\n",
              "      <th>50%</th>\n",
              "      <td>0.053931</td>\n",
              "      <td>143.012800</td>\n",
              "      <td>1999.000000</td>\n",
              "      <td>1794.331000</td>\n",
              "    </tr>\n",
              "    <tr>\n",
              "      <th>75%</th>\n",
              "      <td>0.094585</td>\n",
              "      <td>185.643700</td>\n",
              "      <td>2004.000000</td>\n",
              "      <td>3101.296400</td>\n",
              "    </tr>\n",
              "    <tr>\n",
              "      <th>max</th>\n",
              "      <td>0.328391</td>\n",
              "      <td>266.888400</td>\n",
              "      <td>2009.000000</td>\n",
              "      <td>13086.964800</td>\n",
              "    </tr>\n",
              "  </tbody>\n",
              "</table>\n",
              "</div>\n",
              "      <button class=\"colab-df-convert\" onclick=\"convertToInteractive('df-935ebcab-645d-4419-94bf-2105045998f0')\"\n",
              "              title=\"Convert this dataframe to an interactive table.\"\n",
              "              style=\"display:none;\">\n",
              "        \n",
              "  <svg xmlns=\"http://www.w3.org/2000/svg\" height=\"24px\"viewBox=\"0 0 24 24\"\n",
              "       width=\"24px\">\n",
              "    <path d=\"M0 0h24v24H0V0z\" fill=\"none\"/>\n",
              "    <path d=\"M18.56 5.44l.94 2.06.94-2.06 2.06-.94-2.06-.94-.94-2.06-.94 2.06-2.06.94zm-11 1L8.5 8.5l.94-2.06 2.06-.94-2.06-.94L8.5 2.5l-.94 2.06-2.06.94zm10 10l.94 2.06.94-2.06 2.06-.94-2.06-.94-.94-2.06-.94 2.06-2.06.94z\"/><path d=\"M17.41 7.96l-1.37-1.37c-.4-.4-.92-.59-1.43-.59-.52 0-1.04.2-1.43.59L10.3 9.45l-7.72 7.72c-.78.78-.78 2.05 0 2.83L4 21.41c.39.39.9.59 1.41.59.51 0 1.02-.2 1.41-.59l7.78-7.78 2.81-2.81c.8-.78.8-2.07 0-2.86zM5.41 20L4 18.59l7.72-7.72 1.47 1.35L5.41 20z\"/>\n",
              "  </svg>\n",
              "      </button>\n",
              "      \n",
              "  <style>\n",
              "    .colab-df-container {\n",
              "      display:flex;\n",
              "      flex-wrap:wrap;\n",
              "      gap: 12px;\n",
              "    }\n",
              "\n",
              "    .colab-df-convert {\n",
              "      background-color: #E8F0FE;\n",
              "      border: none;\n",
              "      border-radius: 50%;\n",
              "      cursor: pointer;\n",
              "      display: none;\n",
              "      fill: #1967D2;\n",
              "      height: 32px;\n",
              "      padding: 0 0 0 0;\n",
              "      width: 32px;\n",
              "    }\n",
              "\n",
              "    .colab-df-convert:hover {\n",
              "      background-color: #E2EBFA;\n",
              "      box-shadow: 0px 1px 2px rgba(60, 64, 67, 0.3), 0px 1px 3px 1px rgba(60, 64, 67, 0.15);\n",
              "      fill: #174EA6;\n",
              "    }\n",
              "\n",
              "    [theme=dark] .colab-df-convert {\n",
              "      background-color: #3B4455;\n",
              "      fill: #D2E3FC;\n",
              "    }\n",
              "\n",
              "    [theme=dark] .colab-df-convert:hover {\n",
              "      background-color: #434B5C;\n",
              "      box-shadow: 0px 1px 3px 1px rgba(0, 0, 0, 0.15);\n",
              "      filter: drop-shadow(0px 1px 2px rgba(0, 0, 0, 0.3));\n",
              "      fill: #FFFFFF;\n",
              "    }\n",
              "  </style>\n",
              "\n",
              "      <script>\n",
              "        const buttonEl =\n",
              "          document.querySelector('#df-935ebcab-645d-4419-94bf-2105045998f0 button.colab-df-convert');\n",
              "        buttonEl.style.display =\n",
              "          google.colab.kernel.accessAllowed ? 'block' : 'none';\n",
              "\n",
              "        async function convertToInteractive(key) {\n",
              "          const element = document.querySelector('#df-935ebcab-645d-4419-94bf-2105045998f0');\n",
              "          const dataTable =\n",
              "            await google.colab.kernel.invokeFunction('convertToInteractive',\n",
              "                                                     [key], {});\n",
              "          if (!dataTable) return;\n",
              "\n",
              "          const docLinkHtml = 'Like what you see? Visit the ' +\n",
              "            '<a target=\"_blank\" href=https://colab.research.google.com/notebooks/data_table.ipynb>data table notebook</a>'\n",
              "            + ' to learn more about interactive tables.';\n",
              "          element.innerHTML = '';\n",
              "          dataTable['output_type'] = 'display_data';\n",
              "          await google.colab.output.renderOutput(dataTable, element);\n",
              "          const docLink = document.createElement('div');\n",
              "          docLink.innerHTML = docLinkHtml;\n",
              "          element.appendChild(docLink);\n",
              "        }\n",
              "      </script>\n",
              "    </div>\n",
              "  </div>\n",
              "  "
            ]
          },
          "metadata": {},
          "execution_count": 12
        }
      ],
      "source": [
        "sales.describe() "
      ]
    },
    {
      "cell_type": "markdown",
      "source": [
        "## Part 3\n"
      ],
      "metadata": {
        "id": "iHwRBXROa3-T"
      }
    },
    {
      "cell_type": "code",
      "execution_count": 13,
      "metadata": {
        "id": "LEuyKFOtjgKC",
        "colab": {
          "base_uri": "https://localhost:8080/",
          "height": 393
        },
        "outputId": "197a1ab1-28fe-4bab-e8da-2f14fa2339ab"
      },
      "outputs": [
        {
          "output_type": "display_data",
          "data": {
            "text/plain": [
              "<Figure size 720x432 with 2 Axes>"
            ],
            "image/png": "[encoded data removed]"
          },
          "metadata": {
            "needs_background": "light"
          }
        }
      ],
      "source": [
        "#Heatmap\n",
        "corr = sales.corr()\n",
        "plt.figure(figsize=(10,6),)\n",
        "sns.heatmap(corr, cmap='Greens', annot=True)\n",
        "plt.title('Heatmap Correlation', fontsize=15)\n",
        "plt.show()"
      ]
    },
    {
      "cell_type": "code",
      "execution_count": 16,
      "metadata": {
        "colab": {
          "base_uri": "https://localhost:8080/",
          "height": 338
        },
        "id": "wS6b1UlAYpuP",
        "outputId": "147ab487-0d55-45e6-9b42-45faf9def330"
      },
      "outputs": [
        {
          "output_type": "display_data",
          "data": {
            "text/plain": [
              "<Figure size 720x360 with 1 Axes>"
            ],
            "image/png": "[encoded data removed]"
          },
          "metadata": {
            "needs_background": "light"
          }
        }
      ],
      "source": [
        "#Histogram\n",
        "plt.figure(figsize=(10,5))\n",
        "plt.hist(sales['item_sales'], alpha=.8, bins=35, edgecolor='w')\n",
        "plt.title('Item Outlet Sales Distribution', fontsize=15)\n",
        "plt.show()"
      ]
    },
    {
      "cell_type": "code",
      "execution_count": 17,
      "metadata": {
        "colab": {
          "base_uri": "https://localhost:8080/",
          "height": 585
        },
        "id": "a0hAn3_wYpuQ",
        "outputId": "8fe4d353-2285-407b-a832-d796fd1d953b"
      },
      "outputs": [
        {
          "output_type": "display_data",
          "data": {
            "text/plain": [
              "<Figure size 432x576 with 1 Axes>"
            ],
            "image/png": "[encoded data removed]"
          },
          "metadata": {
            "needs_background": "light"
          }
        }
      ],
      "source": [
        "#Boxplot\n",
        "plt.figure(figsize=(6,8))\n",
        "sns.boxplot(data=sales, x='loc_type', y='item_sales')\n",
        "plt.title('Item Outlet Sales by Outlet Location Type', fontsize=15)\n",
        "plt.xlabel('Outlet Location Type', fontsize=12)\n",
        "plt.ylabel('Item Outlet Sales', fontsize=12)\n",
        "plt.tight_layout()\n",
        "plt.show()"
      ]
    },
    {
      "cell_type": "markdown",
      "source": [
        "## Part 4"
      ],
      "metadata": {
        "id": "DWWVgqSPayBv"
      }
    },
    {
      "cell_type": "code",
      "source": [
        "type1 = sales[sales['outlet_type'] == 'Supermarket Type1']['item_sales']\n",
        "type2 = sales[sales['outlet_type'] == 'Supermarket Type2']['item_sales']\n",
        "type3 = sales[sales['outlet_type'] == 'Supermarket Type3']['item_sales']\n",
        "grocery_store = sales[sales['outlet_type'] == 'Grocery Store']['item_sales']\n",
        "\n",
        "plt.style.use('seaborn-whitegrid')\n",
        "sequential_colors = sns.color_palette(\"mako\", 10)\n",
        "\n",
        "plt.figure(figsize=(12,10))\n",
        "plt.suptitle('Sales Distribution by Outlet Type', fontsize=25)\n",
        "\n",
        "plt.subplot(2,2,1)\n",
        "plt.hist(sales['item_sales'], alpha=.8, label = 'Total Item Sales', bins=20)\n",
        "plt.hist(type1, alpha=.6, label='Supermarket Type 1', bins=20)\n",
        "plt.title('Supermarket Type 1', fontsize=15)\n",
        "\n",
        "plt.subplot(2,2,2)\n",
        "plt.hist(sales['item_sales'], alpha=.8, label = 'Total Item Sales', bins=20)\n",
        "plt.hist(type2, alpha=.6, label='Supermarket Type 2', bins=20)\n",
        "plt.title('Supermarket Type 2', fontsize=15)\n",
        "\n",
        "plt.subplot(2,2,3)\n",
        "plt.hist(sales['item_sales'], alpha=.8, label = 'Total Item Sales', bins=20)\n",
        "plt.hist(type3, alpha=.6, label='Supermarket Type 3', bins=20)\n",
        "plt.title('Supermarket Type 3', fontsize=15)\n",
        "\n",
        "plt.subplot(2,2,4)\n",
        "plt.hist(sales['item_sales'], alpha=.8, label = 'Total Item Sales', bins=20)\n",
        "plt.hist(grocery_store, alpha=.6, label='Grocery Store', bins=20)\n",
        "plt.title('Grocery Store', fontsize=15)\n",
        "\n",
        "\n",
        "plt.show()"
      ],
      "metadata": {
        "colab": {
          "base_uri": "https://localhost:8080/",
          "height": 663
        },
        "id": "1pxHUOOXa1-i",
        "outputId": "f4108889-96c1-4f99-9718-005b233bac12"
      },
      "execution_count": 56,
      "outputs": [
        {
          "output_type": "display_data",
          "data": {
            "text/plain": [
              "<Figure size 864x720 with 4 Axes>"
            ],
            "image/png": "[encoded data removed]"
          },
          "metadata": {}
        }
      ]
    },
    {
      "cell_type": "markdown",
      "source": [
        "Histrogram of Sales Distribution by Outlet type shows which type of outlets generate the most sales compared to the overall sales. "
      ],
      "metadata": {
        "id": "mayfuH43iDwv"
      }
    },
    {
      "cell_type": "code",
      "source": [
        "outlet_sales = sales.groupby(['outlet_type', 'outlet_id'])['item_sales'].sum().sort_values()\n",
        "outlet_sales = outlet_sales.to_frame().reset_index()\n",
        "\n",
        "sequential_colors = sns.color_palette(\"mako\", 10)\n",
        "plt.style.use('seaborn')\n",
        "fig, ax = plt.subplots(figsize=(10,8))\n",
        "\n",
        "sns.barplot(data=outlet_sales, x='outlet_id', y='item_sales', ci=None, palette=sequential_colors)\n",
        "plt.title('Performance by Outlet Store', fontsize=20)\n",
        "\n",
        "plt.xlabel('Stores', fontsize=15)\n",
        "plt.ylabel('Sales', fontsize=15)\n",
        "plt.gca().set_yticklabels(['${:,.0f}'.format(i) for i in current_values])\n",
        "\n",
        "plt.show()"
      ],
      "metadata": {
        "colab": {
          "base_uri": "https://localhost:8080/",
          "height": 522
        },
        "id": "Db7eYmbqbD1L",
        "outputId": "eca887be-57c4-4451-d4b2-cd3684fee72f"
      },
      "execution_count": 58,
      "outputs": [
        {
          "output_type": "display_data",
          "data": {
            "text/plain": [
              "<Figure size 720x576 with 1 Axes>"
            ],
            "image/png": "[encoded data removed]"
          },
          "metadata": {}
        }
      ]
    },
    {
      "cell_type": "markdown",
      "source": [
        "Performance by Outlet Store, gives you a deeper dive on which stores perform well compared to the ones that do not."
      ],
      "metadata": {
        "id": "cFcAtbKXihz_"
      }
    },
    {
      "cell_type": "code",
      "source": [
        "item_sales = sales.groupby('item_type')['item_sales'].sum().to_frame().reset_index().sort_values('item_sales')\n",
        "\n",
        "sequential_colors = sns.color_palette(\"rocket\", 17)\n",
        "plt.figure(figsize=(14,8))\n",
        "\n",
        "ax = sns.barplot(data=item_sales, y='item_type', x='item_sales', ci=None, palette=sequential_colors)\n",
        "plt.title('Item Sales by Product Type', fontsize=20)\n",
        "\n",
        "plt.ylabel('Item Type', fontsize=15)\n",
        "plt.xlabel('Item Sales', fontsize=15)\n",
        "current_values = plt.gca().get_xticks()\n",
        "plt.gca().set_xticklabels(['${:,.0f}'.format(i) for i in current_values])\n",
        "\n",
        "plt.show()"
      ],
      "metadata": {
        "colab": {
          "base_uri": "https://localhost:8080/",
          "height": 522
        },
        "id": "WKEeRX-7btkc",
        "outputId": "95622583-8e3d-48b8-8782-edadafddfe09"
      },
      "execution_count": 59,
      "outputs": [
        {
          "output_type": "display_data",
          "data": {
            "text/plain": [
              "<Figure size 1008x576 with 1 Axes>"
            ],
            "image/png": "[encoded data removed]"
          },
          "metadata": {}
        }
      ]
    },
    {
      "cell_type": "markdown",
      "source": [
        "Item Sales by Product Type, a comprehensive look at what products actually sell well. "
      ],
      "metadata": {
        "id": "PZvdi1H8iyig"
      }
    }
  ],
  "metadata": {
    "colab": {
      "collapsed_sections": [],
      "name": "Sales Predictions Part 2.ipynb",
      "provenance": [],
      "include_colab_link": true
    },
    "kernelspec": {
      "display_name": "Python 3 (ipykernel)",
      "language": "python",
      "name": "python3"
    },
    "language_info": {
      "codemirror_mode": {
        "name": "ipython",
        "version": 3
      },
      "file_extension": ".py",
      "mimetype": "text/x-python",
      "name": "python",
      "nbconvert_exporter": "python",
      "pygments_lexer": "ipython3",
      "version": "3.9.7"
    }
  },
  "nbformat": 4,
  "nbformat_minor": 0
}