{
  "cells": [
    {
      "cell_type": "markdown",
      "metadata": {
        "id": "view-in-github",
        "colab_type": "text"
      },
      "source": [
        "<a href=\"https://colab.research.google.com/github/thelemoncookie-data/01_Project/blob/main/Sales_Predictions_Part_5.ipynb\" target=\"_parent\"><img src=\"https://colab.research.google.com/assets/colab-badge.svg\" alt=\"Open In Colab\"/></a>"
      ]
    },
    {
      "cell_type": "markdown",
      "metadata": {
        "id": "Q_tb-sWKv1F2"
      },
      "source": [
        "## Darlene Phan\n",
        "July 8, 2022\n",
        "Part 1"
      ]
    },
    {
      "cell_type": "code",
      "execution_count": 27,
      "metadata": {
        "id": "DW4pH8dqjVyX"
      },
      "outputs": [],
      "source": [
        "import pandas as pd\n",
        "import matplotlib.pyplot as plt\n",
        "import numpy as np\n",
        "import seaborn as sns\n",
        "import matplotlib as mpl\n",
        "from sklearn.model_selection import train_test_split\n",
        "from sklearn.preprocessing import StandardScaler, OneHotEncoder\n",
        "from sklearn.linear_model import LinearRegression\n",
        "from sklearn.compose import make_column_selector, make_column_transformer\n",
        "from sklearn.pipeline import make_pipeline\n",
        "from sklearn.metrics import mean_absolute_error, mean_squared_error, r2_score\n",
        "from sklearn import set_config\n",
        "set_config(display='diagram')"
      ]
    },
    {
      "cell_type": "code",
      "source": [
        "from google.colab import drive\n",
        "drive.mount('/content/drive')"
      ],
      "metadata": {
        "colab": {
          "base_uri": "https://localhost:8080/"
        },
        "id": "kAXvvC5fY0Z4",
        "outputId": "b0c9635f-3d14-4322-c087-e3476f3ba6fe"
      },
      "execution_count": 2,
      "outputs": [
        {
          "output_type": "stream",
          "name": "stdout",
          "text": [
            "Mounted at /content/drive\n"
          ]
        }
      ]
    },
    {
      "cell_type": "code",
      "source": [
        "sales = pd.read_csv('/content/drive/MyDrive/Stack 1/02 Week 2: Pandas/sales_predictions (2).csv')"
      ],
      "metadata": {
        "id": "iEJoddueZK6H"
      },
      "execution_count": 3,
      "outputs": []
    },
    {
      "cell_type": "markdown",
      "source": [
        "## Part 2"
      ],
      "metadata": {
        "id": "I9-iiuDta9tn"
      }
    },
    {
      "cell_type": "code",
      "execution_count": 4,
      "metadata": {
        "colab": {
          "base_uri": "https://localhost:8080/",
          "height": 206
        },
        "id": "--tTOvUTjjbp",
        "outputId": "32fb9aa7-7c2c-48f7-f33c-e32acbcebd7e"
      },
      "outputs": [
        {
          "output_type": "execute_result",
          "data": {
            "text/plain": [
              "  item_id  item_weight item_fat_content  item_visibility  \\\n",
              "0   FDA15         9.30          Low Fat         0.016047   \n",
              "1   DRC01         5.92          Regular         0.019278   \n",
              "2   FDN15        17.50          Low Fat         0.016760   \n",
              "3   FDX07        19.20          Regular         0.000000   \n",
              "4   NCD19         8.93          Low Fat         0.000000   \n",
              "\n",
              "               item_type       mrp outlet_id  est_year outlet_size loc_type  \\\n",
              "0                  Dairy  249.8092    OUT049      1999      Medium   Tier 1   \n",
              "1            Soft Drinks   48.2692    OUT018      2009      Medium   Tier 3   \n",
              "2                   Meat  141.6180    OUT049      1999      Medium   Tier 1   \n",
              "3  Fruits and Vegetables  182.0950    OUT010      1998         NaN   Tier 3   \n",
              "4              Household   53.8614    OUT013      1987        High   Tier 3   \n",
              "\n",
              "         outlet_type  item_sales  \n",
              "0  Supermarket Type1   3735.1380  \n",
              "1  Supermarket Type2    443.4228  \n",
              "2  Supermarket Type1   2097.2700  \n",
              "3      Grocery Store    732.3800  \n",
              "4  Supermarket Type1    994.7052  "
            ],
            "text/html": [
              "\n",
              "  <div id=\"df-a1751707-b96d-4879-8097-f2986a5d7464\">\n",
              "    <div class=\"colab-df-container\">\n",
              "      <div>\n",
              "<style scoped>\n",
              "    .dataframe tbody tr th:only-of-type {\n",
              "        vertical-align: middle;\n",
              "    }\n",
              "\n",
              "    .dataframe tbody tr th {\n",
              "        vertical-align: top;\n",
              "    }\n",
              "\n",
              "    .dataframe thead th {\n",
              "        text-align: right;\n",
              "    }\n",
              "</style>\n",
              "<table border=\"1\" class=\"dataframe\">\n",
              "  <thead>\n",
              "    <tr style=\"text-align: right;\">\n",
              "      <th></th>\n",
              "      <th>item_id</th>\n",
              "      <th>item_weight</th>\n",
              "      <th>item_fat_content</th>\n",
              "      <th>item_visibility</th>\n",
              "      <th>item_type</th>\n",
              "      <th>mrp</th>\n",
              "      <th>outlet_id</th>\n",
              "      <th>est_year</th>\n",
              "      <th>outlet_size</th>\n",
              "      <th>loc_type</th>\n",
              "      <th>outlet_type</th>\n",
              "      <th>item_sales</th>\n",
              "    </tr>\n",
              "  </thead>\n",
              "  <tbody>\n",
              "    <tr>\n",
              "      <th>0</th>\n",
              "      <td>FDA15</td>\n",
              "      <td>9.30</td>\n",
              "      <td>Low Fat</td>\n",
              "      <td>0.016047</td>\n",
              "      <td>Dairy</td>\n",
              "      <td>249.8092</td>\n",
              "      <td>OUT049</td>\n",
              "      <td>1999</td>\n",
              "      <td>Medium</td>\n",
              "      <td>Tier 1</td>\n",
              "      <td>Supermarket Type1</td>\n",
              "      <td>3735.1380</td>\n",
              "    </tr>\n",
              "    <tr>\n",
              "      <th>1</th>\n",
              "      <td>DRC01</td>\n",
              "      <td>5.92</td>\n",
              "      <td>Regular</td>\n",
              "      <td>0.019278</td>\n",
              "      <td>Soft Drinks</td>\n",
              "      <td>48.2692</td>\n",
              "      <td>OUT018</td>\n",
              "      <td>2009</td>\n",
              "      <td>Medium</td>\n",
              "      <td>Tier 3</td>\n",
              "      <td>Supermarket Type2</td>\n",
              "      <td>443.4228</td>\n",
              "    </tr>\n",
              "    <tr>\n",
              "      <th>2</th>\n",
              "      <td>FDN15</td>\n",
              "      <td>17.50</td>\n",
              "      <td>Low Fat</td>\n",
              "      <td>0.016760</td>\n",
              "      <td>Meat</td>\n",
              "      <td>141.6180</td>\n",
              "      <td>OUT049</td>\n",
              "      <td>1999</td>\n",
              "      <td>Medium</td>\n",
              "      <td>Tier 1</td>\n",
              "      <td>Supermarket Type1</td>\n",
              "      <td>2097.2700</td>\n",
              "    </tr>\n",
              "    <tr>\n",
              "      <th>3</th>\n",
              "      <td>FDX07</td>\n",
              "      <td>19.20</td>\n",
              "      <td>Regular</td>\n",
              "      <td>0.000000</td>\n",
              "      <td>Fruits and Vegetables</td>\n",
              "      <td>182.0950</td>\n",
              "      <td>OUT010</td>\n",
              "      <td>1998</td>\n",
              "      <td>NaN</td>\n",
              "      <td>Tier 3</td>\n",
              "      <td>Grocery Store</td>\n",
              "      <td>732.3800</td>\n",
              "    </tr>\n",
              "    <tr>\n",
              "      <th>4</th>\n",
              "      <td>NCD19</td>\n",
              "      <td>8.93</td>\n",
              "      <td>Low Fat</td>\n",
              "      <td>0.000000</td>\n",
              "      <td>Household</td>\n",
              "      <td>53.8614</td>\n",
              "      <td>OUT013</td>\n",
              "      <td>1987</td>\n",
              "      <td>High</td>\n",
              "      <td>Tier 3</td>\n",
              "      <td>Supermarket Type1</td>\n",
              "      <td>994.7052</td>\n",
              "    </tr>\n",
              "  </tbody>\n",
              "</table>\n",
              "</div>\n",
              "      <button class=\"colab-df-convert\" onclick=\"convertToInteractive('df-a1751707-b96d-4879-8097-f2986a5d7464')\"\n",
              "              title=\"Convert this dataframe to an interactive table.\"\n",
              "              style=\"display:none;\">\n",
              "        \n",
              "  <svg xmlns=\"http://www.w3.org/2000/svg\" height=\"24px\"viewBox=\"0 0 24 24\"\n",
              "       width=\"24px\">\n",
              "    <path d=\"M0 0h24v24H0V0z\" fill=\"none\"/>\n",
              "    <path d=\"M18.56 5.44l.94 2.06.94-2.06 2.06-.94-2.06-.94-.94-2.06-.94 2.06-2.06.94zm-11 1L8.5 8.5l.94-2.06 2.06-.94-2.06-.94L8.5 2.5l-.94 2.06-2.06.94zm10 10l.94 2.06.94-2.06 2.06-.94-2.06-.94-.94-2.06-.94 2.06-2.06.94z\"/><path d=\"M17.41 7.96l-1.37-1.37c-.4-.4-.92-.59-1.43-.59-.52 0-1.04.2-1.43.59L10.3 9.45l-7.72 7.72c-.78.78-.78 2.05 0 2.83L4 21.41c.39.39.9.59 1.41.59.51 0 1.02-.2 1.41-.59l7.78-7.78 2.81-2.81c.8-.78.8-2.07 0-2.86zM5.41 20L4 18.59l7.72-7.72 1.47 1.35L5.41 20z\"/>\n",
              "  </svg>\n",
              "      </button>\n",
              "      \n",
              "  <style>\n",
              "    .colab-df-container {\n",
              "      display:flex;\n",
              "      flex-wrap:wrap;\n",
              "      gap: 12px;\n",
              "    }\n",
              "\n",
              "    .colab-df-convert {\n",
              "      background-color: #E8F0FE;\n",
              "      border: none;\n",
              "      border-radius: 50%;\n",
              "      cursor: pointer;\n",
              "      display: none;\n",
              "      fill: #1967D2;\n",
              "      height: 32px;\n",
              "      padding: 0 0 0 0;\n",
              "      width: 32px;\n",
              "    }\n",
              "\n",
              "    .colab-df-convert:hover {\n",
              "      background-color: #E2EBFA;\n",
              "      box-shadow: 0px 1px 2px rgba(60, 64, 67, 0.3), 0px 1px 3px 1px rgba(60, 64, 67, 0.15);\n",
              "      fill: #174EA6;\n",
              "    }\n",
              "\n",
              "    [theme=dark] .colab-df-convert {\n",
              "      background-color: #3B4455;\n",
              "      fill: #D2E3FC;\n",
              "    }\n",
              "\n",
              "    [theme=dark] .colab-df-convert:hover {\n",
              "      background-color: #434B5C;\n",
              "      box-shadow: 0px 1px 3px 1px rgba(0, 0, 0, 0.15);\n",
              "      filter: drop-shadow(0px 1px 2px rgba(0, 0, 0, 0.3));\n",
              "      fill: #FFFFFF;\n",
              "    }\n",
              "  </style>\n",
              "\n",
              "      <script>\n",
              "        const buttonEl =\n",
              "          document.querySelector('#df-a1751707-b96d-4879-8097-f2986a5d7464 button.colab-df-convert');\n",
              "        buttonEl.style.display =\n",
              "          google.colab.kernel.accessAllowed ? 'block' : 'none';\n",
              "\n",
              "        async function convertToInteractive(key) {\n",
              "          const element = document.querySelector('#df-a1751707-b96d-4879-8097-f2986a5d7464');\n",
              "          const dataTable =\n",
              "            await google.colab.kernel.invokeFunction('convertToInteractive',\n",
              "                                                     [key], {});\n",
              "          if (!dataTable) return;\n",
              "\n",
              "          const docLinkHtml = 'Like what you see? Visit the ' +\n",
              "            '<a target=\"_blank\" href=https://colab.research.google.com/notebooks/data_table.ipynb>data table notebook</a>'\n",
              "            + ' to learn more about interactive tables.';\n",
              "          element.innerHTML = '';\n",
              "          dataTable['output_type'] = 'display_data';\n",
              "          await google.colab.output.renderOutput(dataTable, element);\n",
              "          const docLink = document.createElement('div');\n",
              "          docLink.innerHTML = docLinkHtml;\n",
              "          element.appendChild(docLink);\n",
              "        }\n",
              "      </script>\n",
              "    </div>\n",
              "  </div>\n",
              "  "
            ]
          },
          "metadata": {},
          "execution_count": 4
        }
      ],
      "source": [
        "rename = {'Item_Identifier': 'item_id',\n",
        "'Item_Weight': 'item_weight',\n",
        "'Item_Fat_Content': 'item_fat_content',\n",
        "'Item_Visibility': 'item_visibility',\n",
        "'Item_Type': 'item_type',\n",
        "'Item_MRP': 'mrp',\n",
        "'Outlet_Identifier': 'outlet_id',\n",
        "'Outlet_Establishment_Year': 'est_year',\n",
        "'Outlet_Size': 'outlet_size',\n",
        "'Outlet_Location_Type': 'loc_type',\n",
        "'Outlet_Type': 'outlet_type',\n",
        "'Item_Outlet_Sales': 'item_sales'\n",
        "}\n",
        "sales.rename(columns=rename, inplace=True)\n",
        "sales.head()"
      ]
    },
    {
      "cell_type": "code",
      "execution_count": 5,
      "metadata": {
        "colab": {
          "base_uri": "https://localhost:8080/"
        },
        "id": "krdqaD54jf3N",
        "outputId": "7d3bceea-a5c6-4b4b-aace-0aae89e330da"
      },
      "outputs": [
        {
          "output_type": "execute_result",
          "data": {
            "text/plain": [
              "(8523, 12)"
            ]
          },
          "metadata": {},
          "execution_count": 5
        }
      ],
      "source": [
        "sales.shape"
      ]
    },
    {
      "cell_type": "code",
      "execution_count": 6,
      "metadata": {
        "colab": {
          "base_uri": "https://localhost:8080/"
        },
        "id": "ndzDtGq8jf6I",
        "outputId": "fe995635-9c55-4936-ecf7-139c1ef3ee6e"
      },
      "outputs": [
        {
          "output_type": "stream",
          "name": "stdout",
          "text": [
            "<class 'pandas.core.frame.DataFrame'>\n",
            "RangeIndex: 8523 entries, 0 to 8522\n",
            "Data columns (total 12 columns):\n",
            " #   Column            Non-Null Count  Dtype  \n",
            "---  ------            --------------  -----  \n",
            " 0   item_id           8523 non-null   object \n",
            " 1   item_weight       7060 non-null   float64\n",
            " 2   item_fat_content  8523 non-null   object \n",
            " 3   item_visibility   8523 non-null   float64\n",
            " 4   item_type         8523 non-null   object \n",
            " 5   mrp               8523 non-null   float64\n",
            " 6   outlet_id         8523 non-null   object \n",
            " 7   est_year          8523 non-null   int64  \n",
            " 8   outlet_size       6113 non-null   object \n",
            " 9   loc_type          8523 non-null   object \n",
            " 10  outlet_type       8523 non-null   object \n",
            " 11  item_sales        8523 non-null   float64\n",
            "dtypes: float64(4), int64(1), object(7)\n",
            "memory usage: 799.2+ KB\n"
          ]
        }
      ],
      "source": [
        "sales.info()"
      ]
    },
    {
      "cell_type": "code",
      "execution_count": 7,
      "metadata": {
        "colab": {
          "base_uri": "https://localhost:8080/"
        },
        "id": "3iFHMB9djf8Z",
        "outputId": "97e1b7dc-90fa-4600-a595-086a246ed488"
      },
      "outputs": [
        {
          "output_type": "execute_result",
          "data": {
            "text/plain": [
              "0"
            ]
          },
          "metadata": {},
          "execution_count": 7
        }
      ],
      "source": [
        "#checking for duplicates\n",
        "sales.duplicated().sum()"
      ]
    },
    {
      "cell_type": "code",
      "execution_count": 8,
      "metadata": {
        "id": "J2WAFaOEjrsl"
      },
      "outputs": [],
      "source": [
        "## These cols dont contribute much to sales perdictions. Outlet size might contribute a little but overall not that much. \n",
        "sales = sales.drop(columns=['item_weight','outlet_size'])"
      ]
    },
    {
      "cell_type": "code",
      "execution_count": 9,
      "metadata": {
        "colab": {
          "base_uri": "https://localhost:8080/"
        },
        "id": "ieyEW3a3jrvK",
        "outputId": "e5f10c71-20fa-40fe-e803-f57fac015aee"
      },
      "outputs": [
        {
          "output_type": "execute_result",
          "data": {
            "text/plain": [
              "item_id             0\n",
              "item_fat_content    0\n",
              "item_visibility     0\n",
              "item_type           0\n",
              "mrp                 0\n",
              "outlet_id           0\n",
              "est_year            0\n",
              "loc_type            0\n",
              "outlet_type         0\n",
              "item_sales          0\n",
              "dtype: int64"
            ]
          },
          "metadata": {},
          "execution_count": 9
        }
      ],
      "source": [
        "sales.isnull().sum()"
      ]
    },
    {
      "cell_type": "code",
      "execution_count": 10,
      "metadata": {
        "colab": {
          "base_uri": "https://localhost:8080/"
        },
        "id": "nYDuxOMSjgAy",
        "outputId": "92c00765-6c3c-49c4-d6e2-69c0b9e27742"
      },
      "outputs": [
        {
          "output_type": "execute_result",
          "data": {
            "text/plain": [
              "array(['Low Fat', 'Regular'], dtype=object)"
            ]
          },
          "metadata": {},
          "execution_count": 10
        }
      ],
      "source": [
        "#adjusting categorical errors\n",
        "sales['item_fat_content'] = sales['item_fat_content'].replace('LF', 'Low Fat')\n",
        "sales['item_fat_content'] = sales['item_fat_content'].replace('low fat', 'Low Fat')\n",
        "sales['item_fat_content'] = sales['item_fat_content'].replace('reg', 'Regular')\n",
        "sales.item_fat_content.unique()"
      ]
    },
    {
      "cell_type": "code",
      "execution_count": 11,
      "metadata": {
        "colab": {
          "base_uri": "https://localhost:8080/",
          "height": 300
        },
        "id": "I9FDqxbpj2xu",
        "outputId": "813c744f-9172-4608-d55e-833869a103b1"
      },
      "outputs": [
        {
          "output_type": "execute_result",
          "data": {
            "text/plain": [
              "       item_visibility          mrp     est_year    item_sales\n",
              "count      8523.000000  8523.000000  8523.000000   8523.000000\n",
              "mean          0.066132   140.992782  1997.831867   2181.288914\n",
              "std           0.051598    62.275067     8.371760   1706.499616\n",
              "min           0.000000    31.290000  1985.000000     33.290000\n",
              "25%           0.026989    93.826500  1987.000000    834.247400\n",
              "50%           0.053931   143.012800  1999.000000   1794.331000\n",
              "75%           0.094585   185.643700  2004.000000   3101.296400\n",
              "max           0.328391   266.888400  2009.000000  13086.964800"
            ],
            "text/html": [
              "\n",
              "  <div id=\"df-4859ea85-ca10-45d6-bf84-3d4098a8cba6\">\n",
              "    <div class=\"colab-df-container\">\n",
              "      <div>\n",
              "<style scoped>\n",
              "    .dataframe tbody tr th:only-of-type {\n",
              "        vertical-align: middle;\n",
              "    }\n",
              "\n",
              "    .dataframe tbody tr th {\n",
              "        vertical-align: top;\n",
              "    }\n",
              "\n",
              "    .dataframe thead th {\n",
              "        text-align: right;\n",
              "    }\n",
              "</style>\n",
              "<table border=\"1\" class=\"dataframe\">\n",
              "  <thead>\n",
              "    <tr style=\"text-align: right;\">\n",
              "      <th></th>\n",
              "      <th>item_visibility</th>\n",
              "      <th>mrp</th>\n",
              "      <th>est_year</th>\n",
              "      <th>item_sales</th>\n",
              "    </tr>\n",
              "  </thead>\n",
              "  <tbody>\n",
              "    <tr>\n",
              "      <th>count</th>\n",
              "      <td>8523.000000</td>\n",
              "      <td>8523.000000</td>\n",
              "      <td>8523.000000</td>\n",
              "      <td>8523.000000</td>\n",
              "    </tr>\n",
              "    <tr>\n",
              "      <th>mean</th>\n",
              "      <td>0.066132</td>\n",
              "      <td>140.992782</td>\n",
              "      <td>1997.831867</td>\n",
              "      <td>2181.288914</td>\n",
              "    </tr>\n",
              "    <tr>\n",
              "      <th>std</th>\n",
              "      <td>0.051598</td>\n",
              "      <td>62.275067</td>\n",
              "      <td>8.371760</td>\n",
              "      <td>1706.499616</td>\n",
              "    </tr>\n",
              "    <tr>\n",
              "      <th>min</th>\n",
              "      <td>0.000000</td>\n",
              "      <td>31.290000</td>\n",
              "      <td>1985.000000</td>\n",
              "      <td>33.290000</td>\n",
              "    </tr>\n",
              "    <tr>\n",
              "      <th>25%</th>\n",
              "      <td>0.026989</td>\n",
              "      <td>93.826500</td>\n",
              "      <td>1987.000000</td>\n",
              "      <td>834.247400</td>\n",
              "    </tr>\n",
              "    <tr>\n",
              "      <th>50%</th>\n",
              "      <td>0.053931</td>\n",
              "      <td>143.012800</td>\n",
              "      <td>1999.000000</td>\n",
              "      <td>1794.331000</td>\n",
              "    </tr>\n",
              "    <tr>\n",
              "      <th>75%</th>\n",
              "      <td>0.094585</td>\n",
              "      <td>185.643700</td>\n",
              "      <td>2004.000000</td>\n",
              "      <td>3101.296400</td>\n",
              "    </tr>\n",
              "    <tr>\n",
              "      <th>max</th>\n",
              "      <td>0.328391</td>\n",
              "      <td>266.888400</td>\n",
              "      <td>2009.000000</td>\n",
              "      <td>13086.964800</td>\n",
              "    </tr>\n",
              "  </tbody>\n",
              "</table>\n",
              "</div>\n",
              "      <button class=\"colab-df-convert\" onclick=\"convertToInteractive('df-4859ea85-ca10-45d6-bf84-3d4098a8cba6')\"\n",
              "              title=\"Convert this dataframe to an interactive table.\"\n",
              "              style=\"display:none;\">\n",
              "        \n",
              "  <svg xmlns=\"http://www.w3.org/2000/svg\" height=\"24px\"viewBox=\"0 0 24 24\"\n",
              "       width=\"24px\">\n",
              "    <path d=\"M0 0h24v24H0V0z\" fill=\"none\"/>\n",
              "    <path d=\"M18.56 5.44l.94 2.06.94-2.06 2.06-.94-2.06-.94-.94-2.06-.94 2.06-2.06.94zm-11 1L8.5 8.5l.94-2.06 2.06-.94-2.06-.94L8.5 2.5l-.94 2.06-2.06.94zm10 10l.94 2.06.94-2.06 2.06-.94-2.06-.94-.94-2.06-.94 2.06-2.06.94z\"/><path d=\"M17.41 7.96l-1.37-1.37c-.4-.4-.92-.59-1.43-.59-.52 0-1.04.2-1.43.59L10.3 9.45l-7.72 7.72c-.78.78-.78 2.05 0 2.83L4 21.41c.39.39.9.59 1.41.59.51 0 1.02-.2 1.41-.59l7.78-7.78 2.81-2.81c.8-.78.8-2.07 0-2.86zM5.41 20L4 18.59l7.72-7.72 1.47 1.35L5.41 20z\"/>\n",
              "  </svg>\n",
              "      </button>\n",
              "      \n",
              "  <style>\n",
              "    .colab-df-container {\n",
              "      display:flex;\n",
              "      flex-wrap:wrap;\n",
              "      gap: 12px;\n",
              "    }\n",
              "\n",
              "    .colab-df-convert {\n",
              "      background-color: #E8F0FE;\n",
              "      border: none;\n",
              "      border-radius: 50%;\n",
              "      cursor: pointer;\n",
              "      display: none;\n",
              "      fill: #1967D2;\n",
              "      height: 32px;\n",
              "      padding: 0 0 0 0;\n",
              "      width: 32px;\n",
              "    }\n",
              "\n",
              "    .colab-df-convert:hover {\n",
              "      background-color: #E2EBFA;\n",
              "      box-shadow: 0px 1px 2px rgba(60, 64, 67, 0.3), 0px 1px 3px 1px rgba(60, 64, 67, 0.15);\n",
              "      fill: #174EA6;\n",
              "    }\n",
              "\n",
              "    [theme=dark] .colab-df-convert {\n",
              "      background-color: #3B4455;\n",
              "      fill: #D2E3FC;\n",
              "    }\n",
              "\n",
              "    [theme=dark] .colab-df-convert:hover {\n",
              "      background-color: #434B5C;\n",
              "      box-shadow: 0px 1px 3px 1px rgba(0, 0, 0, 0.15);\n",
              "      filter: drop-shadow(0px 1px 2px rgba(0, 0, 0, 0.3));\n",
              "      fill: #FFFFFF;\n",
              "    }\n",
              "  </style>\n",
              "\n",
              "      <script>\n",
              "        const buttonEl =\n",
              "          document.querySelector('#df-4859ea85-ca10-45d6-bf84-3d4098a8cba6 button.colab-df-convert');\n",
              "        buttonEl.style.display =\n",
              "          google.colab.kernel.accessAllowed ? 'block' : 'none';\n",
              "\n",
              "        async function convertToInteractive(key) {\n",
              "          const element = document.querySelector('#df-4859ea85-ca10-45d6-bf84-3d4098a8cba6');\n",
              "          const dataTable =\n",
              "            await google.colab.kernel.invokeFunction('convertToInteractive',\n",
              "                                                     [key], {});\n",
              "          if (!dataTable) return;\n",
              "\n",
              "          const docLinkHtml = 'Like what you see? Visit the ' +\n",
              "            '<a target=\"_blank\" href=https://colab.research.google.com/notebooks/data_table.ipynb>data table notebook</a>'\n",
              "            + ' to learn more about interactive tables.';\n",
              "          element.innerHTML = '';\n",
              "          dataTable['output_type'] = 'display_data';\n",
              "          await google.colab.output.renderOutput(dataTable, element);\n",
              "          const docLink = document.createElement('div');\n",
              "          docLink.innerHTML = docLinkHtml;\n",
              "          element.appendChild(docLink);\n",
              "        }\n",
              "      </script>\n",
              "    </div>\n",
              "  </div>\n",
              "  "
            ]
          },
          "metadata": {},
          "execution_count": 11
        }
      ],
      "source": [
        "sales.describe() "
      ]
    },
    {
      "cell_type": "markdown",
      "source": [
        "## Part 3\n"
      ],
      "metadata": {
        "id": "iHwRBXROa3-T"
      }
    },
    {
      "cell_type": "code",
      "execution_count": 12,
      "metadata": {
        "id": "LEuyKFOtjgKC",
        "colab": {
          "base_uri": "https://localhost:8080/",
          "height": 393
        },
        "outputId": "7ff089c3-a093-4b66-e169-98aa4f2c749c"
      },
      "outputs": [
        {
          "output_type": "display_data",
          "data": {
            "text/plain": [
              "<Figure size 720x432 with 2 Axes>"
            ],
            "image/png": "[encoded data removed]"
          },
          "metadata": {
            "needs_background": "light"
          }
        }
      ],
      "source": [
        "#Heatmap\n",
        "corr = sales.corr()\n",
        "plt.figure(figsize=(10,6),)\n",
        "sns.heatmap(corr, cmap='Greens', annot=True)\n",
        "plt.title('Heatmap Correlation', fontsize=15)\n",
        "plt.show()"
      ]
    },
    {
      "cell_type": "code",
      "execution_count": 13,
      "metadata": {
        "colab": {
          "base_uri": "https://localhost:8080/",
          "height": 338
        },
        "id": "wS6b1UlAYpuP",
        "outputId": "52b13a77-8d2d-4201-8629-56a5eff523c8"
      },
      "outputs": [
        {
          "output_type": "display_data",
          "data": {
            "text/plain": [
              "<Figure size 720x360 with 1 Axes>"
            ],
            "image/png": "[encoded data removed]"
          },
          "metadata": {
            "needs_background": "light"
          }
        }
      ],
      "source": [
        "#Histogram\n",
        "plt.figure(figsize=(10,5))\n",
        "plt.hist(sales['item_sales'], alpha=.8, bins=35, edgecolor='w')\n",
        "plt.title('Item Outlet Sales Distribution', fontsize=15)\n",
        "plt.show()"
      ]
    },
    {
      "cell_type": "code",
      "execution_count": 14,
      "metadata": {
        "colab": {
          "base_uri": "https://localhost:8080/",
          "height": 585
        },
        "id": "a0hAn3_wYpuQ",
        "outputId": "42c37a56-63c9-4b0c-e387-84b8f8236582"
      },
      "outputs": [
        {
          "output_type": "display_data",
          "data": {
            "text/plain": [
              "<Figure size 432x576 with 1 Axes>"
            ],
            "image/png": "[encoded data removed]"
          },
          "metadata": {
            "needs_background": "light"
          }
        }
      ],
      "source": [
        "#Boxplot\n",
        "plt.figure(figsize=(6,8))\n",
        "sns.boxplot(data=sales, x='loc_type', y='item_sales')\n",
        "plt.title('Item Outlet Sales by Outlet Location Type', fontsize=15)\n",
        "plt.xlabel('Outlet Location Type', fontsize=12)\n",
        "plt.ylabel('Item Outlet Sales', fontsize=12)\n",
        "plt.tight_layout()\n",
        "plt.show()"
      ]
    },
    {
      "cell_type": "markdown",
      "source": [
        "## Part 4"
      ],
      "metadata": {
        "id": "DWWVgqSPayBv"
      }
    },
    {
      "cell_type": "code",
      "source": [
        "type1 = sales[sales['outlet_type'] == 'Supermarket Type1']['item_sales']\n",
        "type2 = sales[sales['outlet_type'] == 'Supermarket Type2']['item_sales']\n",
        "type3 = sales[sales['outlet_type'] == 'Supermarket Type3']['item_sales']\n",
        "grocery_store = sales[sales['outlet_type'] == 'Grocery Store']['item_sales']\n",
        "\n",
        "plt.style.use('seaborn-whitegrid')\n",
        "sequential_colors = sns.color_palette(\"mako\", 10)\n",
        "\n",
        "plt.figure(figsize=(12,10))\n",
        "plt.suptitle('Sales Distribution by Outlet Type', fontsize=25)\n",
        "\n",
        "plt.subplot(2,2,1)\n",
        "plt.hist(sales['item_sales'], alpha=.8, label = 'Total Item Sales', bins=20)\n",
        "plt.hist(type1, alpha=.6, label='Supermarket Type 1', bins=20)\n",
        "plt.title('Supermarket Type 1', fontsize=15)\n",
        "\n",
        "plt.subplot(2,2,2)\n",
        "plt.hist(sales['item_sales'], alpha=.8, label = 'Total Item Sales', bins=20)\n",
        "plt.hist(type2, alpha=.6, label='Supermarket Type 2', bins=20)\n",
        "plt.title('Supermarket Type 2', fontsize=15)\n",
        "\n",
        "plt.subplot(2,2,3)\n",
        "plt.hist(sales['item_sales'], alpha=.8, label = 'Total Item Sales', bins=20)\n",
        "plt.hist(type3, alpha=.6, label='Supermarket Type 3', bins=20)\n",
        "plt.title('Supermarket Type 3', fontsize=15)\n",
        "\n",
        "plt.subplot(2,2,4)\n",
        "plt.hist(sales['item_sales'], alpha=.8, label = 'Total Item Sales', bins=20)\n",
        "plt.hist(grocery_store, alpha=.6, label='Grocery Store', bins=20)\n",
        "plt.title('Grocery Store', fontsize=15)\n",
        "\n",
        "\n",
        "plt.show()"
      ],
      "metadata": {
        "colab": {
          "base_uri": "https://localhost:8080/",
          "height": 660
        },
        "id": "1pxHUOOXa1-i",
        "outputId": "e3069d39-0197-41ed-8c5d-fde0db31d185"
      },
      "execution_count": 15,
      "outputs": [
        {
          "output_type": "display_data",
          "data": {
            "text/plain": [
              "<Figure size 864x720 with 4 Axes>"
            ],
            "image/png": "[encoded data removed]"
          },
          "metadata": {}
        }
      ]
    },
    {
      "cell_type": "markdown",
      "source": [
        "Histrogram of Sales Distribution by Outlet type shows which type of outlets generate the most sales compared to the overall sales. "
      ],
      "metadata": {
        "id": "mayfuH43iDwv"
      }
    },
    {
      "cell_type": "code",
      "source": [
        "outlet_sales = sales.groupby(['outlet_type', 'outlet_id'])['item_sales'].sum().sort_values()\n",
        "outlet_sales = outlet_sales.to_frame().reset_index()\n",
        "\n",
        "sequential_colors = sns.color_palette(\"mako\", 10)\n",
        "plt.style.use('seaborn')\n",
        "fig, ax = plt.subplots(figsize=(10,8))\n",
        "\n",
        "sns.barplot(data=outlet_sales, x='outlet_id', y='item_sales', ci=None, palette=sequential_colors)\n",
        "plt.title('Performance by Outlet Store', fontsize=20)\n",
        "\n",
        "plt.xlabel('Stores', fontsize=15)\n",
        "plt.ylabel('Sales', fontsize=15)\n",
        "plt.ticklabel_format(axis=\"y\", style=\"plain\", scilimits=(0,0))\n",
        "\n",
        "plt.show()"
      ],
      "metadata": {
        "colab": {
          "base_uri": "https://localhost:8080/",
          "height": 522
        },
        "id": "Db7eYmbqbD1L",
        "outputId": "6657928e-9077-4b43-c5ad-0c36cf684a7a"
      },
      "execution_count": 16,
      "outputs": [
        {
          "output_type": "display_data",
          "data": {
            "text/plain": [
              "<Figure size 720x576 with 1 Axes>"
            ],
            "image/png": "[encoded data removed]"
          },
          "metadata": {}
        }
      ]
    },
    {
      "cell_type": "markdown",
      "source": [
        "Performance by Outlet Store, gives you a deeper dive on which stores perform well compared to the ones that do not."
      ],
      "metadata": {
        "id": "cFcAtbKXihz_"
      }
    },
    {
      "cell_type": "code",
      "source": [
        "item_sales = sales.groupby('item_type')['item_sales'].sum().to_frame().reset_index().sort_values('item_sales')\n",
        "\n",
        "sequential_colors = sns.color_palette(\"rocket\", 17)\n",
        "plt.figure(figsize=(14,8))\n",
        "\n",
        "ax = sns.barplot(data=item_sales, y='item_type', x='item_sales', ci=None, palette=sequential_colors)\n",
        "plt.title('Item Sales by Product Type', fontsize=20)\n",
        "\n",
        "plt.ylabel('Item Type', fontsize=15)\n",
        "plt.xlabel('Item Sales', fontsize=15)\n",
        "current_values = plt.gca().get_xticks()\n",
        "plt.ticklabel_format(axis=\"x\", style=\"plain\", scilimits=(0,0))\n",
        "\n",
        "plt.show()"
      ],
      "metadata": {
        "id": "WKEeRX-7btkc",
        "colab": {
          "base_uri": "https://localhost:8080/",
          "height": 522
        },
        "outputId": "b6301cdb-cb07-4677-b4ef-5ba547b97604"
      },
      "execution_count": 17,
      "outputs": [
        {
          "output_type": "display_data",
          "data": {
            "text/plain": [
              "<Figure size 1008x576 with 1 Axes>"
            ],
            "image/png": "[encoded data removed]"
          },
          "metadata": {}
        }
      ]
    },
    {
      "cell_type": "markdown",
      "source": [
        "Item Sales by Product Type, a comprehensive look at what products actually sell well. "
      ],
      "metadata": {
        "id": "PZvdi1H8iyig"
      }
    },
    {
      "cell_type": "markdown",
      "source": [
        "## Part 5 "
      ],
      "metadata": {
        "id": "Utfr_obX9htH"
      }
    },
    {
      "cell_type": "markdown",
      "source": [
        "Identify X features and Y target"
      ],
      "metadata": {
        "id": "rVdWqZBo9i3t"
      }
    },
    {
      "cell_type": "code",
      "source": [
        "X = sales.drop(columns = ['item_sales', 'est_year', 'item_id', 'outlet_id'])\n",
        "y  = sales['item_sales']\n",
        "\n",
        "#Train Test Split\n",
        "X_train, X_test, y_train, y_test = train_test_split(X, y, random_state=42)\n",
        "X_train"
      ],
      "metadata": {
        "colab": {
          "base_uri": "https://localhost:8080/",
          "height": 424
        },
        "id": "G0Lfb4RA9lXa",
        "outputId": "c4096e10-de57-48d3-f298-2118449e97ed"
      },
      "execution_count": 25,
      "outputs": [
        {
          "output_type": "execute_result",
          "data": {
            "text/plain": [
              "     item_fat_content  item_visibility              item_type       mrp  \\\n",
              "4776          Low Fat         0.029565              Household  256.4646   \n",
              "7510          Regular         0.000000            Snack Foods  179.7660   \n",
              "5828          Regular         0.158716                   Meat  157.2946   \n",
              "5327          Low Fat         0.014628           Baking Goods   82.3250   \n",
              "4810          Low Fat         0.016645           Frozen Foods  120.9098   \n",
              "...               ...              ...                    ...       ...   \n",
              "5734          Regular         0.286345  Fruits and Vegetables  139.1838   \n",
              "5191          Low Fat         0.117575           Frozen Foods   75.6670   \n",
              "5390          Low Fat         0.018944     Health and Hygiene  237.3590   \n",
              "860           Low Fat         0.054363            Snack Foods  117.9466   \n",
              "7270          Low Fat         0.016993              Household   95.7410   \n",
              "\n",
              "     loc_type        outlet_type  \n",
              "4776   Tier 3  Supermarket Type2  \n",
              "7510   Tier 3  Supermarket Type2  \n",
              "5828   Tier 1  Supermarket Type1  \n",
              "5327   Tier 2  Supermarket Type1  \n",
              "4810   Tier 2  Supermarket Type1  \n",
              "...       ...                ...  \n",
              "5734   Tier 3      Grocery Store  \n",
              "5191   Tier 2  Supermarket Type1  \n",
              "5390   Tier 2  Supermarket Type1  \n",
              "860    Tier 2  Supermarket Type1  \n",
              "7270   Tier 1  Supermarket Type1  \n",
              "\n",
              "[6392 rows x 6 columns]"
            ],
            "text/html": [
              "\n",
              "  <div id=\"df-9fd62542-0c7f-45f6-b2f6-004513f0f0a3\">\n",
              "    <div class=\"colab-df-container\">\n",
              "      <div>\n",
              "<style scoped>\n",
              "    .dataframe tbody tr th:only-of-type {\n",
              "        vertical-align: middle;\n",
              "    }\n",
              "\n",
              "    .dataframe tbody tr th {\n",
              "        vertical-align: top;\n",
              "    }\n",
              "\n",
              "    .dataframe thead th {\n",
              "        text-align: right;\n",
              "    }\n",
              "</style>\n",
              "<table border=\"1\" class=\"dataframe\">\n",
              "  <thead>\n",
              "    <tr style=\"text-align: right;\">\n",
              "      <th></th>\n",
              "      <th>item_fat_content</th>\n",
              "      <th>item_visibility</th>\n",
              "      <th>item_type</th>\n",
              "      <th>mrp</th>\n",
              "      <th>loc_type</th>\n",
              "      <th>outlet_type</th>\n",
              "    </tr>\n",
              "  </thead>\n",
              "  <tbody>\n",
              "    <tr>\n",
              "      <th>4776</th>\n",
              "      <td>Low Fat</td>\n",
              "      <td>0.029565</td>\n",
              "      <td>Household</td>\n",
              "      <td>256.4646</td>\n",
              "      <td>Tier 3</td>\n",
              "      <td>Supermarket Type2</td>\n",
              "    </tr>\n",
              "    <tr>\n",
              "      <th>7510</th>\n",
              "      <td>Regular</td>\n",
              "      <td>0.000000</td>\n",
              "      <td>Snack Foods</td>\n",
              "      <td>179.7660</td>\n",
              "      <td>Tier 3</td>\n",
              "      <td>Supermarket Type2</td>\n",
              "    </tr>\n",
              "    <tr>\n",
              "      <th>5828</th>\n",
              "      <td>Regular</td>\n",
              "      <td>0.158716</td>\n",
              "      <td>Meat</td>\n",
              "      <td>157.2946</td>\n",
              "      <td>Tier 1</td>\n",
              "      <td>Supermarket Type1</td>\n",
              "    </tr>\n",
              "    <tr>\n",
              "      <th>5327</th>\n",
              "      <td>Low Fat</td>\n",
              "      <td>0.014628</td>\n",
              "      <td>Baking Goods</td>\n",
              "      <td>82.3250</td>\n",
              "      <td>Tier 2</td>\n",
              "      <td>Supermarket Type1</td>\n",
              "    </tr>\n",
              "    <tr>\n",
              "      <th>4810</th>\n",
              "      <td>Low Fat</td>\n",
              "      <td>0.016645</td>\n",
              "      <td>Frozen Foods</td>\n",
              "      <td>120.9098</td>\n",
              "      <td>Tier 2</td>\n",
              "      <td>Supermarket Type1</td>\n",
              "    </tr>\n",
              "    <tr>\n",
              "      <th>...</th>\n",
              "      <td>...</td>\n",
              "      <td>...</td>\n",
              "      <td>...</td>\n",
              "      <td>...</td>\n",
              "      <td>...</td>\n",
              "      <td>...</td>\n",
              "    </tr>\n",
              "    <tr>\n",
              "      <th>5734</th>\n",
              "      <td>Regular</td>\n",
              "      <td>0.286345</td>\n",
              "      <td>Fruits and Vegetables</td>\n",
              "      <td>139.1838</td>\n",
              "      <td>Tier 3</td>\n",
              "      <td>Grocery Store</td>\n",
              "    </tr>\n",
              "    <tr>\n",
              "      <th>5191</th>\n",
              "      <td>Low Fat</td>\n",
              "      <td>0.117575</td>\n",
              "      <td>Frozen Foods</td>\n",
              "      <td>75.6670</td>\n",
              "      <td>Tier 2</td>\n",
              "      <td>Supermarket Type1</td>\n",
              "    </tr>\n",
              "    <tr>\n",
              "      <th>5390</th>\n",
              "      <td>Low Fat</td>\n",
              "      <td>0.018944</td>\n",
              "      <td>Health and Hygiene</td>\n",
              "      <td>237.3590</td>\n",
              "      <td>Tier 2</td>\n",
              "      <td>Supermarket Type1</td>\n",
              "    </tr>\n",
              "    <tr>\n",
              "      <th>860</th>\n",
              "      <td>Low Fat</td>\n",
              "      <td>0.054363</td>\n",
              "      <td>Snack Foods</td>\n",
              "      <td>117.9466</td>\n",
              "      <td>Tier 2</td>\n",
              "      <td>Supermarket Type1</td>\n",
              "    </tr>\n",
              "    <tr>\n",
              "      <th>7270</th>\n",
              "      <td>Low Fat</td>\n",
              "      <td>0.016993</td>\n",
              "      <td>Household</td>\n",
              "      <td>95.7410</td>\n",
              "      <td>Tier 1</td>\n",
              "      <td>Supermarket Type1</td>\n",
              "    </tr>\n",
              "  </tbody>\n",
              "</table>\n",
              "<p>6392 rows × 6 columns</p>\n",
              "</div>\n",
              "      <button class=\"colab-df-convert\" onclick=\"convertToInteractive('df-9fd62542-0c7f-45f6-b2f6-004513f0f0a3')\"\n",
              "              title=\"Convert this dataframe to an interactive table.\"\n",
              "              style=\"display:none;\">\n",
              "        \n",
              "  <svg xmlns=\"http://www.w3.org/2000/svg\" height=\"24px\"viewBox=\"0 0 24 24\"\n",
              "       width=\"24px\">\n",
              "    <path d=\"M0 0h24v24H0V0z\" fill=\"none\"/>\n",
              "    <path d=\"M18.56 5.44l.94 2.06.94-2.06 2.06-.94-2.06-.94-.94-2.06-.94 2.06-2.06.94zm-11 1L8.5 8.5l.94-2.06 2.06-.94-2.06-.94L8.5 2.5l-.94 2.06-2.06.94zm10 10l.94 2.06.94-2.06 2.06-.94-2.06-.94-.94-2.06-.94 2.06-2.06.94z\"/><path d=\"M17.41 7.96l-1.37-1.37c-.4-.4-.92-.59-1.43-.59-.52 0-1.04.2-1.43.59L10.3 9.45l-7.72 7.72c-.78.78-.78 2.05 0 2.83L4 21.41c.39.39.9.59 1.41.59.51 0 1.02-.2 1.41-.59l7.78-7.78 2.81-2.81c.8-.78.8-2.07 0-2.86zM5.41 20L4 18.59l7.72-7.72 1.47 1.35L5.41 20z\"/>\n",
              "  </svg>\n",
              "      </button>\n",
              "      \n",
              "  <style>\n",
              "    .colab-df-container {\n",
              "      display:flex;\n",
              "      flex-wrap:wrap;\n",
              "      gap: 12px;\n",
              "    }\n",
              "\n",
              "    .colab-df-convert {\n",
              "      background-color: #E8F0FE;\n",
              "      border: none;\n",
              "      border-radius: 50%;\n",
              "      cursor: pointer;\n",
              "      display: none;\n",
              "      fill: #1967D2;\n",
              "      height: 32px;\n",
              "      padding: 0 0 0 0;\n",
              "      width: 32px;\n",
              "    }\n",
              "\n",
              "    .colab-df-convert:hover {\n",
              "      background-color: #E2EBFA;\n",
              "      box-shadow: 0px 1px 2px rgba(60, 64, 67, 0.3), 0px 1px 3px 1px rgba(60, 64, 67, 0.15);\n",
              "      fill: #174EA6;\n",
              "    }\n",
              "\n",
              "    [theme=dark] .colab-df-convert {\n",
              "      background-color: #3B4455;\n",
              "      fill: #D2E3FC;\n",
              "    }\n",
              "\n",
              "    [theme=dark] .colab-df-convert:hover {\n",
              "      background-color: #434B5C;\n",
              "      box-shadow: 0px 1px 3px 1px rgba(0, 0, 0, 0.15);\n",
              "      filter: drop-shadow(0px 1px 2px rgba(0, 0, 0, 0.3));\n",
              "      fill: #FFFFFF;\n",
              "    }\n",
              "  </style>\n",
              "\n",
              "      <script>\n",
              "        const buttonEl =\n",
              "          document.querySelector('#df-9fd62542-0c7f-45f6-b2f6-004513f0f0a3 button.colab-df-convert');\n",
              "        buttonEl.style.display =\n",
              "          google.colab.kernel.accessAllowed ? 'block' : 'none';\n",
              "\n",
              "        async function convertToInteractive(key) {\n",
              "          const element = document.querySelector('#df-9fd62542-0c7f-45f6-b2f6-004513f0f0a3');\n",
              "          const dataTable =\n",
              "            await google.colab.kernel.invokeFunction('convertToInteractive',\n",
              "                                                     [key], {});\n",
              "          if (!dataTable) return;\n",
              "\n",
              "          const docLinkHtml = 'Like what you see? Visit the ' +\n",
              "            '<a target=\"_blank\" href=https://colab.research.google.com/notebooks/data_table.ipynb>data table notebook</a>'\n",
              "            + ' to learn more about interactive tables.';\n",
              "          element.innerHTML = '';\n",
              "          dataTable['output_type'] = 'display_data';\n",
              "          await google.colab.output.renderOutput(dataTable, element);\n",
              "          const docLink = document.createElement('div');\n",
              "          docLink.innerHTML = docLinkHtml;\n",
              "          element.appendChild(docLink);\n",
              "        }\n",
              "      </script>\n",
              "    </div>\n",
              "  </div>\n",
              "  "
            ]
          },
          "metadata": {},
          "execution_count": 25
        }
      ]
    },
    {
      "cell_type": "markdown",
      "source": [
        "Create a preprocessing object to prepare the dataset for Machine Learning"
      ],
      "metadata": {
        "id": "MteeICAu9tj9"
      }
    },
    {
      "cell_type": "code",
      "source": [
        "from sklearn.compose import make_column_selector\n",
        "num_selector = make_column_selector(dtype_include='number')\n",
        "cat_selector = make_column_selector(dtype_include='object')"
      ],
      "metadata": {
        "id": "NsmBzm2k9vU7"
      },
      "execution_count": 26,
      "outputs": []
    },
    {
      "cell_type": "code",
      "source": [
        "#One - Hot Encoder \n",
        "ohe = OneHotEncoder()\n",
        "\n",
        "#Scaer\n",
        "scaler = StandardScaler()"
      ],
      "metadata": {
        "id": "bvKYO8C8za1P"
      },
      "execution_count": 30,
      "outputs": []
    },
    {
      "cell_type": "code",
      "source": [
        "#Numeric Pipeline\n",
        "numeric_pipline = make_pipeline(scaler)\n",
        "\n",
        "#Categorical Pipeline\n",
        "categorical_pipe = make_pipeline(ohe)"
      ],
      "metadata": {
        "id": "a3mgXOBjyW2r"
      },
      "execution_count": 31,
      "outputs": []
    },
    {
      "cell_type": "code",
      "source": [
        "num_tuple = (numeric_pipline, num_selector)\n",
        "cat_tuple = (categorical_pipe, cat_selector)\n",
        "\n",
        "#ColumnTransformer\n",
        "preprocessor = make_column_transformer(num_tuple, cat_tuple, remainder='passthrough')\n",
        "preprocessor"
      ],
      "metadata": {
        "colab": {
          "base_uri": "https://localhost:8080/",
          "height": 141
        },
        "id": "690jXQOD0CpE",
        "outputId": "6abb31f4-8c4e-48f4-aee3-f0f462898e18"
      },
      "execution_count": 33,
      "outputs": [
        {
          "output_type": "execute_result",
          "data": {
            "text/plain": [
              "ColumnTransformer(remainder='passthrough',\n",
              "                  transformers=[('pipeline-1',\n",
              "                                 Pipeline(steps=[('standardscaler',\n",
              "                                                  StandardScaler())]),\n",
              "                                 <sklearn.compose._column_transformer.make_column_selector object at 0x7f46e5eb0e10>),\n",
              "                                ('pipeline-2',\n",
              "                                 Pipeline(steps=[('onehotencoder',\n",
              "                                                  OneHotEncoder())]),\n",
              "                                 <sklearn.compose._column_transformer.make_column_selector object at 0x7f46e5eb0050>)])"
            ],
            "text/html": [
              "<style>#sk-137e00e8-310f-4804-8aaa-d2236f2c9544 {color: black;background-color: white;}#sk-137e00e8-310f-4804-8aaa-d2236f2c9544 pre{padding: 0;}#sk-137e00e8-310f-4804-8aaa-d2236f2c9544 div.sk-toggleable {background-color: white;}#sk-137e00e8-310f-4804-8aaa-d2236f2c9544 label.sk-toggleable__label {cursor: pointer;display: block;width: 100%;margin-bottom: 0;padding: 0.3em;box-sizing: border-box;text-align: center;}#sk-137e00e8-310f-4804-8aaa-d2236f2c9544 label.sk-toggleable__label-arrow:before {content: \"▸\";float: left;margin-right: 0.25em;color: #696969;}#sk-137e00e8-310f-4804-8aaa-d2236f2c9544 label.sk-toggleable__label-arrow:hover:before {color: black;}#sk-137e00e8-310f-4804-8aaa-d2236f2c9544 div.sk-estimator:hover label.sk-toggleable__label-arrow:before {color: black;}#sk-137e00e8-310f-4804-8aaa-d2236f2c9544 div.sk-toggleable__content {max-height: 0;max-width: 0;overflow: hidden;text-align: left;background-color: #f0f8ff;}#sk-137e00e8-310f-4804-8aaa-d2236f2c9544 div.sk-toggleable__content pre {margin: 0.2em;color: black;border-radius: 0.25em;background-color: #f0f8ff;}#sk-137e00e8-310f-4804-8aaa-d2236f2c9544 input.sk-toggleable__control:checked~div.sk-toggleable__content {max-height: 200px;max-width: 100%;overflow: auto;}#sk-137e00e8-310f-4804-8aaa-d2236f2c9544 input.sk-toggleable__control:checked~label.sk-toggleable__label-arrow:before {content: \"▾\";}#sk-137e00e8-310f-4804-8aaa-d2236f2c9544 div.sk-estimator input.sk-toggleable__control:checked~label.sk-toggleable__label {background-color: #d4ebff;}#sk-137e00e8-310f-4804-8aaa-d2236f2c9544 div.sk-label input.sk-toggleable__control:checked~label.sk-toggleable__label {background-color: #d4ebff;}#sk-137e00e8-310f-4804-8aaa-d2236f2c9544 input.sk-hidden--visually {border: 0;clip: rect(1px 1px 1px 1px);clip: rect(1px, 1px, 1px, 1px);height: 1px;margin: -1px;overflow: hidden;padding: 0;position: absolute;width: 1px;}#sk-137e00e8-310f-4804-8aaa-d2236f2c9544 div.sk-estimator {font-family: monospace;background-color: #f0f8ff;border: 1px dotted black;border-radius: 0.25em;box-sizing: border-box;margin-bottom: 0.5em;}#sk-137e00e8-310f-4804-8aaa-d2236f2c9544 div.sk-estimator:hover {background-color: #d4ebff;}#sk-137e00e8-310f-4804-8aaa-d2236f2c9544 div.sk-parallel-item::after {content: \"\";width: 100%;border-bottom: 1px solid gray;flex-grow: 1;}#sk-137e00e8-310f-4804-8aaa-d2236f2c9544 div.sk-label:hover label.sk-toggleable__label {background-color: #d4ebff;}#sk-137e00e8-310f-4804-8aaa-d2236f2c9544 div.sk-serial::before {content: \"\";position: absolute;border-left: 1px solid gray;box-sizing: border-box;top: 2em;bottom: 0;left: 50%;}#sk-137e00e8-310f-4804-8aaa-d2236f2c9544 div.sk-serial {display: flex;flex-direction: column;align-items: center;background-color: white;padding-right: 0.2em;padding-left: 0.2em;}#sk-137e00e8-310f-4804-8aaa-d2236f2c9544 div.sk-item {z-index: 1;}#sk-137e00e8-310f-4804-8aaa-d2236f2c9544 div.sk-parallel {display: flex;align-items: stretch;justify-content: center;background-color: white;}#sk-137e00e8-310f-4804-8aaa-d2236f2c9544 div.sk-parallel::before {content: \"\";position: absolute;border-left: 1px solid gray;box-sizing: border-box;top: 2em;bottom: 0;left: 50%;}#sk-137e00e8-310f-4804-8aaa-d2236f2c9544 div.sk-parallel-item {display: flex;flex-direction: column;position: relative;background-color: white;}#sk-137e00e8-310f-4804-8aaa-d2236f2c9544 div.sk-parallel-item:first-child::after {align-self: flex-end;width: 50%;}#sk-137e00e8-310f-4804-8aaa-d2236f2c9544 div.sk-parallel-item:last-child::after {align-self: flex-start;width: 50%;}#sk-137e00e8-310f-4804-8aaa-d2236f2c9544 div.sk-parallel-item:only-child::after {width: 0;}#sk-137e00e8-310f-4804-8aaa-d2236f2c9544 div.sk-dashed-wrapped {border: 1px dashed gray;margin: 0 0.4em 0.5em 0.4em;box-sizing: border-box;padding-bottom: 0.4em;background-color: white;position: relative;}#sk-137e00e8-310f-4804-8aaa-d2236f2c9544 div.sk-label label {font-family: monospace;font-weight: bold;background-color: white;display: inline-block;line-height: 1.2em;}#sk-137e00e8-310f-4804-8aaa-d2236f2c9544 div.sk-label-container {position: relative;z-index: 2;text-align: center;}#sk-137e00e8-310f-4804-8aaa-d2236f2c9544 div.sk-container {/* jupyter's `normalize.less` sets `[hidden] { display: none; }` but bootstrap.min.css set `[hidden] { display: none !important; }` so we also need the `!important` here to be able to override the default hidden behavior on the sphinx rendered scikit-learn.org. See: https://github.com/scikit-learn/scikit-learn/issues/21755 */display: inline-block !important;position: relative;}#sk-137e00e8-310f-4804-8aaa-d2236f2c9544 div.sk-text-repr-fallback {display: none;}</style><div id=\"sk-137e00e8-310f-4804-8aaa-d2236f2c9544\" class=\"sk-top-container\"><div class=\"sk-text-repr-fallback\"><pre>ColumnTransformer(remainder=&#x27;passthrough&#x27;,\n",
              "                  transformers=[(&#x27;pipeline-1&#x27;,\n",
              "                                 Pipeline(steps=[(&#x27;standardscaler&#x27;,\n",
              "                                                  StandardScaler())]),\n",
              "                                 &lt;sklearn.compose._column_transformer.make_column_selector object at 0x7f46e5eb0e10&gt;),\n",
              "                                (&#x27;pipeline-2&#x27;,\n",
              "                                 Pipeline(steps=[(&#x27;onehotencoder&#x27;,\n",
              "                                                  OneHotEncoder())]),\n",
              "                                 &lt;sklearn.compose._column_transformer.make_column_selector object at 0x7f46e5eb0050&gt;)])</pre><b>Please rerun this cell to show the HTML repr or trust the notebook.</b></div><div class=\"sk-container\" hidden><div class=\"sk-item sk-dashed-wrapped\"><div class=\"sk-label-container\"><div class=\"sk-label sk-toggleable\"><input class=\"sk-toggleable__control sk-hidden--visually\" id=\"7da4a927-a6cb-4543-9bb5-01bd46210239\" type=\"checkbox\" ><label for=\"7da4a927-a6cb-4543-9bb5-01bd46210239\" class=\"sk-toggleable__label sk-toggleable__label-arrow\">ColumnTransformer</label><div class=\"sk-toggleable__content\"><pre>ColumnTransformer(remainder=&#x27;passthrough&#x27;,\n",
              "                  transformers=[(&#x27;pipeline-1&#x27;,\n",
              "                                 Pipeline(steps=[(&#x27;standardscaler&#x27;,\n",
              "                                                  StandardScaler())]),\n",
              "                                 &lt;sklearn.compose._column_transformer.make_column_selector object at 0x7f46e5eb0e10&gt;),\n",
              "                                (&#x27;pipeline-2&#x27;,\n",
              "                                 Pipeline(steps=[(&#x27;onehotencoder&#x27;,\n",
              "                                                  OneHotEncoder())]),\n",
              "                                 &lt;sklearn.compose._column_transformer.make_column_selector object at 0x7f46e5eb0050&gt;)])</pre></div></div></div><div class=\"sk-parallel\"><div class=\"sk-parallel-item\"><div class=\"sk-item\"><div class=\"sk-label-container\"><div class=\"sk-label sk-toggleable\"><input class=\"sk-toggleable__control sk-hidden--visually\" id=\"a0477ef0-15e5-4e8e-94b5-f566a3fe9572\" type=\"checkbox\" ><label for=\"a0477ef0-15e5-4e8e-94b5-f566a3fe9572\" class=\"sk-toggleable__label sk-toggleable__label-arrow\">pipeline-1</label><div class=\"sk-toggleable__content\"><pre>&lt;sklearn.compose._column_transformer.make_column_selector object at 0x7f46e5eb0e10&gt;</pre></div></div></div><div class=\"sk-serial\"><div class=\"sk-item\"><div class=\"sk-serial\"><div class=\"sk-item\"><div class=\"sk-estimator sk-toggleable\"><input class=\"sk-toggleable__control sk-hidden--visually\" id=\"463cfa3d-aff6-42eb-a27d-57f2b08500f9\" type=\"checkbox\" ><label for=\"463cfa3d-aff6-42eb-a27d-57f2b08500f9\" class=\"sk-toggleable__label sk-toggleable__label-arrow\">StandardScaler</label><div class=\"sk-toggleable__content\"><pre>StandardScaler()</pre></div></div></div></div></div></div></div></div><div class=\"sk-parallel-item\"><div class=\"sk-item\"><div class=\"sk-label-container\"><div class=\"sk-label sk-toggleable\"><input class=\"sk-toggleable__control sk-hidden--visually\" id=\"cb4664e9-bbee-4ddd-8337-b537f9550a98\" type=\"checkbox\" ><label for=\"cb4664e9-bbee-4ddd-8337-b537f9550a98\" class=\"sk-toggleable__label sk-toggleable__label-arrow\">pipeline-2</label><div class=\"sk-toggleable__content\"><pre>&lt;sklearn.compose._column_transformer.make_column_selector object at 0x7f46e5eb0050&gt;</pre></div></div></div><div class=\"sk-serial\"><div class=\"sk-item\"><div class=\"sk-serial\"><div class=\"sk-item\"><div class=\"sk-estimator sk-toggleable\"><input class=\"sk-toggleable__control sk-hidden--visually\" id=\"ec25d423-3bb2-445f-8d9c-1e86efddbeac\" type=\"checkbox\" ><label for=\"ec25d423-3bb2-445f-8d9c-1e86efddbeac\" class=\"sk-toggleable__label sk-toggleable__label-arrow\">OneHotEncoder</label><div class=\"sk-toggleable__content\"><pre>OneHotEncoder()</pre></div></div></div></div></div></div></div></div><div class=\"sk-parallel-item\"><div class=\"sk-item\"><div class=\"sk-label-container\"><div class=\"sk-label sk-toggleable\"><input class=\"sk-toggleable__control sk-hidden--visually\" id=\"d199d1dd-8352-4396-96d5-2216d661b8b1\" type=\"checkbox\" ><label for=\"d199d1dd-8352-4396-96d5-2216d661b8b1\" class=\"sk-toggleable__label sk-toggleable__label-arrow\">remainder</label><div class=\"sk-toggleable__content\"><pre></pre></div></div></div><div class=\"sk-serial\"><div class=\"sk-item\"><div class=\"sk-estimator sk-toggleable\"><input class=\"sk-toggleable__control sk-hidden--visually\" id=\"9c03e74f-7c7e-4caa-b2cf-d5e79df5f020\" type=\"checkbox\" ><label for=\"9c03e74f-7c7e-4caa-b2cf-d5e79df5f020\" class=\"sk-toggleable__label sk-toggleable__label-arrow\">passthrough</label><div class=\"sk-toggleable__content\"><pre>passthrough</pre></div></div></div></div></div></div></div></div></div></div>"
            ]
          },
          "metadata": {},
          "execution_count": 33
        }
      ]
    },
    {
      "cell_type": "markdown",
      "source": [
        "Suggestions : \n",
        "1. Explain in a text cell why you are using the encoding and imputing strategies you are instead of other options.  Why impute rather than drop columns or rows?  Why use median , mean or mode?  Why fill with most frequent instead of creating a new category for missing data?  Your choices aren't wrong, but these kinds of explanations of your thought process are important in data science work.\n",
        "<br> <br>\n",
        "    I'm not imputing any data because there is no missing data. Missing data has already been dropped and touched upon in section 2\n",
        "---\n",
        "\n",
        "\n",
        "2.  For best results in the final part of Project 1 when you're creating your ML model, you can  drop the 'Item_Identifier' and 'Outlet_Identifier' features/columns out, and also consider dropping the 'Outlet_Establishment_Year' as well.  Identifiers are unique to every single product, so inclusion of those will provide no value, and likely decrease your model performance.\"\n",
        "<br><br>\n",
        "  Outlet establishment year was already dropped. the following was also dropped. "
      ],
      "metadata": {
        "id": "eiTxTUIW0SEB"
      }
    }
  ],
  "metadata": {
    "colab": {
      "collapsed_sections": [],
      "name": "Sales Predictions Part 5.ipynb",
      "provenance": [],
      "include_colab_link": true
    },
    "kernelspec": {
      "display_name": "Python 3 (ipykernel)",
      "language": "python",
      "name": "python3"
    },
    "language_info": {
      "codemirror_mode": {
        "name": "ipython",
        "version": 3
      },
      "file_extension": ".py",
      "mimetype": "text/x-python",
      "name": "python",
      "nbconvert_exporter": "python",
      "pygments_lexer": "ipython3",
      "version": "3.9.7"
    }
  },
  "nbformat": 4,
  "nbformat_minor": 0
}