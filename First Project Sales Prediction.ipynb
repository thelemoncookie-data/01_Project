{
 "cells": [
  {
   "cell_type": "markdown",
   "metadata": {
    "id": "Q_tb-sWKv1F2"
   },
   "source": [
    "## Darlene Phan\n",
    "July 8, 2022<br>\n",
    "My first project"
   ]
  },
  {
   "cell_type": "markdown",
   "metadata": {
    "id": "I9-iiuDta9tn"
   },
   "source": [
    "### Data Exploration"
   ]
  },
  {
   "cell_type": "markdown",
   "metadata": {},
   "source": [
    "#### Imports were updated as needed, but wanted to keep all the imports centralized for easy viewing. "
   ]
  },
  {
   "cell_type": "code",
   "execution_count": 1,
   "metadata": {
    "id": "DW4pH8dqjVyX"
   },
   "outputs": [],
   "source": [
    "import pandas as pd\n",
    "import matplotlib.pyplot as plt\n",
    "import numpy as np\n",
    "import seaborn as sns\n",
    "import matplotlib as mpl\n",
    "from sklearn.model_selection import train_test_split\n",
    "from sklearn.preprocessing import StandardScaler, OneHotEncoder\n",
    "from sklearn.linear_model import LinearRegression\n",
    "from sklearn.compose import make_column_selector, make_column_transformer\n",
    "from sklearn.pipeline import make_pipeline\n",
    "from sklearn.metrics import mean_absolute_error, mean_squared_error, r2_score\n",
    "from sklearn.tree import DecisionTreeRegressor\n",
    "from sklearn import set_config\n",
    "set_config(display='diagram')"
   ]
  },
  {
   "cell_type": "code",
   "execution_count": 2,
   "metadata": {},
   "outputs": [],
   "source": [
    "sales = pd.read_csv('Data/sales_predictions (2).csv')"
   ]
  },
  {
   "cell_type": "code",
   "execution_count": 3,
   "metadata": {
    "colab": {
     "base_uri": "https://localhost:8080/",
     "height": 206
    },
    "id": "--tTOvUTjjbp",
    "outputId": "32fb9aa7-7c2c-48f7-f33c-e32acbcebd7e"
   },
   "outputs": [
    {
     "data": {
      "text/html": [
       "<div>\n",
       "<style scoped>\n",
       "    .dataframe tbody tr th:only-of-type {\n",
       "        vertical-align: middle;\n",
       "    }\n",
       "\n",
       "    .dataframe tbody tr th {\n",
       "        vertical-align: top;\n",
       "    }\n",
       "\n",
       "    .dataframe thead th {\n",
       "        text-align: right;\n",
       "    }\n",
       "</style>\n",
       "<table border=\"1\" class=\"dataframe\">\n",
       "  <thead>\n",
       "    <tr style=\"text-align: right;\">\n",
       "      <th></th>\n",
       "      <th>item_id</th>\n",
       "      <th>item_weight</th>\n",
       "      <th>item_fat_content</th>\n",
       "      <th>item_visibility</th>\n",
       "      <th>item_type</th>\n",
       "      <th>mrp</th>\n",
       "      <th>outlet_id</th>\n",
       "      <th>est_year</th>\n",
       "      <th>outlet_size</th>\n",
       "      <th>loc_type</th>\n",
       "      <th>outlet_type</th>\n",
       "      <th>item_sales</th>\n",
       "    </tr>\n",
       "  </thead>\n",
       "  <tbody>\n",
       "    <tr>\n",
       "      <th>0</th>\n",
       "      <td>FDA15</td>\n",
       "      <td>9.30</td>\n",
       "      <td>Low Fat</td>\n",
       "      <td>0.016047</td>\n",
       "      <td>Dairy</td>\n",
       "      <td>249.8092</td>\n",
       "      <td>OUT049</td>\n",
       "      <td>1999</td>\n",
       "      <td>Medium</td>\n",
       "      <td>Tier 1</td>\n",
       "      <td>Supermarket Type1</td>\n",
       "      <td>3735.1380</td>\n",
       "    </tr>\n",
       "    <tr>\n",
       "      <th>1</th>\n",
       "      <td>DRC01</td>\n",
       "      <td>5.92</td>\n",
       "      <td>Regular</td>\n",
       "      <td>0.019278</td>\n",
       "      <td>Soft Drinks</td>\n",
       "      <td>48.2692</td>\n",
       "      <td>OUT018</td>\n",
       "      <td>2009</td>\n",
       "      <td>Medium</td>\n",
       "      <td>Tier 3</td>\n",
       "      <td>Supermarket Type2</td>\n",
       "      <td>443.4228</td>\n",
       "    </tr>\n",
       "    <tr>\n",
       "      <th>2</th>\n",
       "      <td>FDN15</td>\n",
       "      <td>17.50</td>\n",
       "      <td>Low Fat</td>\n",
       "      <td>0.016760</td>\n",
       "      <td>Meat</td>\n",
       "      <td>141.6180</td>\n",
       "      <td>OUT049</td>\n",
       "      <td>1999</td>\n",
       "      <td>Medium</td>\n",
       "      <td>Tier 1</td>\n",
       "      <td>Supermarket Type1</td>\n",
       "      <td>2097.2700</td>\n",
       "    </tr>\n",
       "    <tr>\n",
       "      <th>3</th>\n",
       "      <td>FDX07</td>\n",
       "      <td>19.20</td>\n",
       "      <td>Regular</td>\n",
       "      <td>0.000000</td>\n",
       "      <td>Fruits and Vegetables</td>\n",
       "      <td>182.0950</td>\n",
       "      <td>OUT010</td>\n",
       "      <td>1998</td>\n",
       "      <td>NaN</td>\n",
       "      <td>Tier 3</td>\n",
       "      <td>Grocery Store</td>\n",
       "      <td>732.3800</td>\n",
       "    </tr>\n",
       "    <tr>\n",
       "      <th>4</th>\n",
       "      <td>NCD19</td>\n",
       "      <td>8.93</td>\n",
       "      <td>Low Fat</td>\n",
       "      <td>0.000000</td>\n",
       "      <td>Household</td>\n",
       "      <td>53.8614</td>\n",
       "      <td>OUT013</td>\n",
       "      <td>1987</td>\n",
       "      <td>High</td>\n",
       "      <td>Tier 3</td>\n",
       "      <td>Supermarket Type1</td>\n",
       "      <td>994.7052</td>\n",
       "    </tr>\n",
       "  </tbody>\n",
       "</table>\n",
       "</div>"
      ],
      "text/plain": [
       "  item_id  item_weight item_fat_content  item_visibility  \\\n",
       "0   FDA15         9.30          Low Fat         0.016047   \n",
       "1   DRC01         5.92          Regular         0.019278   \n",
       "2   FDN15        17.50          Low Fat         0.016760   \n",
       "3   FDX07        19.20          Regular         0.000000   \n",
       "4   NCD19         8.93          Low Fat         0.000000   \n",
       "\n",
       "               item_type       mrp outlet_id  est_year outlet_size loc_type  \\\n",
       "0                  Dairy  249.8092    OUT049      1999      Medium   Tier 1   \n",
       "1            Soft Drinks   48.2692    OUT018      2009      Medium   Tier 3   \n",
       "2                   Meat  141.6180    OUT049      1999      Medium   Tier 1   \n",
       "3  Fruits and Vegetables  182.0950    OUT010      1998         NaN   Tier 3   \n",
       "4              Household   53.8614    OUT013      1987        High   Tier 3   \n",
       "\n",
       "         outlet_type  item_sales  \n",
       "0  Supermarket Type1   3735.1380  \n",
       "1  Supermarket Type2    443.4228  \n",
       "2  Supermarket Type1   2097.2700  \n",
       "3      Grocery Store    732.3800  \n",
       "4  Supermarket Type1    994.7052  "
      ]
     },
     "execution_count": 3,
     "metadata": {},
     "output_type": "execute_result"
    }
   ],
   "source": [
    "#Renamed columns so they're eaiser to read, shortened or makes them easy to reference later in the code. \n",
    "rename = {'Item_Identifier': 'item_id',\n",
    "'Item_Weight': 'item_weight',\n",
    "'Item_Fat_Content': 'item_fat_content',\n",
    "'Item_Visibility': 'item_visibility',\n",
    "'Item_Type': 'item_type',\n",
    "'Item_MRP': 'mrp',\n",
    "'Outlet_Identifier': 'outlet_id',\n",
    "'Outlet_Establishment_Year': 'est_year',\n",
    "'Outlet_Size': 'outlet_size',\n",
    "'Outlet_Location_Type': 'loc_type',\n",
    "'Outlet_Type': 'outlet_type',\n",
    "'Item_Outlet_Sales': 'item_sales'\n",
    "}\n",
    "sales.rename(columns=rename, inplace=True)\n",
    "sales.head()"
   ]
  },
  {
   "cell_type": "code",
   "execution_count": 4,
   "metadata": {
    "colab": {
     "base_uri": "https://localhost:8080/"
    },
    "id": "3iFHMB9djf8Z",
    "outputId": "97e1b7dc-90fa-4600-a595-086a246ed488"
   },
   "outputs": [
    {
     "data": {
      "text/plain": [
       "0"
      ]
     },
     "execution_count": 4,
     "metadata": {},
     "output_type": "execute_result"
    }
   ],
   "source": [
    "#checking for duplicates\n",
    "sales.duplicated().sum()"
   ]
  },
  {
   "cell_type": "code",
   "execution_count": 5,
   "metadata": {},
   "outputs": [
    {
     "data": {
      "text/plain": [
       "item_id                0\n",
       "item_weight         1463\n",
       "item_fat_content       0\n",
       "item_visibility        0\n",
       "item_type              0\n",
       "mrp                    0\n",
       "outlet_id              0\n",
       "est_year               0\n",
       "outlet_size         2410\n",
       "loc_type               0\n",
       "outlet_type            0\n",
       "item_sales             0\n",
       "dtype: int64"
      ]
     },
     "execution_count": 5,
     "metadata": {},
     "output_type": "execute_result"
    }
   ],
   "source": [
    "#Checking for missing values in the data\n",
    "sales.isna().sum()"
   ]
  },
  {
   "cell_type": "code",
   "execution_count": 6,
   "metadata": {
    "colab": {
     "base_uri": "https://localhost:8080/"
    },
    "id": "krdqaD54jf3N",
    "outputId": "7d3bceea-a5c6-4b4b-aace-0aae89e330da"
   },
   "outputs": [
    {
     "data": {
      "text/plain": [
       "(8523, 12)"
      ]
     },
     "execution_count": 6,
     "metadata": {},
     "output_type": "execute_result"
    }
   ],
   "source": [
    "# Seeing the overall shape of the data\n",
    "sales.shape"
   ]
  },
  {
   "cell_type": "code",
   "execution_count": 7,
   "metadata": {
    "colab": {
     "base_uri": "https://localhost:8080/"
    },
    "id": "ndzDtGq8jf6I",
    "outputId": "fe995635-9c55-4936-ecf7-139c1ef3ee6e"
   },
   "outputs": [
    {
     "name": "stdout",
     "output_type": "stream",
     "text": [
      "<class 'pandas.core.frame.DataFrame'>\n",
      "RangeIndex: 8523 entries, 0 to 8522\n",
      "Data columns (total 12 columns):\n",
      " #   Column            Non-Null Count  Dtype  \n",
      "---  ------            --------------  -----  \n",
      " 0   item_id           8523 non-null   object \n",
      " 1   item_weight       7060 non-null   float64\n",
      " 2   item_fat_content  8523 non-null   object \n",
      " 3   item_visibility   8523 non-null   float64\n",
      " 4   item_type         8523 non-null   object \n",
      " 5   mrp               8523 non-null   float64\n",
      " 6   outlet_id         8523 non-null   object \n",
      " 7   est_year          8523 non-null   int64  \n",
      " 8   outlet_size       6113 non-null   object \n",
      " 9   loc_type          8523 non-null   object \n",
      " 10  outlet_type       8523 non-null   object \n",
      " 11  item_sales        8523 non-null   float64\n",
      "dtypes: float64(4), int64(1), object(7)\n",
      "memory usage: 799.2+ KB\n"
     ]
    }
   ],
   "source": [
    "# Checking object types and confirming missing values\n",
    "sales.info()"
   ]
  },
  {
   "cell_type": "markdown",
   "metadata": {},
   "source": [
    "### Dropping Columns\n",
    "Based on the data exploration, the item weight cateogry has 17% data missing overall. Unfortunately, that is a lot more than the standard for which we should be imputing data. I also believe that item weight does not contribute much to the item sales themselves, therefore that column will be dropped. \n",
    "\n",
    "Outlet size is also going to be dropped since it is missing 28% of the data. However, there are other metrics to measure the size of the establishment. So we can move forth with removing this slightly redundant column.\n",
    "\n",
    "Note - We could impute data here, that is an option. However, there is so much missing data that imputing would drastically skew our model, thus rendering our Machine Learning model ineffective. "
   ]
  },
  {
   "cell_type": "code",
   "execution_count": 8,
   "metadata": {
    "id": "J2WAFaOEjrsl"
   },
   "outputs": [],
   "source": [
    "sales = sales.drop(columns=['item_weight','outlet_size'])"
   ]
  },
  {
   "cell_type": "code",
   "execution_count": 9,
   "metadata": {
    "colab": {
     "base_uri": "https://localhost:8080/"
    },
    "id": "ieyEW3a3jrvK",
    "outputId": "e5f10c71-20fa-40fe-e803-f57fac015aee"
   },
   "outputs": [
    {
     "data": {
      "text/plain": [
       "item_id             0\n",
       "item_fat_content    0\n",
       "item_visibility     0\n",
       "item_type           0\n",
       "mrp                 0\n",
       "outlet_id           0\n",
       "est_year            0\n",
       "loc_type            0\n",
       "outlet_type         0\n",
       "item_sales          0\n",
       "dtype: int64"
      ]
     },
     "execution_count": 9,
     "metadata": {},
     "output_type": "execute_result"
    }
   ],
   "source": [
    "sales.isnull().sum()"
   ]
  },
  {
   "cell_type": "code",
   "execution_count": 10,
   "metadata": {
    "colab": {
     "base_uri": "https://localhost:8080/"
    },
    "id": "nYDuxOMSjgAy",
    "outputId": "92c00765-6c3c-49c4-d6e2-69c0b9e27742"
   },
   "outputs": [
    {
     "data": {
      "text/plain": [
       "array(['Low Fat', 'Regular'], dtype=object)"
      ]
     },
     "execution_count": 10,
     "metadata": {},
     "output_type": "execute_result"
    }
   ],
   "source": [
    "#adjusting categorical errors\n",
    "sales['item_fat_content'] = sales['item_fat_content'].replace('LF', 'Low Fat')\n",
    "sales['item_fat_content'] = sales['item_fat_content'].replace('low fat', 'Low Fat')\n",
    "sales['item_fat_content'] = sales['item_fat_content'].replace('reg', 'Regular')\n",
    "sales.item_fat_content.unique()"
   ]
  },
  {
   "cell_type": "code",
   "execution_count": 11,
   "metadata": {
    "colab": {
     "base_uri": "https://localhost:8080/",
     "height": 300
    },
    "id": "I9FDqxbpj2xu",
    "outputId": "813c744f-9172-4608-d55e-833869a103b1"
   },
   "outputs": [
    {
     "data": {
      "text/html": [
       "<div>\n",
       "<style scoped>\n",
       "    .dataframe tbody tr th:only-of-type {\n",
       "        vertical-align: middle;\n",
       "    }\n",
       "\n",
       "    .dataframe tbody tr th {\n",
       "        vertical-align: top;\n",
       "    }\n",
       "\n",
       "    .dataframe thead th {\n",
       "        text-align: right;\n",
       "    }\n",
       "</style>\n",
       "<table border=\"1\" class=\"dataframe\">\n",
       "  <thead>\n",
       "    <tr style=\"text-align: right;\">\n",
       "      <th></th>\n",
       "      <th>item_visibility</th>\n",
       "      <th>mrp</th>\n",
       "      <th>est_year</th>\n",
       "      <th>item_sales</th>\n",
       "    </tr>\n",
       "  </thead>\n",
       "  <tbody>\n",
       "    <tr>\n",
       "      <th>count</th>\n",
       "      <td>8523.000000</td>\n",
       "      <td>8523.000000</td>\n",
       "      <td>8523.000000</td>\n",
       "      <td>8523.000000</td>\n",
       "    </tr>\n",
       "    <tr>\n",
       "      <th>mean</th>\n",
       "      <td>0.066132</td>\n",
       "      <td>140.992782</td>\n",
       "      <td>1997.831867</td>\n",
       "      <td>2181.288914</td>\n",
       "    </tr>\n",
       "    <tr>\n",
       "      <th>std</th>\n",
       "      <td>0.051598</td>\n",
       "      <td>62.275067</td>\n",
       "      <td>8.371760</td>\n",
       "      <td>1706.499616</td>\n",
       "    </tr>\n",
       "    <tr>\n",
       "      <th>min</th>\n",
       "      <td>0.000000</td>\n",
       "      <td>31.290000</td>\n",
       "      <td>1985.000000</td>\n",
       "      <td>33.290000</td>\n",
       "    </tr>\n",
       "    <tr>\n",
       "      <th>25%</th>\n",
       "      <td>0.026989</td>\n",
       "      <td>93.826500</td>\n",
       "      <td>1987.000000</td>\n",
       "      <td>834.247400</td>\n",
       "    </tr>\n",
       "    <tr>\n",
       "      <th>50%</th>\n",
       "      <td>0.053931</td>\n",
       "      <td>143.012800</td>\n",
       "      <td>1999.000000</td>\n",
       "      <td>1794.331000</td>\n",
       "    </tr>\n",
       "    <tr>\n",
       "      <th>75%</th>\n",
       "      <td>0.094585</td>\n",
       "      <td>185.643700</td>\n",
       "      <td>2004.000000</td>\n",
       "      <td>3101.296400</td>\n",
       "    </tr>\n",
       "    <tr>\n",
       "      <th>max</th>\n",
       "      <td>0.328391</td>\n",
       "      <td>266.888400</td>\n",
       "      <td>2009.000000</td>\n",
       "      <td>13086.964800</td>\n",
       "    </tr>\n",
       "  </tbody>\n",
       "</table>\n",
       "</div>"
      ],
      "text/plain": [
       "       item_visibility          mrp     est_year    item_sales\n",
       "count      8523.000000  8523.000000  8523.000000   8523.000000\n",
       "mean          0.066132   140.992782  1997.831867   2181.288914\n",
       "std           0.051598    62.275067     8.371760   1706.499616\n",
       "min           0.000000    31.290000  1985.000000     33.290000\n",
       "25%           0.026989    93.826500  1987.000000    834.247400\n",
       "50%           0.053931   143.012800  1999.000000   1794.331000\n",
       "75%           0.094585   185.643700  2004.000000   3101.296400\n",
       "max           0.328391   266.888400  2009.000000  13086.964800"
      ]
     },
     "execution_count": 11,
     "metadata": {},
     "output_type": "execute_result"
    }
   ],
   "source": [
    "#Generating statistical data\n",
    "sales.describe() "
   ]
  },
  {
   "cell_type": "markdown",
   "metadata": {},
   "source": [
    "### Creating copy of dataframe. \n",
    "This prevents data leakage for when we prep the model for machine learning. "
   ]
  },
  {
   "cell_type": "code",
   "execution_count": 12,
   "metadata": {},
   "outputs": [],
   "source": [
    "ml_sales = sales.copy()"
   ]
  },
  {
   "cell_type": "markdown",
   "metadata": {
    "id": "iHwRBXROa3-T"
   },
   "source": [
    "### Data Exploration Through Visualization\n",
    "This first part of the data visualization I will be using some univariate graphs. This allows us to see a distribution of data from a single variable. "
   ]
  },
  {
   "cell_type": "code",
   "execution_count": 13,
   "metadata": {
    "colab": {
     "base_uri": "https://localhost:8080/",
     "height": 393
    },
    "id": "LEuyKFOtjgKC",
    "outputId": "7ff089c3-a093-4b66-e169-98aa4f2c749c"
   },
   "outputs": [
    {
     "data": {
      "image/png": "[encoded data removed]",
      "text/plain": [
       "<Figure size 720x432 with 2 Axes>"
      ]
     },
     "metadata": {
      "needs_background": "light"
     },
     "output_type": "display_data"
    }
   ],
   "source": [
    "#Heatmap visually displays the correlation (relatioinship) between the numerical data points.\n",
    "#This helps us determine which variables we should be focusing on.\n",
    "corr = sales.corr()\n",
    "plt.figure(figsize=(10,6))\n",
    "matrix = np.triu(corr)\n",
    "ax = sns.heatmap(corr, annot=True, cmap=\"YlGnBu\", mask=matrix)\n",
    "plt.title('Heatmap Correlation', fontsize=15)\n",
    "plt.show()"
   ]
  },
  {
   "cell_type": "code",
   "execution_count": 14,
   "metadata": {
    "colab": {
     "base_uri": "https://localhost:8080/",
     "height": 338
    },
    "id": "wS6b1UlAYpuP",
    "outputId": "52b13a77-8d2d-4201-8629-56a5eff523c8"
   },
   "outputs": [
    {
     "data": {
      "image/png": "[encoded data removed]",
      "text/plain": [
       "<Figure size 720x360 with 1 Axes>"
      ]
     },
     "metadata": {
      "needs_background": "light"
     },
     "output_type": "display_data"
    }
   ],
   "source": [
    "#This historgram displays the item sales distribution\n",
    "plt.figure(figsize=(10,5))\n",
    "plt.hist(sales['item_sales'], alpha=.8, bins=35, edgecolor='w')\n",
    "plt.title('Item Outlet Sales Distribution', fontsize=15)\n",
    "plt.show()"
   ]
  },
  {
   "cell_type": "code",
   "execution_count": 15,
   "metadata": {
    "colab": {
     "base_uri": "https://localhost:8080/",
     "height": 585
    },
    "id": "a0hAn3_wYpuQ",
    "outputId": "42c37a56-63c9-4b0c-e387-84b8f8236582"
   },
   "outputs": [
    {
     "data": {
      "image/png": "[encoded data removed]",
      "text/plain": [
       "<Figure size 432x576 with 1 Axes>"
      ]
     },
     "metadata": {
      "needs_background": "light"
     },
     "output_type": "display_data"
    }
   ],
   "source": [
    "#Boxplot \n",
    "plt.figure(figsize=(6,8))\n",
    "sns.boxplot(data=sales, x='loc_type', y='item_sales')\n",
    "plt.title('Item Outlet Sales by Outlet Location Type', fontsize=15)\n",
    "plt.xlabel('Outlet Location Type', fontsize=12)\n",
    "plt.ylabel('Item Outlet Sales', fontsize=12)\n",
    "plt.tight_layout()\n",
    "plt.show()"
   ]
  },
  {
   "cell_type": "markdown",
   "metadata": {
    "id": "DWWVgqSPayBv"
   },
   "source": [
    "### Multivariate Visualizations\n",
    "These allow us to see the relationships between multiple variables simulataneously"
   ]
  },
  {
   "cell_type": "code",
   "execution_count": 16,
   "metadata": {
    "colab": {
     "base_uri": "https://localhost:8080/",
     "height": 660
    },
    "id": "1pxHUOOXa1-i",
    "outputId": "e3069d39-0197-41ed-8c5d-fde0db31d185"
   },
   "outputs": [
    {
     "data": {
      "image/png": "[encoded data removed]",
      "text/plain": [
       "<Figure size 864x720 with 4 Axes>"
      ]
     },
     "metadata": {},
     "output_type": "display_data"
    }
   ],
   "source": [
    "type1 = sales[sales['outlet_type'] == 'Supermarket Type1']['item_sales']\n",
    "type2 = sales[sales['outlet_type'] == 'Supermarket Type2']['item_sales']\n",
    "type3 = sales[sales['outlet_type'] == 'Supermarket Type3']['item_sales']\n",
    "grocery_store = sales[sales['outlet_type'] == 'Grocery Store']['item_sales']\n",
    "\n",
    "plt.style.use('seaborn-whitegrid')\n",
    "sequential_colors = sns.color_palette(\"mako\", 10)\n",
    "\n",
    "plt.figure(figsize=(12,10))\n",
    "plt.suptitle('Sales Distribution by Outlet Type', fontsize=25)\n",
    "\n",
    "plt.subplot(2,2,1)\n",
    "plt.hist(sales['item_sales'], alpha=.8, label = 'Total Item Sales', bins=20)\n",
    "plt.hist(type1, alpha=.6, label='Supermarket Type 1', bins=20)\n",
    "plt.title('Supermarket Type 1', fontsize=15)\n",
    "\n",
    "plt.subplot(2,2,2)\n",
    "plt.hist(sales['item_sales'], alpha=.8, label = 'Total Item Sales', bins=20)\n",
    "plt.hist(type2, alpha=.6, label='Supermarket Type 2', bins=20)\n",
    "plt.title('Supermarket Type 2', fontsize=15)\n",
    "\n",
    "plt.subplot(2,2,3)\n",
    "plt.hist(sales['item_sales'], alpha=.8, label = 'Total Item Sales', bins=20)\n",
    "plt.hist(type3, alpha=.6, label='Supermarket Type 3', bins=20)\n",
    "plt.title('Supermarket Type 3', fontsize=15)\n",
    "\n",
    "plt.subplot(2,2,4)\n",
    "plt.hist(sales['item_sales'], alpha=.8, label = 'Total Item Sales', bins=20)\n",
    "plt.hist(grocery_store, alpha=.6, label='Grocery Store', bins=20)\n",
    "plt.title('Grocery Store', fontsize=15)\n",
    "\n",
    "\n",
    "plt.show()"
   ]
  },
  {
   "cell_type": "markdown",
   "metadata": {
    "id": "mayfuH43iDwv"
   },
   "source": [
    "Histrogram of Sales Distribution by Outlet type shows which type of outlets generate the most sales compared to the overall sales. "
   ]
  },
  {
   "cell_type": "code",
   "execution_count": 17,
   "metadata": {
    "colab": {
     "base_uri": "https://localhost:8080/",
     "height": 522
    },
    "id": "Db7eYmbqbD1L",
    "outputId": "6657928e-9077-4b43-c5ad-0c36cf684a7a"
   },
   "outputs": [
    {
     "data": {
      "image/png": "[encoded data removed]",
      "text/plain": [
       "<Figure size 720x576 with 1 Axes>"
      ]
     },
     "metadata": {},
     "output_type": "display_data"
    }
   ],
   "source": [
    "outlet_sales = sales.groupby(['outlet_type', 'outlet_id'])['item_sales'].sum().sort_values()\n",
    "outlet_sales = outlet_sales.to_frame().reset_index()\n",
    "\n",
    "sequential_colors = sns.color_palette(\"mako\", 10)\n",
    "plt.style.use('seaborn')\n",
    "fig, ax = plt.subplots(figsize=(10,8))\n",
    "\n",
    "sns.barplot(data=outlet_sales, x='outlet_id', y='item_sales', ci=None, palette=sequential_colors)\n",
    "plt.title('Performance by Outlet Store', fontsize=20)\n",
    "\n",
    "plt.xlabel('Stores', fontsize=15)\n",
    "plt.ylabel('Sales', fontsize=15)\n",
    "plt.ticklabel_format(axis=\"y\", style=\"plain\", scilimits=(0,0))\n",
    "\n",
    "plt.show()"
   ]
  },
  {
   "cell_type": "markdown",
   "metadata": {
    "id": "cFcAtbKXihz_"
   },
   "source": [
    "Performance by Outlet Store, gives you a deeper dive on which stores perform well compared to the ones that do not. When 70% of the stores perform within range of one another, we also have 20% that are performing well below the average. "
   ]
  },
  {
   "cell_type": "code",
   "execution_count": 18,
   "metadata": {
    "colab": {
     "base_uri": "https://localhost:8080/",
     "height": 522
    },
    "id": "WKEeRX-7btkc",
    "outputId": "b6301cdb-cb07-4677-b4ef-5ba547b97604"
   },
   "outputs": [
    {
     "data": {
      "image/png": "[encoded data removed]",
      "text/plain": [
       "<Figure size 1008x576 with 1 Axes>"
      ]
     },
     "metadata": {},
     "output_type": "display_data"
    }
   ],
   "source": [
    "item_sales = sales.groupby('item_type')['item_sales'].sum().to_frame().reset_index().sort_values('item_sales')\n",
    "\n",
    "sequential_colors = sns.color_palette(\"rocket\", 17)\n",
    "plt.figure(figsize=(14,8))\n",
    "\n",
    "ax = sns.barplot(data=item_sales, y='item_type', x='item_sales', ci=None, palette=sequential_colors)\n",
    "plt.title('Item Sales by Product Type', fontsize=20)\n",
    "\n",
    "plt.ylabel('Item Type', fontsize=15)\n",
    "plt.xlabel('Item Sales', fontsize=15)\n",
    "current_values = plt.gca().get_xticks()\n",
    "plt.ticklabel_format(axis=\"x\", style=\"plain\", scilimits=(0,0))\n",
    "\n",
    "plt.show()"
   ]
  },
  {
   "cell_type": "markdown",
   "metadata": {
    "id": "PZvdi1H8iyig"
   },
   "source": [
    "Item Sales by Product Type, a comprehensive look at what products actually sell well, vs ones that do not. "
   ]
  },
  {
   "cell_type": "markdown",
   "metadata": {
    "id": "Utfr_obX9htH"
   },
   "source": [
    "### Prepping for Machine Learning"
   ]
  },
  {
   "cell_type": "markdown",
   "metadata": {
    "id": "rVdWqZBo9i3t"
   },
   "source": [
    "Identify X features and Y target. Splitting the data into train, test, split. "
   ]
  },
  {
   "cell_type": "code",
   "execution_count": 19,
   "metadata": {
    "colab": {
     "base_uri": "https://localhost:8080/",
     "height": 424
    },
    "id": "G0Lfb4RA9lXa",
    "outputId": "c4096e10-de57-48d3-f298-2118449e97ed"
   },
   "outputs": [
    {
     "data": {
      "text/html": [
       "<div>\n",
       "<style scoped>\n",
       "    .dataframe tbody tr th:only-of-type {\n",
       "        vertical-align: middle;\n",
       "    }\n",
       "\n",
       "    .dataframe tbody tr th {\n",
       "        vertical-align: top;\n",
       "    }\n",
       "\n",
       "    .dataframe thead th {\n",
       "        text-align: right;\n",
       "    }\n",
       "</style>\n",
       "<table border=\"1\" class=\"dataframe\">\n",
       "  <thead>\n",
       "    <tr style=\"text-align: right;\">\n",
       "      <th></th>\n",
       "      <th>item_fat_content</th>\n",
       "      <th>item_visibility</th>\n",
       "      <th>item_type</th>\n",
       "      <th>mrp</th>\n",
       "      <th>loc_type</th>\n",
       "      <th>outlet_type</th>\n",
       "    </tr>\n",
       "  </thead>\n",
       "  <tbody>\n",
       "    <tr>\n",
       "      <th>4776</th>\n",
       "      <td>Low Fat</td>\n",
       "      <td>0.029565</td>\n",
       "      <td>Household</td>\n",
       "      <td>256.4646</td>\n",
       "      <td>Tier 3</td>\n",
       "      <td>Supermarket Type2</td>\n",
       "    </tr>\n",
       "    <tr>\n",
       "      <th>7510</th>\n",
       "      <td>Regular</td>\n",
       "      <td>0.000000</td>\n",
       "      <td>Snack Foods</td>\n",
       "      <td>179.7660</td>\n",
       "      <td>Tier 3</td>\n",
       "      <td>Supermarket Type2</td>\n",
       "    </tr>\n",
       "    <tr>\n",
       "      <th>5828</th>\n",
       "      <td>Regular</td>\n",
       "      <td>0.158716</td>\n",
       "      <td>Meat</td>\n",
       "      <td>157.2946</td>\n",
       "      <td>Tier 1</td>\n",
       "      <td>Supermarket Type1</td>\n",
       "    </tr>\n",
       "    <tr>\n",
       "      <th>5327</th>\n",
       "      <td>Low Fat</td>\n",
       "      <td>0.014628</td>\n",
       "      <td>Baking Goods</td>\n",
       "      <td>82.3250</td>\n",
       "      <td>Tier 2</td>\n",
       "      <td>Supermarket Type1</td>\n",
       "    </tr>\n",
       "    <tr>\n",
       "      <th>4810</th>\n",
       "      <td>Low Fat</td>\n",
       "      <td>0.016645</td>\n",
       "      <td>Frozen Foods</td>\n",
       "      <td>120.9098</td>\n",
       "      <td>Tier 2</td>\n",
       "      <td>Supermarket Type1</td>\n",
       "    </tr>\n",
       "    <tr>\n",
       "      <th>...</th>\n",
       "      <td>...</td>\n",
       "      <td>...</td>\n",
       "      <td>...</td>\n",
       "      <td>...</td>\n",
       "      <td>...</td>\n",
       "      <td>...</td>\n",
       "    </tr>\n",
       "    <tr>\n",
       "      <th>5734</th>\n",
       "      <td>Regular</td>\n",
       "      <td>0.286345</td>\n",
       "      <td>Fruits and Vegetables</td>\n",
       "      <td>139.1838</td>\n",
       "      <td>Tier 3</td>\n",
       "      <td>Grocery Store</td>\n",
       "    </tr>\n",
       "    <tr>\n",
       "      <th>5191</th>\n",
       "      <td>Low Fat</td>\n",
       "      <td>0.117575</td>\n",
       "      <td>Frozen Foods</td>\n",
       "      <td>75.6670</td>\n",
       "      <td>Tier 2</td>\n",
       "      <td>Supermarket Type1</td>\n",
       "    </tr>\n",
       "    <tr>\n",
       "      <th>5390</th>\n",
       "      <td>Low Fat</td>\n",
       "      <td>0.018944</td>\n",
       "      <td>Health and Hygiene</td>\n",
       "      <td>237.3590</td>\n",
       "      <td>Tier 2</td>\n",
       "      <td>Supermarket Type1</td>\n",
       "    </tr>\n",
       "    <tr>\n",
       "      <th>860</th>\n",
       "      <td>Low Fat</td>\n",
       "      <td>0.054363</td>\n",
       "      <td>Snack Foods</td>\n",
       "      <td>117.9466</td>\n",
       "      <td>Tier 2</td>\n",
       "      <td>Supermarket Type1</td>\n",
       "    </tr>\n",
       "    <tr>\n",
       "      <th>7270</th>\n",
       "      <td>Low Fat</td>\n",
       "      <td>0.016993</td>\n",
       "      <td>Household</td>\n",
       "      <td>95.7410</td>\n",
       "      <td>Tier 1</td>\n",
       "      <td>Supermarket Type1</td>\n",
       "    </tr>\n",
       "  </tbody>\n",
       "</table>\n",
       "<p>6392 rows × 6 columns</p>\n",
       "</div>"
      ],
      "text/plain": [
       "     item_fat_content  item_visibility              item_type       mrp  \\\n",
       "4776          Low Fat         0.029565              Household  256.4646   \n",
       "7510          Regular         0.000000            Snack Foods  179.7660   \n",
       "5828          Regular         0.158716                   Meat  157.2946   \n",
       "5327          Low Fat         0.014628           Baking Goods   82.3250   \n",
       "4810          Low Fat         0.016645           Frozen Foods  120.9098   \n",
       "...               ...              ...                    ...       ...   \n",
       "5734          Regular         0.286345  Fruits and Vegetables  139.1838   \n",
       "5191          Low Fat         0.117575           Frozen Foods   75.6670   \n",
       "5390          Low Fat         0.018944     Health and Hygiene  237.3590   \n",
       "860           Low Fat         0.054363            Snack Foods  117.9466   \n",
       "7270          Low Fat         0.016993              Household   95.7410   \n",
       "\n",
       "     loc_type        outlet_type  \n",
       "4776   Tier 3  Supermarket Type2  \n",
       "7510   Tier 3  Supermarket Type2  \n",
       "5828   Tier 1  Supermarket Type1  \n",
       "5327   Tier 2  Supermarket Type1  \n",
       "4810   Tier 2  Supermarket Type1  \n",
       "...       ...                ...  \n",
       "5734   Tier 3      Grocery Store  \n",
       "5191   Tier 2  Supermarket Type1  \n",
       "5390   Tier 2  Supermarket Type1  \n",
       "860    Tier 2  Supermarket Type1  \n",
       "7270   Tier 1  Supermarket Type1  \n",
       "\n",
       "[6392 rows x 6 columns]"
      ]
     },
     "execution_count": 19,
     "metadata": {},
     "output_type": "execute_result"
    }
   ],
   "source": [
    "X = ml_sales.drop(columns = ['item_sales', 'est_year', 'item_id', 'outlet_id'])\n",
    "y  = ml_sales['item_sales']\n",
    "\n",
    "#Train Test Split\n",
    "X_train, X_test, y_train, y_test = train_test_split(X, y, random_state=42)\n",
    "X_train"
   ]
  },
  {
   "cell_type": "markdown",
   "metadata": {
    "id": "MteeICAu9tj9"
   },
   "source": [
    "### Machine Learning Preprocessing Steps"
   ]
  },
  {
   "cell_type": "code",
   "execution_count": 20,
   "metadata": {
    "id": "NsmBzm2k9vU7"
   },
   "outputs": [],
   "source": [
    "num_selector = make_column_selector(dtype_include='number')\n",
    "cat_selector = make_column_selector(dtype_include='object')"
   ]
  },
  {
   "cell_type": "code",
   "execution_count": 21,
   "metadata": {
    "id": "bvKYO8C8za1P"
   },
   "outputs": [],
   "source": [
    "#One-Hot Encoder\n",
    "ohe = OneHotEncoder(handle_unknown='ignore', sparse=False)\n",
    "\n",
    "#scaler\n",
    "scaler = StandardScaler()"
   ]
  },
  {
   "cell_type": "code",
   "execution_count": 22,
   "metadata": {
    "id": "a3mgXOBjyW2r"
   },
   "outputs": [],
   "source": [
    "#Numeric Pipeline\n",
    "numeric_pipe = make_pipeline(scaler)\n",
    "\n",
    "#Categorical Pipeline\n",
    "categorical_pipe = make_pipeline(ohe)"
   ]
  },
  {
   "cell_type": "code",
   "execution_count": 23,
   "metadata": {
    "colab": {
     "base_uri": "https://localhost:8080/",
     "height": 141
    },
    "id": "690jXQOD0CpE",
    "outputId": "6abb31f4-8c4e-48f4-aee3-f0f462898e18"
   },
   "outputs": [
    {
     "data": {
      "text/html": [
       "<style>#sk-f84a8a10-4620-4303-b816-221c54cf37f1 {color: black;background-color: white;}#sk-f84a8a10-4620-4303-b816-221c54cf37f1 pre{padding: 0;}#sk-f84a8a10-4620-4303-b816-221c54cf37f1 div.sk-toggleable {background-color: white;}#sk-f84a8a10-4620-4303-b816-221c54cf37f1 label.sk-toggleable__label {cursor: pointer;display: block;width: 100%;margin-bottom: 0;padding: 0.3em;box-sizing: border-box;text-align: center;}#sk-f84a8a10-4620-4303-b816-221c54cf37f1 label.sk-toggleable__label-arrow:before {content: \"▸\";float: left;margin-right: 0.25em;color: #696969;}#sk-f84a8a10-4620-4303-b816-221c54cf37f1 label.sk-toggleable__label-arrow:hover:before {color: black;}#sk-f84a8a10-4620-4303-b816-221c54cf37f1 div.sk-estimator:hover label.sk-toggleable__label-arrow:before {color: black;}#sk-f84a8a10-4620-4303-b816-221c54cf37f1 div.sk-toggleable__content {max-height: 0;max-width: 0;overflow: hidden;text-align: left;background-color: #f0f8ff;}#sk-f84a8a10-4620-4303-b816-221c54cf37f1 div.sk-toggleable__content pre {margin: 0.2em;color: black;border-radius: 0.25em;background-color: #f0f8ff;}#sk-f84a8a10-4620-4303-b816-221c54cf37f1 input.sk-toggleable__control:checked~div.sk-toggleable__content {max-height: 200px;max-width: 100%;overflow: auto;}#sk-f84a8a10-4620-4303-b816-221c54cf37f1 input.sk-toggleable__control:checked~label.sk-toggleable__label-arrow:before {content: \"▾\";}#sk-f84a8a10-4620-4303-b816-221c54cf37f1 div.sk-estimator input.sk-toggleable__control:checked~label.sk-toggleable__label {background-color: #d4ebff;}#sk-f84a8a10-4620-4303-b816-221c54cf37f1 div.sk-label input.sk-toggleable__control:checked~label.sk-toggleable__label {background-color: #d4ebff;}#sk-f84a8a10-4620-4303-b816-221c54cf37f1 input.sk-hidden--visually {border: 0;clip: rect(1px 1px 1px 1px);clip: rect(1px, 1px, 1px, 1px);height: 1px;margin: -1px;overflow: hidden;padding: 0;position: absolute;width: 1px;}#sk-f84a8a10-4620-4303-b816-221c54cf37f1 div.sk-estimator {font-family: monospace;background-color: #f0f8ff;border: 1px dotted black;border-radius: 0.25em;box-sizing: border-box;margin-bottom: 0.5em;}#sk-f84a8a10-4620-4303-b816-221c54cf37f1 div.sk-estimator:hover {background-color: #d4ebff;}#sk-f84a8a10-4620-4303-b816-221c54cf37f1 div.sk-parallel-item::after {content: \"\";width: 100%;border-bottom: 1px solid gray;flex-grow: 1;}#sk-f84a8a10-4620-4303-b816-221c54cf37f1 div.sk-label:hover label.sk-toggleable__label {background-color: #d4ebff;}#sk-f84a8a10-4620-4303-b816-221c54cf37f1 div.sk-serial::before {content: \"\";position: absolute;border-left: 1px solid gray;box-sizing: border-box;top: 2em;bottom: 0;left: 50%;}#sk-f84a8a10-4620-4303-b816-221c54cf37f1 div.sk-serial {display: flex;flex-direction: column;align-items: center;background-color: white;padding-right: 0.2em;padding-left: 0.2em;}#sk-f84a8a10-4620-4303-b816-221c54cf37f1 div.sk-item {z-index: 1;}#sk-f84a8a10-4620-4303-b816-221c54cf37f1 div.sk-parallel {display: flex;align-items: stretch;justify-content: center;background-color: white;}#sk-f84a8a10-4620-4303-b816-221c54cf37f1 div.sk-parallel::before {content: \"\";position: absolute;border-left: 1px solid gray;box-sizing: border-box;top: 2em;bottom: 0;left: 50%;}#sk-f84a8a10-4620-4303-b816-221c54cf37f1 div.sk-parallel-item {display: flex;flex-direction: column;position: relative;background-color: white;}#sk-f84a8a10-4620-4303-b816-221c54cf37f1 div.sk-parallel-item:first-child::after {align-self: flex-end;width: 50%;}#sk-f84a8a10-4620-4303-b816-221c54cf37f1 div.sk-parallel-item:last-child::after {align-self: flex-start;width: 50%;}#sk-f84a8a10-4620-4303-b816-221c54cf37f1 div.sk-parallel-item:only-child::after {width: 0;}#sk-f84a8a10-4620-4303-b816-221c54cf37f1 div.sk-dashed-wrapped {border: 1px dashed gray;margin: 0 0.4em 0.5em 0.4em;box-sizing: border-box;padding-bottom: 0.4em;background-color: white;position: relative;}#sk-f84a8a10-4620-4303-b816-221c54cf37f1 div.sk-label label {font-family: monospace;font-weight: bold;background-color: white;display: inline-block;line-height: 1.2em;}#sk-f84a8a10-4620-4303-b816-221c54cf37f1 div.sk-label-container {position: relative;z-index: 2;text-align: center;}#sk-f84a8a10-4620-4303-b816-221c54cf37f1 div.sk-container {/* jupyter's `normalize.less` sets `[hidden] { display: none; }` but bootstrap.min.css set `[hidden] { display: none !important; }` so we also need the `!important` here to be able to override the default hidden behavior on the sphinx rendered scikit-learn.org. See: https://github.com/scikit-learn/scikit-learn/issues/21755 */display: inline-block !important;position: relative;}#sk-f84a8a10-4620-4303-b816-221c54cf37f1 div.sk-text-repr-fallback {display: none;}</style><div id=\"sk-f84a8a10-4620-4303-b816-221c54cf37f1\" class=\"sk-top-container\"><div class=\"sk-text-repr-fallback\"><pre>ColumnTransformer(remainder=&#x27;passthrough&#x27;,\n",
       "                  transformers=[(&#x27;pipeline-1&#x27;,\n",
       "                                 Pipeline(steps=[(&#x27;standardscaler&#x27;,\n",
       "                                                  StandardScaler())]),\n",
       "                                 &lt;sklearn.compose._column_transformer.make_column_selector object at 0x7fa6f9cd5cd0&gt;),\n",
       "                                (&#x27;pipeline-2&#x27;,\n",
       "                                 Pipeline(steps=[(&#x27;onehotencoder&#x27;,\n",
       "                                                  OneHotEncoder(handle_unknown=&#x27;ignore&#x27;,\n",
       "                                                                sparse=False))]),\n",
       "                                 &lt;sklearn.compose._column_transformer.make_column_selector object at 0x7fa6f9cd5be0&gt;)])</pre><b>Please rerun this cell to show the HTML repr or trust the notebook.</b></div><div class=\"sk-container\" hidden><div class=\"sk-item sk-dashed-wrapped\"><div class=\"sk-label-container\"><div class=\"sk-label sk-toggleable\"><input class=\"sk-toggleable__control sk-hidden--visually\" id=\"b5082ddd-cc69-4767-ba1d-4417cb605ae7\" type=\"checkbox\" ><label for=\"b5082ddd-cc69-4767-ba1d-4417cb605ae7\" class=\"sk-toggleable__label sk-toggleable__label-arrow\">ColumnTransformer</label><div class=\"sk-toggleable__content\"><pre>ColumnTransformer(remainder=&#x27;passthrough&#x27;,\n",
       "                  transformers=[(&#x27;pipeline-1&#x27;,\n",
       "                                 Pipeline(steps=[(&#x27;standardscaler&#x27;,\n",
       "                                                  StandardScaler())]),\n",
       "                                 &lt;sklearn.compose._column_transformer.make_column_selector object at 0x7fa6f9cd5cd0&gt;),\n",
       "                                (&#x27;pipeline-2&#x27;,\n",
       "                                 Pipeline(steps=[(&#x27;onehotencoder&#x27;,\n",
       "                                                  OneHotEncoder(handle_unknown=&#x27;ignore&#x27;,\n",
       "                                                                sparse=False))]),\n",
       "                                 &lt;sklearn.compose._column_transformer.make_column_selector object at 0x7fa6f9cd5be0&gt;)])</pre></div></div></div><div class=\"sk-parallel\"><div class=\"sk-parallel-item\"><div class=\"sk-item\"><div class=\"sk-label-container\"><div class=\"sk-label sk-toggleable\"><input class=\"sk-toggleable__control sk-hidden--visually\" id=\"c60d8172-7e4f-4df8-85a8-af0957494f95\" type=\"checkbox\" ><label for=\"c60d8172-7e4f-4df8-85a8-af0957494f95\" class=\"sk-toggleable__label sk-toggleable__label-arrow\">pipeline-1</label><div class=\"sk-toggleable__content\"><pre>&lt;sklearn.compose._column_transformer.make_column_selector object at 0x7fa6f9cd5cd0&gt;</pre></div></div></div><div class=\"sk-serial\"><div class=\"sk-item\"><div class=\"sk-serial\"><div class=\"sk-item\"><div class=\"sk-estimator sk-toggleable\"><input class=\"sk-toggleable__control sk-hidden--visually\" id=\"bd53cf17-ce23-4fc2-ae23-6ac447b6a78d\" type=\"checkbox\" ><label for=\"bd53cf17-ce23-4fc2-ae23-6ac447b6a78d\" class=\"sk-toggleable__label sk-toggleable__label-arrow\">StandardScaler</label><div class=\"sk-toggleable__content\"><pre>StandardScaler()</pre></div></div></div></div></div></div></div></div><div class=\"sk-parallel-item\"><div class=\"sk-item\"><div class=\"sk-label-container\"><div class=\"sk-label sk-toggleable\"><input class=\"sk-toggleable__control sk-hidden--visually\" id=\"15a08bad-f2d4-4cde-8d1f-d12f8df964ee\" type=\"checkbox\" ><label for=\"15a08bad-f2d4-4cde-8d1f-d12f8df964ee\" class=\"sk-toggleable__label sk-toggleable__label-arrow\">pipeline-2</label><div class=\"sk-toggleable__content\"><pre>&lt;sklearn.compose._column_transformer.make_column_selector object at 0x7fa6f9cd5be0&gt;</pre></div></div></div><div class=\"sk-serial\"><div class=\"sk-item\"><div class=\"sk-serial\"><div class=\"sk-item\"><div class=\"sk-estimator sk-toggleable\"><input class=\"sk-toggleable__control sk-hidden--visually\" id=\"d4e61d10-00b8-4b72-b524-cf01de934099\" type=\"checkbox\" ><label for=\"d4e61d10-00b8-4b72-b524-cf01de934099\" class=\"sk-toggleable__label sk-toggleable__label-arrow\">OneHotEncoder</label><div class=\"sk-toggleable__content\"><pre>OneHotEncoder(handle_unknown=&#x27;ignore&#x27;, sparse=False)</pre></div></div></div></div></div></div></div></div><div class=\"sk-parallel-item\"><div class=\"sk-item\"><div class=\"sk-label-container\"><div class=\"sk-label sk-toggleable\"><input class=\"sk-toggleable__control sk-hidden--visually\" id=\"6aa6cacd-a46a-446a-a9f1-3def70f4bc75\" type=\"checkbox\" ><label for=\"6aa6cacd-a46a-446a-a9f1-3def70f4bc75\" class=\"sk-toggleable__label sk-toggleable__label-arrow\">remainder</label><div class=\"sk-toggleable__content\"><pre></pre></div></div></div><div class=\"sk-serial\"><div class=\"sk-item\"><div class=\"sk-estimator sk-toggleable\"><input class=\"sk-toggleable__control sk-hidden--visually\" id=\"dd9353e5-41d0-47a9-87f4-fd12db0c0d72\" type=\"checkbox\" ><label for=\"dd9353e5-41d0-47a9-87f4-fd12db0c0d72\" class=\"sk-toggleable__label sk-toggleable__label-arrow\">passthrough</label><div class=\"sk-toggleable__content\"><pre>passthrough</pre></div></div></div></div></div></div></div></div></div></div>"
      ],
      "text/plain": [
       "ColumnTransformer(remainder='passthrough',\n",
       "                  transformers=[('pipeline-1',\n",
       "                                 Pipeline(steps=[('standardscaler',\n",
       "                                                  StandardScaler())]),\n",
       "                                 <sklearn.compose._column_transformer.make_column_selector object at 0x7fa6f9cd5cd0>),\n",
       "                                ('pipeline-2',\n",
       "                                 Pipeline(steps=[('onehotencoder',\n",
       "                                                  OneHotEncoder(handle_unknown='ignore',\n",
       "                                                                sparse=False))]),\n",
       "                                 <sklearn.compose._column_transformer.make_column_selector object at 0x7fa6f9cd5be0>)])"
      ]
     },
     "execution_count": 23,
     "metadata": {},
     "output_type": "execute_result"
    }
   ],
   "source": [
    "num_tuple = (numeric_pipe, num_selector)\n",
    "cat_tuple = (categorical_pipe, cat_selector)\n",
    "\n",
    "#ColumnTransformer\n",
    "preprocessor = make_column_transformer(num_tuple, cat_tuple, remainder='passthrough')\n",
    "preprocessor"
   ]
  },
  {
   "cell_type": "markdown",
   "metadata": {},
   "source": [
    "### Fitting the Transformer then transforming our X_test and X_train"
   ]
  },
  {
   "cell_type": "code",
   "execution_count": 24,
   "metadata": {},
   "outputs": [
    {
     "data": {
      "text/html": [
       "<style>#sk-c82157a1-bb66-43aa-a26d-c3d5c2ef8377 {color: black;background-color: white;}#sk-c82157a1-bb66-43aa-a26d-c3d5c2ef8377 pre{padding: 0;}#sk-c82157a1-bb66-43aa-a26d-c3d5c2ef8377 div.sk-toggleable {background-color: white;}#sk-c82157a1-bb66-43aa-a26d-c3d5c2ef8377 label.sk-toggleable__label {cursor: pointer;display: block;width: 100%;margin-bottom: 0;padding: 0.3em;box-sizing: border-box;text-align: center;}#sk-c82157a1-bb66-43aa-a26d-c3d5c2ef8377 label.sk-toggleable__label-arrow:before {content: \"▸\";float: left;margin-right: 0.25em;color: #696969;}#sk-c82157a1-bb66-43aa-a26d-c3d5c2ef8377 label.sk-toggleable__label-arrow:hover:before {color: black;}#sk-c82157a1-bb66-43aa-a26d-c3d5c2ef8377 div.sk-estimator:hover label.sk-toggleable__label-arrow:before {color: black;}#sk-c82157a1-bb66-43aa-a26d-c3d5c2ef8377 div.sk-toggleable__content {max-height: 0;max-width: 0;overflow: hidden;text-align: left;background-color: #f0f8ff;}#sk-c82157a1-bb66-43aa-a26d-c3d5c2ef8377 div.sk-toggleable__content pre {margin: 0.2em;color: black;border-radius: 0.25em;background-color: #f0f8ff;}#sk-c82157a1-bb66-43aa-a26d-c3d5c2ef8377 input.sk-toggleable__control:checked~div.sk-toggleable__content {max-height: 200px;max-width: 100%;overflow: auto;}#sk-c82157a1-bb66-43aa-a26d-c3d5c2ef8377 input.sk-toggleable__control:checked~label.sk-toggleable__label-arrow:before {content: \"▾\";}#sk-c82157a1-bb66-43aa-a26d-c3d5c2ef8377 div.sk-estimator input.sk-toggleable__control:checked~label.sk-toggleable__label {background-color: #d4ebff;}#sk-c82157a1-bb66-43aa-a26d-c3d5c2ef8377 div.sk-label input.sk-toggleable__control:checked~label.sk-toggleable__label {background-color: #d4ebff;}#sk-c82157a1-bb66-43aa-a26d-c3d5c2ef8377 input.sk-hidden--visually {border: 0;clip: rect(1px 1px 1px 1px);clip: rect(1px, 1px, 1px, 1px);height: 1px;margin: -1px;overflow: hidden;padding: 0;position: absolute;width: 1px;}#sk-c82157a1-bb66-43aa-a26d-c3d5c2ef8377 div.sk-estimator {font-family: monospace;background-color: #f0f8ff;border: 1px dotted black;border-radius: 0.25em;box-sizing: border-box;margin-bottom: 0.5em;}#sk-c82157a1-bb66-43aa-a26d-c3d5c2ef8377 div.sk-estimator:hover {background-color: #d4ebff;}#sk-c82157a1-bb66-43aa-a26d-c3d5c2ef8377 div.sk-parallel-item::after {content: \"\";width: 100%;border-bottom: 1px solid gray;flex-grow: 1;}#sk-c82157a1-bb66-43aa-a26d-c3d5c2ef8377 div.sk-label:hover label.sk-toggleable__label {background-color: #d4ebff;}#sk-c82157a1-bb66-43aa-a26d-c3d5c2ef8377 div.sk-serial::before {content: \"\";position: absolute;border-left: 1px solid gray;box-sizing: border-box;top: 2em;bottom: 0;left: 50%;}#sk-c82157a1-bb66-43aa-a26d-c3d5c2ef8377 div.sk-serial {display: flex;flex-direction: column;align-items: center;background-color: white;padding-right: 0.2em;padding-left: 0.2em;}#sk-c82157a1-bb66-43aa-a26d-c3d5c2ef8377 div.sk-item {z-index: 1;}#sk-c82157a1-bb66-43aa-a26d-c3d5c2ef8377 div.sk-parallel {display: flex;align-items: stretch;justify-content: center;background-color: white;}#sk-c82157a1-bb66-43aa-a26d-c3d5c2ef8377 div.sk-parallel::before {content: \"\";position: absolute;border-left: 1px solid gray;box-sizing: border-box;top: 2em;bottom: 0;left: 50%;}#sk-c82157a1-bb66-43aa-a26d-c3d5c2ef8377 div.sk-parallel-item {display: flex;flex-direction: column;position: relative;background-color: white;}#sk-c82157a1-bb66-43aa-a26d-c3d5c2ef8377 div.sk-parallel-item:first-child::after {align-self: flex-end;width: 50%;}#sk-c82157a1-bb66-43aa-a26d-c3d5c2ef8377 div.sk-parallel-item:last-child::after {align-self: flex-start;width: 50%;}#sk-c82157a1-bb66-43aa-a26d-c3d5c2ef8377 div.sk-parallel-item:only-child::after {width: 0;}#sk-c82157a1-bb66-43aa-a26d-c3d5c2ef8377 div.sk-dashed-wrapped {border: 1px dashed gray;margin: 0 0.4em 0.5em 0.4em;box-sizing: border-box;padding-bottom: 0.4em;background-color: white;position: relative;}#sk-c82157a1-bb66-43aa-a26d-c3d5c2ef8377 div.sk-label label {font-family: monospace;font-weight: bold;background-color: white;display: inline-block;line-height: 1.2em;}#sk-c82157a1-bb66-43aa-a26d-c3d5c2ef8377 div.sk-label-container {position: relative;z-index: 2;text-align: center;}#sk-c82157a1-bb66-43aa-a26d-c3d5c2ef8377 div.sk-container {/* jupyter's `normalize.less` sets `[hidden] { display: none; }` but bootstrap.min.css set `[hidden] { display: none !important; }` so we also need the `!important` here to be able to override the default hidden behavior on the sphinx rendered scikit-learn.org. See: https://github.com/scikit-learn/scikit-learn/issues/21755 */display: inline-block !important;position: relative;}#sk-c82157a1-bb66-43aa-a26d-c3d5c2ef8377 div.sk-text-repr-fallback {display: none;}</style><div id=\"sk-c82157a1-bb66-43aa-a26d-c3d5c2ef8377\" class=\"sk-top-container\"><div class=\"sk-text-repr-fallback\"><pre>ColumnTransformer(remainder=&#x27;passthrough&#x27;,\n",
       "                  transformers=[(&#x27;pipeline-1&#x27;,\n",
       "                                 Pipeline(steps=[(&#x27;standardscaler&#x27;,\n",
       "                                                  StandardScaler())]),\n",
       "                                 &lt;sklearn.compose._column_transformer.make_column_selector object at 0x7fa6f9cd5cd0&gt;),\n",
       "                                (&#x27;pipeline-2&#x27;,\n",
       "                                 Pipeline(steps=[(&#x27;onehotencoder&#x27;,\n",
       "                                                  OneHotEncoder(handle_unknown=&#x27;ignore&#x27;,\n",
       "                                                                sparse=False))]),\n",
       "                                 &lt;sklearn.compose._column_transformer.make_column_selector object at 0x7fa6f9cd5be0&gt;)])</pre><b>Please rerun this cell to show the HTML repr or trust the notebook.</b></div><div class=\"sk-container\" hidden><div class=\"sk-item sk-dashed-wrapped\"><div class=\"sk-label-container\"><div class=\"sk-label sk-toggleable\"><input class=\"sk-toggleable__control sk-hidden--visually\" id=\"ab5d5cdb-e48d-4b10-937f-5695a762c78d\" type=\"checkbox\" ><label for=\"ab5d5cdb-e48d-4b10-937f-5695a762c78d\" class=\"sk-toggleable__label sk-toggleable__label-arrow\">ColumnTransformer</label><div class=\"sk-toggleable__content\"><pre>ColumnTransformer(remainder=&#x27;passthrough&#x27;,\n",
       "                  transformers=[(&#x27;pipeline-1&#x27;,\n",
       "                                 Pipeline(steps=[(&#x27;standardscaler&#x27;,\n",
       "                                                  StandardScaler())]),\n",
       "                                 &lt;sklearn.compose._column_transformer.make_column_selector object at 0x7fa6f9cd5cd0&gt;),\n",
       "                                (&#x27;pipeline-2&#x27;,\n",
       "                                 Pipeline(steps=[(&#x27;onehotencoder&#x27;,\n",
       "                                                  OneHotEncoder(handle_unknown=&#x27;ignore&#x27;,\n",
       "                                                                sparse=False))]),\n",
       "                                 &lt;sklearn.compose._column_transformer.make_column_selector object at 0x7fa6f9cd5be0&gt;)])</pre></div></div></div><div class=\"sk-parallel\"><div class=\"sk-parallel-item\"><div class=\"sk-item\"><div class=\"sk-label-container\"><div class=\"sk-label sk-toggleable\"><input class=\"sk-toggleable__control sk-hidden--visually\" id=\"da81dd49-8878-4453-b407-9bcd66512a4f\" type=\"checkbox\" ><label for=\"da81dd49-8878-4453-b407-9bcd66512a4f\" class=\"sk-toggleable__label sk-toggleable__label-arrow\">pipeline-1</label><div class=\"sk-toggleable__content\"><pre>&lt;sklearn.compose._column_transformer.make_column_selector object at 0x7fa6f9cd5cd0&gt;</pre></div></div></div><div class=\"sk-serial\"><div class=\"sk-item\"><div class=\"sk-serial\"><div class=\"sk-item\"><div class=\"sk-estimator sk-toggleable\"><input class=\"sk-toggleable__control sk-hidden--visually\" id=\"6e00f515-398c-4e87-89dd-aceda0cafd3c\" type=\"checkbox\" ><label for=\"6e00f515-398c-4e87-89dd-aceda0cafd3c\" class=\"sk-toggleable__label sk-toggleable__label-arrow\">StandardScaler</label><div class=\"sk-toggleable__content\"><pre>StandardScaler()</pre></div></div></div></div></div></div></div></div><div class=\"sk-parallel-item\"><div class=\"sk-item\"><div class=\"sk-label-container\"><div class=\"sk-label sk-toggleable\"><input class=\"sk-toggleable__control sk-hidden--visually\" id=\"c08af2b1-e925-4da9-bdca-ab6322c11792\" type=\"checkbox\" ><label for=\"c08af2b1-e925-4da9-bdca-ab6322c11792\" class=\"sk-toggleable__label sk-toggleable__label-arrow\">pipeline-2</label><div class=\"sk-toggleable__content\"><pre>&lt;sklearn.compose._column_transformer.make_column_selector object at 0x7fa6f9cd5be0&gt;</pre></div></div></div><div class=\"sk-serial\"><div class=\"sk-item\"><div class=\"sk-serial\"><div class=\"sk-item\"><div class=\"sk-estimator sk-toggleable\"><input class=\"sk-toggleable__control sk-hidden--visually\" id=\"e1f084fd-67f0-4b31-9ed9-071c0aa46872\" type=\"checkbox\" ><label for=\"e1f084fd-67f0-4b31-9ed9-071c0aa46872\" class=\"sk-toggleable__label sk-toggleable__label-arrow\">OneHotEncoder</label><div class=\"sk-toggleable__content\"><pre>OneHotEncoder(handle_unknown=&#x27;ignore&#x27;, sparse=False)</pre></div></div></div></div></div></div></div></div><div class=\"sk-parallel-item\"><div class=\"sk-item\"><div class=\"sk-label-container\"><div class=\"sk-label sk-toggleable\"><input class=\"sk-toggleable__control sk-hidden--visually\" id=\"448d31fc-cf93-4b0e-8cd6-014f079fb6e1\" type=\"checkbox\" ><label for=\"448d31fc-cf93-4b0e-8cd6-014f079fb6e1\" class=\"sk-toggleable__label sk-toggleable__label-arrow\">remainder</label><div class=\"sk-toggleable__content\"><pre>[]</pre></div></div></div><div class=\"sk-serial\"><div class=\"sk-item\"><div class=\"sk-estimator sk-toggleable\"><input class=\"sk-toggleable__control sk-hidden--visually\" id=\"f6331dfd-8005-4982-aa20-923f50ddf36a\" type=\"checkbox\" ><label for=\"f6331dfd-8005-4982-aa20-923f50ddf36a\" class=\"sk-toggleable__label sk-toggleable__label-arrow\">passthrough</label><div class=\"sk-toggleable__content\"><pre>passthrough</pre></div></div></div></div></div></div></div></div></div></div>"
      ],
      "text/plain": [
       "ColumnTransformer(remainder='passthrough',\n",
       "                  transformers=[('pipeline-1',\n",
       "                                 Pipeline(steps=[('standardscaler',\n",
       "                                                  StandardScaler())]),\n",
       "                                 <sklearn.compose._column_transformer.make_column_selector object at 0x7fa6f9cd5cd0>),\n",
       "                                ('pipeline-2',\n",
       "                                 Pipeline(steps=[('onehotencoder',\n",
       "                                                  OneHotEncoder(handle_unknown='ignore',\n",
       "                                                                sparse=False))]),\n",
       "                                 <sklearn.compose._column_transformer.make_column_selector object at 0x7fa6f9cd5be0>)])"
      ]
     },
     "execution_count": 24,
     "metadata": {},
     "output_type": "execute_result"
    }
   ],
   "source": [
    "preprocessor.fit(X_train)"
   ]
  },
  {
   "cell_type": "code",
   "execution_count": 25,
   "metadata": {},
   "outputs": [],
   "source": [
    "X_train_processed = preprocessor.transform(X_train)\n",
    "X_test_processed = preprocessor.transform(X_test)"
   ]
  },
  {
   "cell_type": "markdown",
   "metadata": {},
   "source": [
    "### Inpsecting our transformation results"
   ]
  },
  {
   "cell_type": "code",
   "execution_count": 26,
   "metadata": {},
   "outputs": [
    {
     "name": "stdout",
     "output_type": "stream",
     "text": [
      "0 missing values in training data\n",
      "0 missing values in testing data\n",
      "\n",
      "\n",
      "All data in X_train_processed are float64\n",
      "All data in X_test_processed are float64\n",
      "\n",
      "\n"
     ]
    },
    {
     "data": {
      "text/plain": [
       "array([[-0.71277507,  1.82810922,  1.        , ...,  0.        ,\n",
       "         1.        ,  0.        ],\n",
       "       [-1.29105225,  0.60336888,  0.        , ...,  0.        ,\n",
       "         1.        ,  0.        ],\n",
       "       [ 1.81331864,  0.24454056,  0.        , ...,  1.        ,\n",
       "         0.        ,  0.        ],\n",
       "       ...,\n",
       "       [-0.92052713,  1.52302674,  1.        , ...,  1.        ,\n",
       "         0.        ,  0.        ],\n",
       "       [-0.2277552 , -0.38377708,  1.        , ...,  1.        ,\n",
       "         0.        ,  0.        ],\n",
       "       [-0.95867683, -0.73836105,  1.        , ...,  1.        ,\n",
       "         0.        ,  0.        ]])"
      ]
     },
     "execution_count": 26,
     "metadata": {},
     "output_type": "execute_result"
    }
   ],
   "source": [
    "print(np.isnan(X_train_processed).sum().sum(), 'missing values in training data')\n",
    "print(np.isnan(X_test_processed).sum().sum(), 'missing values in testing data')\n",
    "print('\\n')\n",
    "print('All data in X_train_processed are', X_train_processed.dtype)\n",
    "print('All data in X_test_processed are', X_test_processed.dtype)\n",
    "print('\\n')\n",
    "\n",
    "X_train_processed"
   ]
  },
  {
   "cell_type": "markdown",
   "metadata": {},
   "source": [
    "### Regression Evaluation Function"
   ]
  },
  {
   "cell_type": "code",
   "execution_count": 27,
   "metadata": {},
   "outputs": [],
   "source": [
    "def eval_regression(true, pred):\n",
    "    mse = mean_squared_error(true, pred)\n",
    "    rmse = np.sqrt(mse)\n",
    "    r2 = r2_score(true, pred)\n",
    "    return [rmse, r2]"
   ]
  },
  {
   "cell_type": "markdown",
   "metadata": {},
   "source": [
    "### Linear Regression Model"
   ]
  },
  {
   "cell_type": "code",
   "execution_count": 28,
   "metadata": {
    "scrolled": true
   },
   "outputs": [
    {
     "data": {
      "text/html": [
       "<div>\n",
       "<style scoped>\n",
       "    .dataframe tbody tr th:only-of-type {\n",
       "        vertical-align: middle;\n",
       "    }\n",
       "\n",
       "    .dataframe tbody tr th {\n",
       "        vertical-align: top;\n",
       "    }\n",
       "\n",
       "    .dataframe thead th {\n",
       "        text-align: right;\n",
       "    }\n",
       "</style>\n",
       "<table border=\"1\" class=\"dataframe\">\n",
       "  <thead>\n",
       "    <tr style=\"text-align: right;\">\n",
       "      <th></th>\n",
       "      <th>item_fat_content</th>\n",
       "      <th>item_visibility</th>\n",
       "      <th>item_type</th>\n",
       "      <th>mrp</th>\n",
       "      <th>loc_type</th>\n",
       "      <th>outlet_type</th>\n",
       "    </tr>\n",
       "  </thead>\n",
       "  <tbody>\n",
       "    <tr>\n",
       "      <th>4776</th>\n",
       "      <td>Low Fat</td>\n",
       "      <td>0.029565</td>\n",
       "      <td>Household</td>\n",
       "      <td>256.4646</td>\n",
       "      <td>Tier 3</td>\n",
       "      <td>Supermarket Type2</td>\n",
       "    </tr>\n",
       "    <tr>\n",
       "      <th>7510</th>\n",
       "      <td>Regular</td>\n",
       "      <td>0.000000</td>\n",
       "      <td>Snack Foods</td>\n",
       "      <td>179.7660</td>\n",
       "      <td>Tier 3</td>\n",
       "      <td>Supermarket Type2</td>\n",
       "    </tr>\n",
       "    <tr>\n",
       "      <th>5828</th>\n",
       "      <td>Regular</td>\n",
       "      <td>0.158716</td>\n",
       "      <td>Meat</td>\n",
       "      <td>157.2946</td>\n",
       "      <td>Tier 1</td>\n",
       "      <td>Supermarket Type1</td>\n",
       "    </tr>\n",
       "    <tr>\n",
       "      <th>5327</th>\n",
       "      <td>Low Fat</td>\n",
       "      <td>0.014628</td>\n",
       "      <td>Baking Goods</td>\n",
       "      <td>82.3250</td>\n",
       "      <td>Tier 2</td>\n",
       "      <td>Supermarket Type1</td>\n",
       "    </tr>\n",
       "    <tr>\n",
       "      <th>4810</th>\n",
       "      <td>Low Fat</td>\n",
       "      <td>0.016645</td>\n",
       "      <td>Frozen Foods</td>\n",
       "      <td>120.9098</td>\n",
       "      <td>Tier 2</td>\n",
       "      <td>Supermarket Type1</td>\n",
       "    </tr>\n",
       "    <tr>\n",
       "      <th>...</th>\n",
       "      <td>...</td>\n",
       "      <td>...</td>\n",
       "      <td>...</td>\n",
       "      <td>...</td>\n",
       "      <td>...</td>\n",
       "      <td>...</td>\n",
       "    </tr>\n",
       "    <tr>\n",
       "      <th>5734</th>\n",
       "      <td>Regular</td>\n",
       "      <td>0.286345</td>\n",
       "      <td>Fruits and Vegetables</td>\n",
       "      <td>139.1838</td>\n",
       "      <td>Tier 3</td>\n",
       "      <td>Grocery Store</td>\n",
       "    </tr>\n",
       "    <tr>\n",
       "      <th>5191</th>\n",
       "      <td>Low Fat</td>\n",
       "      <td>0.117575</td>\n",
       "      <td>Frozen Foods</td>\n",
       "      <td>75.6670</td>\n",
       "      <td>Tier 2</td>\n",
       "      <td>Supermarket Type1</td>\n",
       "    </tr>\n",
       "    <tr>\n",
       "      <th>5390</th>\n",
       "      <td>Low Fat</td>\n",
       "      <td>0.018944</td>\n",
       "      <td>Health and Hygiene</td>\n",
       "      <td>237.3590</td>\n",
       "      <td>Tier 2</td>\n",
       "      <td>Supermarket Type1</td>\n",
       "    </tr>\n",
       "    <tr>\n",
       "      <th>860</th>\n",
       "      <td>Low Fat</td>\n",
       "      <td>0.054363</td>\n",
       "      <td>Snack Foods</td>\n",
       "      <td>117.9466</td>\n",
       "      <td>Tier 2</td>\n",
       "      <td>Supermarket Type1</td>\n",
       "    </tr>\n",
       "    <tr>\n",
       "      <th>7270</th>\n",
       "      <td>Low Fat</td>\n",
       "      <td>0.016993</td>\n",
       "      <td>Household</td>\n",
       "      <td>95.7410</td>\n",
       "      <td>Tier 1</td>\n",
       "      <td>Supermarket Type1</td>\n",
       "    </tr>\n",
       "  </tbody>\n",
       "</table>\n",
       "<p>6392 rows × 6 columns</p>\n",
       "</div>"
      ],
      "text/plain": [
       "     item_fat_content  item_visibility              item_type       mrp  \\\n",
       "4776          Low Fat         0.029565              Household  256.4646   \n",
       "7510          Regular         0.000000            Snack Foods  179.7660   \n",
       "5828          Regular         0.158716                   Meat  157.2946   \n",
       "5327          Low Fat         0.014628           Baking Goods   82.3250   \n",
       "4810          Low Fat         0.016645           Frozen Foods  120.9098   \n",
       "...               ...              ...                    ...       ...   \n",
       "5734          Regular         0.286345  Fruits and Vegetables  139.1838   \n",
       "5191          Low Fat         0.117575           Frozen Foods   75.6670   \n",
       "5390          Low Fat         0.018944     Health and Hygiene  237.3590   \n",
       "860           Low Fat         0.054363            Snack Foods  117.9466   \n",
       "7270          Low Fat         0.016993              Household   95.7410   \n",
       "\n",
       "     loc_type        outlet_type  \n",
       "4776   Tier 3  Supermarket Type2  \n",
       "7510   Tier 3  Supermarket Type2  \n",
       "5828   Tier 1  Supermarket Type1  \n",
       "5327   Tier 2  Supermarket Type1  \n",
       "4810   Tier 2  Supermarket Type1  \n",
       "...       ...                ...  \n",
       "5734   Tier 3      Grocery Store  \n",
       "5191   Tier 2  Supermarket Type1  \n",
       "5390   Tier 2  Supermarket Type1  \n",
       "860    Tier 2  Supermarket Type1  \n",
       "7270   Tier 1  Supermarket Type1  \n",
       "\n",
       "[6392 rows x 6 columns]"
      ]
     },
     "execution_count": 28,
     "metadata": {},
     "output_type": "execute_result"
    }
   ],
   "source": [
    "#confirming our dataframe\n",
    "X_train"
   ]
  },
  {
   "cell_type": "markdown",
   "metadata": {},
   "source": [
    "### Prepping our data for our Linear Regression model"
   ]
  },
  {
   "cell_type": "code",
   "execution_count": 29,
   "metadata": {},
   "outputs": [],
   "source": [
    "#Linear Regression model\n",
    "reg = LinearRegression()\n",
    "\n",
    "#Create Pipeline\n",
    "reg_pipeline = make_pipeline(preprocessor, reg)"
   ]
  },
  {
   "cell_type": "code",
   "execution_count": 30,
   "metadata": {},
   "outputs": [
    {
     "data": {
      "text/html": [
       "<style>#sk-c4f8e792-30c5-495a-b1d6-6eb06b2e9b54 {color: black;background-color: white;}#sk-c4f8e792-30c5-495a-b1d6-6eb06b2e9b54 pre{padding: 0;}#sk-c4f8e792-30c5-495a-b1d6-6eb06b2e9b54 div.sk-toggleable {background-color: white;}#sk-c4f8e792-30c5-495a-b1d6-6eb06b2e9b54 label.sk-toggleable__label {cursor: pointer;display: block;width: 100%;margin-bottom: 0;padding: 0.3em;box-sizing: border-box;text-align: center;}#sk-c4f8e792-30c5-495a-b1d6-6eb06b2e9b54 label.sk-toggleable__label-arrow:before {content: \"▸\";float: left;margin-right: 0.25em;color: #696969;}#sk-c4f8e792-30c5-495a-b1d6-6eb06b2e9b54 label.sk-toggleable__label-arrow:hover:before {color: black;}#sk-c4f8e792-30c5-495a-b1d6-6eb06b2e9b54 div.sk-estimator:hover label.sk-toggleable__label-arrow:before {color: black;}#sk-c4f8e792-30c5-495a-b1d6-6eb06b2e9b54 div.sk-toggleable__content {max-height: 0;max-width: 0;overflow: hidden;text-align: left;background-color: #f0f8ff;}#sk-c4f8e792-30c5-495a-b1d6-6eb06b2e9b54 div.sk-toggleable__content pre {margin: 0.2em;color: black;border-radius: 0.25em;background-color: #f0f8ff;}#sk-c4f8e792-30c5-495a-b1d6-6eb06b2e9b54 input.sk-toggleable__control:checked~div.sk-toggleable__content {max-height: 200px;max-width: 100%;overflow: auto;}#sk-c4f8e792-30c5-495a-b1d6-6eb06b2e9b54 input.sk-toggleable__control:checked~label.sk-toggleable__label-arrow:before {content: \"▾\";}#sk-c4f8e792-30c5-495a-b1d6-6eb06b2e9b54 div.sk-estimator input.sk-toggleable__control:checked~label.sk-toggleable__label {background-color: #d4ebff;}#sk-c4f8e792-30c5-495a-b1d6-6eb06b2e9b54 div.sk-label input.sk-toggleable__control:checked~label.sk-toggleable__label {background-color: #d4ebff;}#sk-c4f8e792-30c5-495a-b1d6-6eb06b2e9b54 input.sk-hidden--visually {border: 0;clip: rect(1px 1px 1px 1px);clip: rect(1px, 1px, 1px, 1px);height: 1px;margin: -1px;overflow: hidden;padding: 0;position: absolute;width: 1px;}#sk-c4f8e792-30c5-495a-b1d6-6eb06b2e9b54 div.sk-estimator {font-family: monospace;background-color: #f0f8ff;border: 1px dotted black;border-radius: 0.25em;box-sizing: border-box;margin-bottom: 0.5em;}#sk-c4f8e792-30c5-495a-b1d6-6eb06b2e9b54 div.sk-estimator:hover {background-color: #d4ebff;}#sk-c4f8e792-30c5-495a-b1d6-6eb06b2e9b54 div.sk-parallel-item::after {content: \"\";width: 100%;border-bottom: 1px solid gray;flex-grow: 1;}#sk-c4f8e792-30c5-495a-b1d6-6eb06b2e9b54 div.sk-label:hover label.sk-toggleable__label {background-color: #d4ebff;}#sk-c4f8e792-30c5-495a-b1d6-6eb06b2e9b54 div.sk-serial::before {content: \"\";position: absolute;border-left: 1px solid gray;box-sizing: border-box;top: 2em;bottom: 0;left: 50%;}#sk-c4f8e792-30c5-495a-b1d6-6eb06b2e9b54 div.sk-serial {display: flex;flex-direction: column;align-items: center;background-color: white;padding-right: 0.2em;padding-left: 0.2em;}#sk-c4f8e792-30c5-495a-b1d6-6eb06b2e9b54 div.sk-item {z-index: 1;}#sk-c4f8e792-30c5-495a-b1d6-6eb06b2e9b54 div.sk-parallel {display: flex;align-items: stretch;justify-content: center;background-color: white;}#sk-c4f8e792-30c5-495a-b1d6-6eb06b2e9b54 div.sk-parallel::before {content: \"\";position: absolute;border-left: 1px solid gray;box-sizing: border-box;top: 2em;bottom: 0;left: 50%;}#sk-c4f8e792-30c5-495a-b1d6-6eb06b2e9b54 div.sk-parallel-item {display: flex;flex-direction: column;position: relative;background-color: white;}#sk-c4f8e792-30c5-495a-b1d6-6eb06b2e9b54 div.sk-parallel-item:first-child::after {align-self: flex-end;width: 50%;}#sk-c4f8e792-30c5-495a-b1d6-6eb06b2e9b54 div.sk-parallel-item:last-child::after {align-self: flex-start;width: 50%;}#sk-c4f8e792-30c5-495a-b1d6-6eb06b2e9b54 div.sk-parallel-item:only-child::after {width: 0;}#sk-c4f8e792-30c5-495a-b1d6-6eb06b2e9b54 div.sk-dashed-wrapped {border: 1px dashed gray;margin: 0 0.4em 0.5em 0.4em;box-sizing: border-box;padding-bottom: 0.4em;background-color: white;position: relative;}#sk-c4f8e792-30c5-495a-b1d6-6eb06b2e9b54 div.sk-label label {font-family: monospace;font-weight: bold;background-color: white;display: inline-block;line-height: 1.2em;}#sk-c4f8e792-30c5-495a-b1d6-6eb06b2e9b54 div.sk-label-container {position: relative;z-index: 2;text-align: center;}#sk-c4f8e792-30c5-495a-b1d6-6eb06b2e9b54 div.sk-container {/* jupyter's `normalize.less` sets `[hidden] { display: none; }` but bootstrap.min.css set `[hidden] { display: none !important; }` so we also need the `!important` here to be able to override the default hidden behavior on the sphinx rendered scikit-learn.org. See: https://github.com/scikit-learn/scikit-learn/issues/21755 */display: inline-block !important;position: relative;}#sk-c4f8e792-30c5-495a-b1d6-6eb06b2e9b54 div.sk-text-repr-fallback {display: none;}</style><div id=\"sk-c4f8e792-30c5-495a-b1d6-6eb06b2e9b54\" class=\"sk-top-container\"><div class=\"sk-text-repr-fallback\"><pre>Pipeline(steps=[(&#x27;columntransformer&#x27;,\n",
       "                 ColumnTransformer(remainder=&#x27;passthrough&#x27;,\n",
       "                                   transformers=[(&#x27;pipeline-1&#x27;,\n",
       "                                                  Pipeline(steps=[(&#x27;standardscaler&#x27;,\n",
       "                                                                   StandardScaler())]),\n",
       "                                                  &lt;sklearn.compose._column_transformer.make_column_selector object at 0x7fa6f9cd5cd0&gt;),\n",
       "                                                 (&#x27;pipeline-2&#x27;,\n",
       "                                                  Pipeline(steps=[(&#x27;onehotencoder&#x27;,\n",
       "                                                                   OneHotEncoder(handle_unknown=&#x27;ignore&#x27;,\n",
       "                                                                                 sparse=False))]),\n",
       "                                                  &lt;sklearn.compose._column_transformer.make_column_selector object at 0x7fa6f9cd5be0&gt;)])),\n",
       "                (&#x27;linearregression&#x27;, LinearRegression())])</pre><b>Please rerun this cell to show the HTML repr or trust the notebook.</b></div><div class=\"sk-container\" hidden><div class=\"sk-item sk-dashed-wrapped\"><div class=\"sk-label-container\"><div class=\"sk-label sk-toggleable\"><input class=\"sk-toggleable__control sk-hidden--visually\" id=\"65139a65-703d-429e-a010-3e73e3503f5b\" type=\"checkbox\" ><label for=\"65139a65-703d-429e-a010-3e73e3503f5b\" class=\"sk-toggleable__label sk-toggleable__label-arrow\">Pipeline</label><div class=\"sk-toggleable__content\"><pre>Pipeline(steps=[(&#x27;columntransformer&#x27;,\n",
       "                 ColumnTransformer(remainder=&#x27;passthrough&#x27;,\n",
       "                                   transformers=[(&#x27;pipeline-1&#x27;,\n",
       "                                                  Pipeline(steps=[(&#x27;standardscaler&#x27;,\n",
       "                                                                   StandardScaler())]),\n",
       "                                                  &lt;sklearn.compose._column_transformer.make_column_selector object at 0x7fa6f9cd5cd0&gt;),\n",
       "                                                 (&#x27;pipeline-2&#x27;,\n",
       "                                                  Pipeline(steps=[(&#x27;onehotencoder&#x27;,\n",
       "                                                                   OneHotEncoder(handle_unknown=&#x27;ignore&#x27;,\n",
       "                                                                                 sparse=False))]),\n",
       "                                                  &lt;sklearn.compose._column_transformer.make_column_selector object at 0x7fa6f9cd5be0&gt;)])),\n",
       "                (&#x27;linearregression&#x27;, LinearRegression())])</pre></div></div></div><div class=\"sk-serial\"><div class=\"sk-item sk-dashed-wrapped\"><div class=\"sk-label-container\"><div class=\"sk-label sk-toggleable\"><input class=\"sk-toggleable__control sk-hidden--visually\" id=\"a971f0d4-84c5-41a0-ab57-70d730311330\" type=\"checkbox\" ><label for=\"a971f0d4-84c5-41a0-ab57-70d730311330\" class=\"sk-toggleable__label sk-toggleable__label-arrow\">columntransformer: ColumnTransformer</label><div class=\"sk-toggleable__content\"><pre>ColumnTransformer(remainder=&#x27;passthrough&#x27;,\n",
       "                  transformers=[(&#x27;pipeline-1&#x27;,\n",
       "                                 Pipeline(steps=[(&#x27;standardscaler&#x27;,\n",
       "                                                  StandardScaler())]),\n",
       "                                 &lt;sklearn.compose._column_transformer.make_column_selector object at 0x7fa6f9cd5cd0&gt;),\n",
       "                                (&#x27;pipeline-2&#x27;,\n",
       "                                 Pipeline(steps=[(&#x27;onehotencoder&#x27;,\n",
       "                                                  OneHotEncoder(handle_unknown=&#x27;ignore&#x27;,\n",
       "                                                                sparse=False))]),\n",
       "                                 &lt;sklearn.compose._column_transformer.make_column_selector object at 0x7fa6f9cd5be0&gt;)])</pre></div></div></div><div class=\"sk-parallel\"><div class=\"sk-parallel-item\"><div class=\"sk-item\"><div class=\"sk-label-container\"><div class=\"sk-label sk-toggleable\"><input class=\"sk-toggleable__control sk-hidden--visually\" id=\"54fe0c27-b0b8-4c35-98d8-65eb564db0a3\" type=\"checkbox\" ><label for=\"54fe0c27-b0b8-4c35-98d8-65eb564db0a3\" class=\"sk-toggleable__label sk-toggleable__label-arrow\">pipeline-1</label><div class=\"sk-toggleable__content\"><pre>&lt;sklearn.compose._column_transformer.make_column_selector object at 0x7fa6f9cd5cd0&gt;</pre></div></div></div><div class=\"sk-serial\"><div class=\"sk-item\"><div class=\"sk-serial\"><div class=\"sk-item\"><div class=\"sk-estimator sk-toggleable\"><input class=\"sk-toggleable__control sk-hidden--visually\" id=\"e3bf8014-2d5d-4ffc-81c8-32d3fd635652\" type=\"checkbox\" ><label for=\"e3bf8014-2d5d-4ffc-81c8-32d3fd635652\" class=\"sk-toggleable__label sk-toggleable__label-arrow\">StandardScaler</label><div class=\"sk-toggleable__content\"><pre>StandardScaler()</pre></div></div></div></div></div></div></div></div><div class=\"sk-parallel-item\"><div class=\"sk-item\"><div class=\"sk-label-container\"><div class=\"sk-label sk-toggleable\"><input class=\"sk-toggleable__control sk-hidden--visually\" id=\"34e2f368-797e-4265-9410-c624f3fd9a33\" type=\"checkbox\" ><label for=\"34e2f368-797e-4265-9410-c624f3fd9a33\" class=\"sk-toggleable__label sk-toggleable__label-arrow\">pipeline-2</label><div class=\"sk-toggleable__content\"><pre>&lt;sklearn.compose._column_transformer.make_column_selector object at 0x7fa6f9cd5be0&gt;</pre></div></div></div><div class=\"sk-serial\"><div class=\"sk-item\"><div class=\"sk-serial\"><div class=\"sk-item\"><div class=\"sk-estimator sk-toggleable\"><input class=\"sk-toggleable__control sk-hidden--visually\" id=\"67d9253e-a1c5-43ca-a97e-76520e57f4bb\" type=\"checkbox\" ><label for=\"67d9253e-a1c5-43ca-a97e-76520e57f4bb\" class=\"sk-toggleable__label sk-toggleable__label-arrow\">OneHotEncoder</label><div class=\"sk-toggleable__content\"><pre>OneHotEncoder(handle_unknown=&#x27;ignore&#x27;, sparse=False)</pre></div></div></div></div></div></div></div></div><div class=\"sk-parallel-item\"><div class=\"sk-item\"><div class=\"sk-label-container\"><div class=\"sk-label sk-toggleable\"><input class=\"sk-toggleable__control sk-hidden--visually\" id=\"688ac493-5f08-4aee-ac80-fb9213c205bb\" type=\"checkbox\" ><label for=\"688ac493-5f08-4aee-ac80-fb9213c205bb\" class=\"sk-toggleable__label sk-toggleable__label-arrow\">remainder</label><div class=\"sk-toggleable__content\"><pre>[]</pre></div></div></div><div class=\"sk-serial\"><div class=\"sk-item\"><div class=\"sk-estimator sk-toggleable\"><input class=\"sk-toggleable__control sk-hidden--visually\" id=\"8a0d47d2-80b1-4d57-aa3f-61264b8fd043\" type=\"checkbox\" ><label for=\"8a0d47d2-80b1-4d57-aa3f-61264b8fd043\" class=\"sk-toggleable__label sk-toggleable__label-arrow\">passthrough</label><div class=\"sk-toggleable__content\"><pre>passthrough</pre></div></div></div></div></div></div></div></div><div class=\"sk-item\"><div class=\"sk-estimator sk-toggleable\"><input class=\"sk-toggleable__control sk-hidden--visually\" id=\"4d10c850-d676-4340-8c21-bb8bb3a9f31c\" type=\"checkbox\" ><label for=\"4d10c850-d676-4340-8c21-bb8bb3a9f31c\" class=\"sk-toggleable__label sk-toggleable__label-arrow\">LinearRegression</label><div class=\"sk-toggleable__content\"><pre>LinearRegression()</pre></div></div></div></div></div></div></div>"
      ],
      "text/plain": [
       "Pipeline(steps=[('columntransformer',\n",
       "                 ColumnTransformer(remainder='passthrough',\n",
       "                                   transformers=[('pipeline-1',\n",
       "                                                  Pipeline(steps=[('standardscaler',\n",
       "                                                                   StandardScaler())]),\n",
       "                                                  <sklearn.compose._column_transformer.make_column_selector object at 0x7fa6f9cd5cd0>),\n",
       "                                                 ('pipeline-2',\n",
       "                                                  Pipeline(steps=[('onehotencoder',\n",
       "                                                                   OneHotEncoder(handle_unknown='ignore',\n",
       "                                                                                 sparse=False))]),\n",
       "                                                  <sklearn.compose._column_transformer.make_column_selector object at 0x7fa6f9cd5be0>)])),\n",
       "                ('linearregression', LinearRegression())])"
      ]
     },
     "execution_count": 30,
     "metadata": {},
     "output_type": "execute_result"
    }
   ],
   "source": [
    "#Fit the pipeline on to training data\n",
    "reg_pipeline.fit(X_train, y_train)"
   ]
  },
  {
   "cell_type": "code",
   "execution_count": 31,
   "metadata": {},
   "outputs": [
    {
     "data": {
      "text/plain": [
       "array([1350.53989015,  769.49265814,  835.27877997, ..., 3404.08440699,\n",
       "       1963.86080115, 2435.52430251])"
      ]
     },
     "execution_count": 31,
     "metadata": {},
     "output_type": "execute_result"
    }
   ],
   "source": [
    "#Checking predictions\n",
    "predictions = reg_pipeline.predict(X_test)\n",
    "predictions"
   ]
  },
  {
   "cell_type": "code",
   "execution_count": 32,
   "metadata": {},
   "outputs": [
    {
     "data": {
      "text/html": [
       "<div>\n",
       "<style scoped>\n",
       "    .dataframe tbody tr th:only-of-type {\n",
       "        vertical-align: middle;\n",
       "    }\n",
       "\n",
       "    .dataframe tbody tr th {\n",
       "        vertical-align: top;\n",
       "    }\n",
       "\n",
       "    .dataframe thead th {\n",
       "        text-align: right;\n",
       "    }\n",
       "</style>\n",
       "<table border=\"1\" class=\"dataframe\">\n",
       "  <thead>\n",
       "    <tr style=\"text-align: right;\">\n",
       "      <th></th>\n",
       "      <th>item_fat_content</th>\n",
       "      <th>item_visibility</th>\n",
       "      <th>item_type</th>\n",
       "      <th>mrp</th>\n",
       "      <th>loc_type</th>\n",
       "      <th>outlet_type</th>\n",
       "      <th>True Item Sale Price</th>\n",
       "      <th>Predicted Item Sale Price</th>\n",
       "      <th>Error</th>\n",
       "    </tr>\n",
       "  </thead>\n",
       "  <tbody>\n",
       "    <tr>\n",
       "      <th>7503</th>\n",
       "      <td>Low Fat</td>\n",
       "      <td>0.026300</td>\n",
       "      <td>Frozen Foods</td>\n",
       "      <td>79.4302</td>\n",
       "      <td>Tier 3</td>\n",
       "      <td>Supermarket Type1</td>\n",
       "      <td>1743.0644</td>\n",
       "      <td>1350.539890</td>\n",
       "      <td>-392.524510</td>\n",
       "    </tr>\n",
       "    <tr>\n",
       "      <th>2957</th>\n",
       "      <td>Low Fat</td>\n",
       "      <td>0.071136</td>\n",
       "      <td>Health and Hygiene</td>\n",
       "      <td>42.7086</td>\n",
       "      <td>Tier 1</td>\n",
       "      <td>Supermarket Type1</td>\n",
       "      <td>356.8688</td>\n",
       "      <td>769.492658</td>\n",
       "      <td>412.623858</td>\n",
       "    </tr>\n",
       "    <tr>\n",
       "      <th>7031</th>\n",
       "      <td>Regular</td>\n",
       "      <td>0.041313</td>\n",
       "      <td>Canned</td>\n",
       "      <td>42.0454</td>\n",
       "      <td>Tier 1</td>\n",
       "      <td>Supermarket Type1</td>\n",
       "      <td>377.5086</td>\n",
       "      <td>835.278780</td>\n",
       "      <td>457.770180</td>\n",
       "    </tr>\n",
       "    <tr>\n",
       "      <th>1084</th>\n",
       "      <td>Regular</td>\n",
       "      <td>0.044767</td>\n",
       "      <td>Soft Drinks</td>\n",
       "      <td>173.7054</td>\n",
       "      <td>Tier 3</td>\n",
       "      <td>Supermarket Type3</td>\n",
       "      <td>5778.4782</td>\n",
       "      <td>4235.522246</td>\n",
       "      <td>-1542.955954</td>\n",
       "    </tr>\n",
       "    <tr>\n",
       "      <th>856</th>\n",
       "      <td>Regular</td>\n",
       "      <td>0.012456</td>\n",
       "      <td>Meat</td>\n",
       "      <td>197.5110</td>\n",
       "      <td>Tier 2</td>\n",
       "      <td>Supermarket Type1</td>\n",
       "      <td>2356.9320</td>\n",
       "      <td>3258.974203</td>\n",
       "      <td>902.042203</td>\n",
       "    </tr>\n",
       "  </tbody>\n",
       "</table>\n",
       "</div>"
      ],
      "text/plain": [
       "     item_fat_content  item_visibility           item_type       mrp loc_type  \\\n",
       "7503          Low Fat         0.026300        Frozen Foods   79.4302   Tier 3   \n",
       "2957          Low Fat         0.071136  Health and Hygiene   42.7086   Tier 1   \n",
       "7031          Regular         0.041313              Canned   42.0454   Tier 1   \n",
       "1084          Regular         0.044767         Soft Drinks  173.7054   Tier 3   \n",
       "856           Regular         0.012456                Meat  197.5110   Tier 2   \n",
       "\n",
       "            outlet_type  True Item Sale Price  Predicted Item Sale Price  \\\n",
       "7503  Supermarket Type1             1743.0644                1350.539890   \n",
       "2957  Supermarket Type1              356.8688                 769.492658   \n",
       "7031  Supermarket Type1              377.5086                 835.278780   \n",
       "1084  Supermarket Type3             5778.4782                4235.522246   \n",
       "856   Supermarket Type1             2356.9320                3258.974203   \n",
       "\n",
       "            Error  \n",
       "7503  -392.524510  \n",
       "2957   412.623858  \n",
       "7031   457.770180  \n",
       "1084 -1542.955954  \n",
       "856    902.042203  "
      ]
     },
     "execution_count": 32,
     "metadata": {},
     "output_type": "execute_result"
    }
   ],
   "source": [
    "#Pushing predictions to dataframe for eaiser viewing. \n",
    "#Created an error column to display the difference from true item sale and predicted\n",
    "prediction_df = X_test.copy()\n",
    "prediction_df['True Item Sale Price'] = y_test\n",
    "prediction_df['Predicted Item Sale Price'] = predictions\n",
    "prediction_df['Error'] = predictions - y_test\n",
    "prediction_df.head()"
   ]
  },
  {
   "cell_type": "markdown",
   "metadata": {},
   "source": [
    "### Linear Regression  - Regression Metrics"
   ]
  },
  {
   "cell_type": "code",
   "execution_count": 33,
   "metadata": {},
   "outputs": [
    {
     "name": "stdout",
     "output_type": "stream",
     "text": [
      "Regression Tree Training Results\n",
      "RMSE Score: 1140.4177004801268\n",
      "R^2 Score: 0.5605433358643774\n",
      "\n",
      "\n",
      "Regression Tree Testing Results\n",
      "RMSE Score:  1094.4486751815027\n",
      "R^2 Score: 0.5658471318700873\n"
     ]
    }
   ],
   "source": [
    "reg_train_score= eval_regression(y_train, reg_pipeline.predict(X_train))\n",
    "reg_test_score = eval_regression(y_test, reg_pipeline.predict(X_test))\n",
    "print('Regression Tree Training Results')\n",
    "print(f'RMSE Score: {reg_train_score[0]}')\n",
    "print(f'R^2 Score: {reg_train_score[1]}')\n",
    "print('\\n')\n",
    "print('Regression Tree Testing Results')\n",
    "print(f'RMSE Score:  {reg_test_score[0]}')\n",
    "print(f'R^2 Score: {reg_test_score[1]}')"
   ]
  },
  {
   "cell_type": "markdown",
   "metadata": {},
   "source": [
    "### Regression Tree Model\n",
    "Prepping our data for our next Machine Learning model"
   ]
  },
  {
   "cell_type": "code",
   "execution_count": 34,
   "metadata": {},
   "outputs": [],
   "source": [
    "#Decision Tree Model\n",
    "dec_tree = DecisionTreeRegressor(random_state=42)\n",
    "\n",
    "#Decision Tree Pipeline\n",
    "#Passing in the preprocessor that has been created above. Saving us some time!\n",
    "#Then adding on the Decision Tree Regression model after our data has been preprocessed.\n",
    "dec_pipeline = make_pipeline(preprocessor, dec_tree)"
   ]
  },
  {
   "cell_type": "code",
   "execution_count": 35,
   "metadata": {},
   "outputs": [
    {
     "data": {
      "text/html": [
       "<style>#sk-1a5ab272-c60e-419d-bbc0-c995ad2b5653 {color: black;background-color: white;}#sk-1a5ab272-c60e-419d-bbc0-c995ad2b5653 pre{padding: 0;}#sk-1a5ab272-c60e-419d-bbc0-c995ad2b5653 div.sk-toggleable {background-color: white;}#sk-1a5ab272-c60e-419d-bbc0-c995ad2b5653 label.sk-toggleable__label {cursor: pointer;display: block;width: 100%;margin-bottom: 0;padding: 0.3em;box-sizing: border-box;text-align: center;}#sk-1a5ab272-c60e-419d-bbc0-c995ad2b5653 label.sk-toggleable__label-arrow:before {content: \"▸\";float: left;margin-right: 0.25em;color: #696969;}#sk-1a5ab272-c60e-419d-bbc0-c995ad2b5653 label.sk-toggleable__label-arrow:hover:before {color: black;}#sk-1a5ab272-c60e-419d-bbc0-c995ad2b5653 div.sk-estimator:hover label.sk-toggleable__label-arrow:before {color: black;}#sk-1a5ab272-c60e-419d-bbc0-c995ad2b5653 div.sk-toggleable__content {max-height: 0;max-width: 0;overflow: hidden;text-align: left;background-color: #f0f8ff;}#sk-1a5ab272-c60e-419d-bbc0-c995ad2b5653 div.sk-toggleable__content pre {margin: 0.2em;color: black;border-radius: 0.25em;background-color: #f0f8ff;}#sk-1a5ab272-c60e-419d-bbc0-c995ad2b5653 input.sk-toggleable__control:checked~div.sk-toggleable__content {max-height: 200px;max-width: 100%;overflow: auto;}#sk-1a5ab272-c60e-419d-bbc0-c995ad2b5653 input.sk-toggleable__control:checked~label.sk-toggleable__label-arrow:before {content: \"▾\";}#sk-1a5ab272-c60e-419d-bbc0-c995ad2b5653 div.sk-estimator input.sk-toggleable__control:checked~label.sk-toggleable__label {background-color: #d4ebff;}#sk-1a5ab272-c60e-419d-bbc0-c995ad2b5653 div.sk-label input.sk-toggleable__control:checked~label.sk-toggleable__label {background-color: #d4ebff;}#sk-1a5ab272-c60e-419d-bbc0-c995ad2b5653 input.sk-hidden--visually {border: 0;clip: rect(1px 1px 1px 1px);clip: rect(1px, 1px, 1px, 1px);height: 1px;margin: -1px;overflow: hidden;padding: 0;position: absolute;width: 1px;}#sk-1a5ab272-c60e-419d-bbc0-c995ad2b5653 div.sk-estimator {font-family: monospace;background-color: #f0f8ff;border: 1px dotted black;border-radius: 0.25em;box-sizing: border-box;margin-bottom: 0.5em;}#sk-1a5ab272-c60e-419d-bbc0-c995ad2b5653 div.sk-estimator:hover {background-color: #d4ebff;}#sk-1a5ab272-c60e-419d-bbc0-c995ad2b5653 div.sk-parallel-item::after {content: \"\";width: 100%;border-bottom: 1px solid gray;flex-grow: 1;}#sk-1a5ab272-c60e-419d-bbc0-c995ad2b5653 div.sk-label:hover label.sk-toggleable__label {background-color: #d4ebff;}#sk-1a5ab272-c60e-419d-bbc0-c995ad2b5653 div.sk-serial::before {content: \"\";position: absolute;border-left: 1px solid gray;box-sizing: border-box;top: 2em;bottom: 0;left: 50%;}#sk-1a5ab272-c60e-419d-bbc0-c995ad2b5653 div.sk-serial {display: flex;flex-direction: column;align-items: center;background-color: white;padding-right: 0.2em;padding-left: 0.2em;}#sk-1a5ab272-c60e-419d-bbc0-c995ad2b5653 div.sk-item {z-index: 1;}#sk-1a5ab272-c60e-419d-bbc0-c995ad2b5653 div.sk-parallel {display: flex;align-items: stretch;justify-content: center;background-color: white;}#sk-1a5ab272-c60e-419d-bbc0-c995ad2b5653 div.sk-parallel::before {content: \"\";position: absolute;border-left: 1px solid gray;box-sizing: border-box;top: 2em;bottom: 0;left: 50%;}#sk-1a5ab272-c60e-419d-bbc0-c995ad2b5653 div.sk-parallel-item {display: flex;flex-direction: column;position: relative;background-color: white;}#sk-1a5ab272-c60e-419d-bbc0-c995ad2b5653 div.sk-parallel-item:first-child::after {align-self: flex-end;width: 50%;}#sk-1a5ab272-c60e-419d-bbc0-c995ad2b5653 div.sk-parallel-item:last-child::after {align-self: flex-start;width: 50%;}#sk-1a5ab272-c60e-419d-bbc0-c995ad2b5653 div.sk-parallel-item:only-child::after {width: 0;}#sk-1a5ab272-c60e-419d-bbc0-c995ad2b5653 div.sk-dashed-wrapped {border: 1px dashed gray;margin: 0 0.4em 0.5em 0.4em;box-sizing: border-box;padding-bottom: 0.4em;background-color: white;position: relative;}#sk-1a5ab272-c60e-419d-bbc0-c995ad2b5653 div.sk-label label {font-family: monospace;font-weight: bold;background-color: white;display: inline-block;line-height: 1.2em;}#sk-1a5ab272-c60e-419d-bbc0-c995ad2b5653 div.sk-label-container {position: relative;z-index: 2;text-align: center;}#sk-1a5ab272-c60e-419d-bbc0-c995ad2b5653 div.sk-container {/* jupyter's `normalize.less` sets `[hidden] { display: none; }` but bootstrap.min.css set `[hidden] { display: none !important; }` so we also need the `!important` here to be able to override the default hidden behavior on the sphinx rendered scikit-learn.org. See: https://github.com/scikit-learn/scikit-learn/issues/21755 */display: inline-block !important;position: relative;}#sk-1a5ab272-c60e-419d-bbc0-c995ad2b5653 div.sk-text-repr-fallback {display: none;}</style><div id=\"sk-1a5ab272-c60e-419d-bbc0-c995ad2b5653\" class=\"sk-top-container\"><div class=\"sk-text-repr-fallback\"><pre>Pipeline(steps=[(&#x27;columntransformer&#x27;,\n",
       "                 ColumnTransformer(remainder=&#x27;passthrough&#x27;,\n",
       "                                   transformers=[(&#x27;pipeline-1&#x27;,\n",
       "                                                  Pipeline(steps=[(&#x27;standardscaler&#x27;,\n",
       "                                                                   StandardScaler())]),\n",
       "                                                  &lt;sklearn.compose._column_transformer.make_column_selector object at 0x7fa6f9cd5cd0&gt;),\n",
       "                                                 (&#x27;pipeline-2&#x27;,\n",
       "                                                  Pipeline(steps=[(&#x27;onehotencoder&#x27;,\n",
       "                                                                   OneHotEncoder(handle_unknown=&#x27;ignore&#x27;,\n",
       "                                                                                 sparse=False))]),\n",
       "                                                  &lt;sklearn.compose._column_transformer.make_column_selector object at 0x7fa6f9cd5be0&gt;)])),\n",
       "                (&#x27;decisiontreeregressor&#x27;,\n",
       "                 DecisionTreeRegressor(random_state=42))])</pre><b>Please rerun this cell to show the HTML repr or trust the notebook.</b></div><div class=\"sk-container\" hidden><div class=\"sk-item sk-dashed-wrapped\"><div class=\"sk-label-container\"><div class=\"sk-label sk-toggleable\"><input class=\"sk-toggleable__control sk-hidden--visually\" id=\"7e1762d2-ebfc-4a14-8d72-b6a6fa64e138\" type=\"checkbox\" ><label for=\"7e1762d2-ebfc-4a14-8d72-b6a6fa64e138\" class=\"sk-toggleable__label sk-toggleable__label-arrow\">Pipeline</label><div class=\"sk-toggleable__content\"><pre>Pipeline(steps=[(&#x27;columntransformer&#x27;,\n",
       "                 ColumnTransformer(remainder=&#x27;passthrough&#x27;,\n",
       "                                   transformers=[(&#x27;pipeline-1&#x27;,\n",
       "                                                  Pipeline(steps=[(&#x27;standardscaler&#x27;,\n",
       "                                                                   StandardScaler())]),\n",
       "                                                  &lt;sklearn.compose._column_transformer.make_column_selector object at 0x7fa6f9cd5cd0&gt;),\n",
       "                                                 (&#x27;pipeline-2&#x27;,\n",
       "                                                  Pipeline(steps=[(&#x27;onehotencoder&#x27;,\n",
       "                                                                   OneHotEncoder(handle_unknown=&#x27;ignore&#x27;,\n",
       "                                                                                 sparse=False))]),\n",
       "                                                  &lt;sklearn.compose._column_transformer.make_column_selector object at 0x7fa6f9cd5be0&gt;)])),\n",
       "                (&#x27;decisiontreeregressor&#x27;,\n",
       "                 DecisionTreeRegressor(random_state=42))])</pre></div></div></div><div class=\"sk-serial\"><div class=\"sk-item sk-dashed-wrapped\"><div class=\"sk-label-container\"><div class=\"sk-label sk-toggleable\"><input class=\"sk-toggleable__control sk-hidden--visually\" id=\"055c6a4b-d46f-4d2a-85ec-76eda5f37381\" type=\"checkbox\" ><label for=\"055c6a4b-d46f-4d2a-85ec-76eda5f37381\" class=\"sk-toggleable__label sk-toggleable__label-arrow\">columntransformer: ColumnTransformer</label><div class=\"sk-toggleable__content\"><pre>ColumnTransformer(remainder=&#x27;passthrough&#x27;,\n",
       "                  transformers=[(&#x27;pipeline-1&#x27;,\n",
       "                                 Pipeline(steps=[(&#x27;standardscaler&#x27;,\n",
       "                                                  StandardScaler())]),\n",
       "                                 &lt;sklearn.compose._column_transformer.make_column_selector object at 0x7fa6f9cd5cd0&gt;),\n",
       "                                (&#x27;pipeline-2&#x27;,\n",
       "                                 Pipeline(steps=[(&#x27;onehotencoder&#x27;,\n",
       "                                                  OneHotEncoder(handle_unknown=&#x27;ignore&#x27;,\n",
       "                                                                sparse=False))]),\n",
       "                                 &lt;sklearn.compose._column_transformer.make_column_selector object at 0x7fa6f9cd5be0&gt;)])</pre></div></div></div><div class=\"sk-parallel\"><div class=\"sk-parallel-item\"><div class=\"sk-item\"><div class=\"sk-label-container\"><div class=\"sk-label sk-toggleable\"><input class=\"sk-toggleable__control sk-hidden--visually\" id=\"7024b416-3e14-4e78-b8e3-92e9f140c4be\" type=\"checkbox\" ><label for=\"7024b416-3e14-4e78-b8e3-92e9f140c4be\" class=\"sk-toggleable__label sk-toggleable__label-arrow\">pipeline-1</label><div class=\"sk-toggleable__content\"><pre>&lt;sklearn.compose._column_transformer.make_column_selector object at 0x7fa6f9cd5cd0&gt;</pre></div></div></div><div class=\"sk-serial\"><div class=\"sk-item\"><div class=\"sk-serial\"><div class=\"sk-item\"><div class=\"sk-estimator sk-toggleable\"><input class=\"sk-toggleable__control sk-hidden--visually\" id=\"b7a26e1a-192b-49d1-b0dd-6595825ba82e\" type=\"checkbox\" ><label for=\"b7a26e1a-192b-49d1-b0dd-6595825ba82e\" class=\"sk-toggleable__label sk-toggleable__label-arrow\">StandardScaler</label><div class=\"sk-toggleable__content\"><pre>StandardScaler()</pre></div></div></div></div></div></div></div></div><div class=\"sk-parallel-item\"><div class=\"sk-item\"><div class=\"sk-label-container\"><div class=\"sk-label sk-toggleable\"><input class=\"sk-toggleable__control sk-hidden--visually\" id=\"5db05977-194e-49c9-9719-367d5d937521\" type=\"checkbox\" ><label for=\"5db05977-194e-49c9-9719-367d5d937521\" class=\"sk-toggleable__label sk-toggleable__label-arrow\">pipeline-2</label><div class=\"sk-toggleable__content\"><pre>&lt;sklearn.compose._column_transformer.make_column_selector object at 0x7fa6f9cd5be0&gt;</pre></div></div></div><div class=\"sk-serial\"><div class=\"sk-item\"><div class=\"sk-serial\"><div class=\"sk-item\"><div class=\"sk-estimator sk-toggleable\"><input class=\"sk-toggleable__control sk-hidden--visually\" id=\"b01f620a-a5e7-4648-b3d0-34cfbbce2bc6\" type=\"checkbox\" ><label for=\"b01f620a-a5e7-4648-b3d0-34cfbbce2bc6\" class=\"sk-toggleable__label sk-toggleable__label-arrow\">OneHotEncoder</label><div class=\"sk-toggleable__content\"><pre>OneHotEncoder(handle_unknown=&#x27;ignore&#x27;, sparse=False)</pre></div></div></div></div></div></div></div></div><div class=\"sk-parallel-item\"><div class=\"sk-item\"><div class=\"sk-label-container\"><div class=\"sk-label sk-toggleable\"><input class=\"sk-toggleable__control sk-hidden--visually\" id=\"c377c5fa-4c46-4359-b0b6-902513023fea\" type=\"checkbox\" ><label for=\"c377c5fa-4c46-4359-b0b6-902513023fea\" class=\"sk-toggleable__label sk-toggleable__label-arrow\">remainder</label><div class=\"sk-toggleable__content\"><pre>[]</pre></div></div></div><div class=\"sk-serial\"><div class=\"sk-item\"><div class=\"sk-estimator sk-toggleable\"><input class=\"sk-toggleable__control sk-hidden--visually\" id=\"bc659364-4f66-42d1-84bb-31831df5725c\" type=\"checkbox\" ><label for=\"bc659364-4f66-42d1-84bb-31831df5725c\" class=\"sk-toggleable__label sk-toggleable__label-arrow\">passthrough</label><div class=\"sk-toggleable__content\"><pre>passthrough</pre></div></div></div></div></div></div></div></div><div class=\"sk-item\"><div class=\"sk-estimator sk-toggleable\"><input class=\"sk-toggleable__control sk-hidden--visually\" id=\"4fed68f4-aae4-4172-b705-f874b2c9b36c\" type=\"checkbox\" ><label for=\"4fed68f4-aae4-4172-b705-f874b2c9b36c\" class=\"sk-toggleable__label sk-toggleable__label-arrow\">DecisionTreeRegressor</label><div class=\"sk-toggleable__content\"><pre>DecisionTreeRegressor(random_state=42)</pre></div></div></div></div></div></div></div>"
      ],
      "text/plain": [
       "Pipeline(steps=[('columntransformer',\n",
       "                 ColumnTransformer(remainder='passthrough',\n",
       "                                   transformers=[('pipeline-1',\n",
       "                                                  Pipeline(steps=[('standardscaler',\n",
       "                                                                   StandardScaler())]),\n",
       "                                                  <sklearn.compose._column_transformer.make_column_selector object at 0x7fa6f9cd5cd0>),\n",
       "                                                 ('pipeline-2',\n",
       "                                                  Pipeline(steps=[('onehotencoder',\n",
       "                                                                   OneHotEncoder(handle_unknown='ignore',\n",
       "                                                                                 sparse=False))]),\n",
       "                                                  <sklearn.compose._column_transformer.make_column_selector object at 0x7fa6f9cd5be0>)])),\n",
       "                ('decisiontreeregressor',\n",
       "                 DecisionTreeRegressor(random_state=42))])"
      ]
     },
     "execution_count": 35,
     "metadata": {},
     "output_type": "execute_result"
    }
   ],
   "source": [
    "#Fit the pipeline on to training data\n",
    "dec_pipeline.fit(X_train, y_train)"
   ]
  },
  {
   "cell_type": "markdown",
   "metadata": {},
   "source": [
    "### Decision Tree - Regression Metrics"
   ]
  },
  {
   "cell_type": "code",
   "execution_count": 36,
   "metadata": {},
   "outputs": [
    {
     "name": "stdout",
     "output_type": "stream",
     "text": [
      "Regression Tree Training Results\n",
      "RMSE Score: 0.0\n",
      "R^2 Score: 1.0\n",
      "\n",
      "\n",
      "Regression Tree Testing Results\n",
      "RMSE Score:  1508.0677735458733\n",
      "R^2 Score: 0.17568425820003153\n"
     ]
    }
   ],
   "source": [
    "dec_pipe_train_score = eval_regression(y_train, dec_pipeline.predict(X_train))\n",
    "dec_pipe_test_score = eval_regression(y_test, dec_pipeline.predict(X_test))\n",
    "\n",
    "print('Regression Tree Training Results')\n",
    "print(f'RMSE Score: {dec_pipe_train_score[0]}')\n",
    "print(f'R^2 Score: {dec_pipe_train_score[1]}')\n",
    "print('\\n')\n",
    "print('Regression Tree Testing Results')\n",
    "print(f'RMSE Score:  {dec_pipe_test_score[0]}')\n",
    "print(f'R^2 Score: {dec_pipe_test_score[1]}')"
   ]
  },
  {
   "cell_type": "markdown",
   "metadata": {},
   "source": [
    "### Further exploration for hypertuning"
   ]
  },
  {
   "cell_type": "code",
   "execution_count": 37,
   "metadata": {},
   "outputs": [
    {
     "data": {
      "text/plain": [
       "{'ccp_alpha': 0.0,\n",
       " 'criterion': 'squared_error',\n",
       " 'max_depth': None,\n",
       " 'max_features': None,\n",
       " 'max_leaf_nodes': None,\n",
       " 'min_impurity_decrease': 0.0,\n",
       " 'min_samples_leaf': 1,\n",
       " 'min_samples_split': 2,\n",
       " 'min_weight_fraction_leaf': 0.0,\n",
       " 'random_state': 42,\n",
       " 'splitter': 'best'}"
      ]
     },
     "execution_count": 37,
     "metadata": {},
     "output_type": "execute_result"
    }
   ],
   "source": [
    "dec_tree.get_params()"
   ]
  },
  {
   "cell_type": "code",
   "execution_count": 38,
   "metadata": {},
   "outputs": [
    {
     "name": "stdout",
     "output_type": "stream",
     "text": [
      "40\n",
      "6264\n"
     ]
    }
   ],
   "source": [
    "print(dec_tree.get_depth())\n",
    "print(dec_tree.get_n_leaves())"
   ]
  },
  {
   "cell_type": "markdown",
   "metadata": {},
   "source": [
    "### Create for loop to iterate through max tree depth to find most optimal depth"
   ]
  },
  {
   "cell_type": "code",
   "execution_count": 39,
   "metadata": {},
   "outputs": [],
   "source": [
    "depths = list(range(2,40))\n",
    "scores = pd.DataFrame(index=depths, columns=['Train Score', 'Test Score'])\n",
    "\n",
    "for d in depths:\n",
    "    dec_tree = DecisionTreeRegressor(max_depth=d, random_state=42)\n",
    "    dec_pipeline = make_pipeline(preprocessor, dec_tree)\n",
    "    dec_pipeline.fit(X_train, y_train)\n",
    "    train_score = dec_pipeline.score(X_train, y_train)\n",
    "    test_score = dec_pipeline.score(X_test, y_test)\n",
    "    scores.loc[d, 'Train Score'] = train_score\n",
    "    scores.loc[d, 'Test Score'] = test_score"
   ]
  },
  {
   "cell_type": "code",
   "execution_count": 40,
   "metadata": {},
   "outputs": [
    {
     "data": {
      "text/html": [
       "<div>\n",
       "<style scoped>\n",
       "    .dataframe tbody tr th:only-of-type {\n",
       "        vertical-align: middle;\n",
       "    }\n",
       "\n",
       "    .dataframe tbody tr th {\n",
       "        vertical-align: top;\n",
       "    }\n",
       "\n",
       "    .dataframe thead th {\n",
       "        text-align: right;\n",
       "    }\n",
       "</style>\n",
       "<table border=\"1\" class=\"dataframe\">\n",
       "  <thead>\n",
       "    <tr style=\"text-align: right;\">\n",
       "      <th></th>\n",
       "      <th>Train Score</th>\n",
       "      <th>Test Score</th>\n",
       "    </tr>\n",
       "  </thead>\n",
       "  <tbody>\n",
       "    <tr>\n",
       "      <th>2</th>\n",
       "      <td>0.431641</td>\n",
       "      <td>0.433778</td>\n",
       "    </tr>\n",
       "    <tr>\n",
       "      <th>3</th>\n",
       "      <td>0.524218</td>\n",
       "      <td>0.524222</td>\n",
       "    </tr>\n",
       "    <tr>\n",
       "      <th>4</th>\n",
       "      <td>0.582625</td>\n",
       "      <td>0.584005</td>\n",
       "    </tr>\n",
       "    <tr>\n",
       "      <th>5</th>\n",
       "      <td>0.603925</td>\n",
       "      <td>0.594747</td>\n",
       "    </tr>\n",
       "    <tr>\n",
       "      <th>6</th>\n",
       "      <td>0.614877</td>\n",
       "      <td>0.583905</td>\n",
       "    </tr>\n",
       "  </tbody>\n",
       "</table>\n",
       "</div>"
      ],
      "text/plain": [
       "  Train Score Test Score\n",
       "2    0.431641   0.433778\n",
       "3    0.524218   0.524222\n",
       "4    0.582625   0.584005\n",
       "5    0.603925   0.594747\n",
       "6    0.614877   0.583905"
      ]
     },
     "execution_count": 40,
     "metadata": {},
     "output_type": "execute_result"
    }
   ],
   "source": [
    "#Confirming our data saved to our newly built data frame\n",
    "scores.head()"
   ]
  },
  {
   "cell_type": "code",
   "execution_count": 41,
   "metadata": {},
   "outputs": [
    {
     "data": {
      "text/html": [
       "<div>\n",
       "<style scoped>\n",
       "    .dataframe tbody tr th:only-of-type {\n",
       "        vertical-align: middle;\n",
       "    }\n",
       "\n",
       "    .dataframe tbody tr th {\n",
       "        vertical-align: top;\n",
       "    }\n",
       "\n",
       "    .dataframe thead th {\n",
       "        text-align: right;\n",
       "    }\n",
       "</style>\n",
       "<table border=\"1\" class=\"dataframe\">\n",
       "  <thead>\n",
       "    <tr style=\"text-align: right;\">\n",
       "      <th></th>\n",
       "      <th>Train Score</th>\n",
       "      <th>Test Score</th>\n",
       "    </tr>\n",
       "  </thead>\n",
       "  <tbody>\n",
       "    <tr>\n",
       "      <th>5</th>\n",
       "      <td>0.603925</td>\n",
       "      <td>0.594747</td>\n",
       "    </tr>\n",
       "    <tr>\n",
       "      <th>4</th>\n",
       "      <td>0.582625</td>\n",
       "      <td>0.584005</td>\n",
       "    </tr>\n",
       "    <tr>\n",
       "      <th>6</th>\n",
       "      <td>0.614877</td>\n",
       "      <td>0.583905</td>\n",
       "    </tr>\n",
       "    <tr>\n",
       "      <th>7</th>\n",
       "      <td>0.625963</td>\n",
       "      <td>0.580576</td>\n",
       "    </tr>\n",
       "    <tr>\n",
       "      <th>8</th>\n",
       "      <td>0.641355</td>\n",
       "      <td>0.566699</td>\n",
       "    </tr>\n",
       "  </tbody>\n",
       "</table>\n",
       "</div>"
      ],
      "text/plain": [
       "  Train Score Test Score\n",
       "5    0.603925   0.594747\n",
       "4    0.582625   0.584005\n",
       "6    0.614877   0.583905\n",
       "7    0.625963   0.580576\n",
       "8    0.641355   0.566699"
      ]
     },
     "execution_count": 41,
     "metadata": {},
     "output_type": "execute_result"
    }
   ],
   "source": [
    "#Sort results by highest Test Score\n",
    "sorted_scores = scores.sort_values('Test Score', ascending=False)\n",
    "sorted_scores.head()"
   ]
  },
  {
   "cell_type": "markdown",
   "metadata": {},
   "source": [
    "### Plotting to confirm most optimal depth"
   ]
  },
  {
   "cell_type": "code",
   "execution_count": 42,
   "metadata": {},
   "outputs": [
    {
     "data": {
      "image/png": "[encoded data removed]",
      "text/plain": [
       "<Figure size 720x360 with 1 Axes>"
      ]
     },
     "metadata": {},
     "output_type": "display_data"
    }
   ],
   "source": [
    "plt.figure(figsize=(10,5))\n",
    "plt.style.use('seaborn-whitegrid')\n",
    "#plt.plot(depths, scores['Test Score'])\n",
    "plt.step(depths, scores['Test Score'], where='post')\n",
    "plt.plot(depths, scores['Test Score'], 'o--', color='grey', alpha=0.3)\n",
    "plt.xlabel('Max Depth')\n",
    "plt.ylabel('R2')\n",
    "plt.show()"
   ]
  },
  {
   "cell_type": "markdown",
   "metadata": {},
   "source": [
    "### Re-running our Decision Tree with new max_depth"
   ]
  },
  {
   "cell_type": "code",
   "execution_count": 43,
   "metadata": {},
   "outputs": [],
   "source": [
    "opt_dec_tree = DecisionTreeRegressor(max_depth=5, random_state=42)\n",
    "opt_dec_pipeline = make_pipeline(preprocessor, opt_dec_tree)\n",
    "opt_dec_pipeline.fit(X_train, y_train)\n",
    "opt_train_score = opt_dec_pipeline.score(X_train, y_train)\n",
    "opt_test_score = opt_dec_pipeline.score(X_test, y_test)"
   ]
  },
  {
   "cell_type": "markdown",
   "metadata": {},
   "source": [
    "### Tuned Decision Tree - Regression Metrics"
   ]
  },
  {
   "cell_type": "code",
   "execution_count": 44,
   "metadata": {},
   "outputs": [
    {
     "name": "stdout",
     "output_type": "stream",
     "text": [
      "Regression Tree Training Results\n",
      "RMSE Score: 1082.6656773340972\n",
      "R^2 Score: 0.6039254897160836\n",
      "\n",
      "\n",
      "Regression Tree Testing Results\n",
      "RMSE Score:  1057.3947626960721\n",
      "R^2 Score: 0.5947470502499344\n"
     ]
    }
   ],
   "source": [
    "#New optimal regression tree RMSE and R^2\n",
    "opt_dec_tree_train_score = eval_regression(y_train, opt_dec_pipeline.predict(X_train))\n",
    "opt_dec_tree_test_score = eval_regression(y_test, opt_dec_pipeline.predict(X_test))\n",
    "print('Regression Tree Training Results')\n",
    "print(f'RMSE Score: {opt_dec_tree_train_score[0]}')\n",
    "print(f'R^2 Score: {opt_dec_tree_train_score[1]}')\n",
    "print('\\n')\n",
    "print('Regression Tree Testing Results')\n",
    "print(f'RMSE Score:  {opt_dec_tree_test_score[0]}')\n",
    "print(f'R^2 Score: {opt_dec_tree_test_score[1]}')\n"
   ]
  },
  {
   "cell_type": "markdown",
   "metadata": {},
   "source": [
    "### Linear Regression and Tuned Decision Tree Regression Metrics Comparisons"
   ]
  },
  {
   "cell_type": "code",
   "execution_count": 45,
   "metadata": {},
   "outputs": [
    {
     "data": {
      "text/html": [
       "<div>\n",
       "<style scoped>\n",
       "    .dataframe tbody tr th:only-of-type {\n",
       "        vertical-align: middle;\n",
       "    }\n",
       "\n",
       "    .dataframe tbody tr th {\n",
       "        vertical-align: top;\n",
       "    }\n",
       "\n",
       "    .dataframe thead th {\n",
       "        text-align: right;\n",
       "    }\n",
       "</style>\n",
       "<table border=\"1\" class=\"dataframe\">\n",
       "  <thead>\n",
       "    <tr style=\"text-align: right;\">\n",
       "      <th></th>\n",
       "      <th>RMSE</th>\n",
       "      <th>R^2</th>\n",
       "    </tr>\n",
       "  </thead>\n",
       "  <tbody>\n",
       "    <tr>\n",
       "      <th>Linear Reg Train Score</th>\n",
       "      <td>1140.4177</td>\n",
       "      <td>0.560543</td>\n",
       "    </tr>\n",
       "    <tr>\n",
       "      <th>Linear Reg Test Score</th>\n",
       "      <td>1094.448675</td>\n",
       "      <td>0.565847</td>\n",
       "    </tr>\n",
       "    <tr>\n",
       "      <th>Reg Tree Train Score</th>\n",
       "      <td>1082.665677</td>\n",
       "      <td>0.603925</td>\n",
       "    </tr>\n",
       "    <tr>\n",
       "      <th>Reg Tree Test Score</th>\n",
       "      <td>1057.394763</td>\n",
       "      <td>0.594747</td>\n",
       "    </tr>\n",
       "  </tbody>\n",
       "</table>\n",
       "</div>"
      ],
      "text/plain": [
       "                               RMSE       R^2\n",
       "Linear Reg Train Score    1140.4177  0.560543\n",
       "Linear Reg Test Score   1094.448675  0.565847\n",
       "Reg Tree Train Score    1082.665677  0.603925\n",
       "Reg Tree Test Score     1057.394763  0.594747"
      ]
     },
     "execution_count": 45,
     "metadata": {},
     "output_type": "execute_result"
    }
   ],
   "source": [
    "#Linear Regression train/test and Optimal Regression Tree train/test results in Dataframe\n",
    "df_index = ['Linear Reg Train Score', 'Linear Reg Test Score', 'Reg Tree Train Score', 'Reg Tree Test Score']\n",
    "reg_df = pd.DataFrame(index=df_index, columns=['RMSE', 'R^2'])\n",
    "reg_df.loc['Linear Reg Train Score'] = [reg_train_score[0], reg_train_score[1]]\n",
    "reg_df.loc['Linear Reg Test Score'] = [reg_test_score[0], reg_test_score[1]]\n",
    "reg_df.loc['Reg Tree Train Score'] = [opt_dec_tree_train_score[0], opt_dec_tree_train_score[1]]\n",
    "reg_df.loc['Reg Tree Test Score'] = [opt_dec_tree_test_score[0], opt_dec_tree_test_score[1]]\n",
    "reg_df"
   ]
  },
  {
   "cell_type": "markdown",
   "metadata": {},
   "source": [
    "### Summary\n",
    "Based on the regression metrics of both models, it's clear that once we addressed the overfitting issue on the Decision Tree training data, the model performed better by roughtly 45%. \n",
    "\n",
    "The implementation of both these models suggest that with some tuning, the Regression Tree performed slightly better than the linear regression model. The R^2 on the Regression Tree suggests that 59% of the target can be realted back to our features data. \n",
    "\n",
    "In conclusion, out of the two machine learning models created, the Regression Tree would be the more ideal choice in this scenario. "
   ]
  }
 ],
 "metadata": {
  "colab": {
   "collapsed_sections": [],
   "name": "Sales Predictions Part 5.ipynb",
   "provenance": []
  },
  "kernelspec": {
   "display_name": "Python 3 (ipykernel)",
   "language": "python",
   "name": "python3"
  },
  "language_info": {
   "codemirror_mode": {
    "name": "ipython",
    "version": 3
   },
   "file_extension": ".py",
   "mimetype": "text/x-python",
   "name": "python",
   "nbconvert_exporter": "python",
   "pygments_lexer": "ipython3",
   "version": "3.9.12"
  }
 },
 "nbformat": 4,
 "nbformat_minor": 1
}
